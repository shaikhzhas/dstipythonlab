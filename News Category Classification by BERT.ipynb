{
  "nbformat": 4,
  "nbformat_minor": 0,
  "metadata": {
    "kernelspec": {
      "display_name": "Python 3",
      "language": "python",
      "name": "python3"
    },
    "language_info": {
      "codemirror_mode": {
        "name": "ipython",
        "version": 3
      },
      "file_extension": ".py",
      "mimetype": "text/x-python",
      "name": "python",
      "nbconvert_exporter": "python",
      "pygments_lexer": "ipython3",
      "version": "3.8.5"
    },
    "colab": {
      "name": "Text Analysis with Spacy.ipynb",
      "provenance": []
    },
    "accelerator": "GPU",
    "widgets": {
      "application/vnd.jupyter.widget-state+json": {
        "7dfdb3cf9fe24dcbbf3bcc22433c1e96": {
          "model_module": "@jupyter-widgets/controls",
          "model_name": "HBoxModel",
          "state": {
            "_view_name": "HBoxView",
            "_dom_classes": [],
            "_model_name": "HBoxModel",
            "_view_module": "@jupyter-widgets/controls",
            "_model_module_version": "1.5.0",
            "_view_count": null,
            "_view_module_version": "1.5.0",
            "box_style": "",
            "layout": "IPY_MODEL_f0a3984bd83f45009f1e7e37d12549a0",
            "_model_module": "@jupyter-widgets/controls",
            "children": [
              "IPY_MODEL_e2dc1909b57e481e94f4c7c27b9bb164",
              "IPY_MODEL_605b7a6d38ca41ed8b9b89ea8dceac9d"
            ]
          }
        },
        "f0a3984bd83f45009f1e7e37d12549a0": {
          "model_module": "@jupyter-widgets/base",
          "model_name": "LayoutModel",
          "state": {
            "_view_name": "LayoutView",
            "grid_template_rows": null,
            "right": null,
            "justify_content": null,
            "_view_module": "@jupyter-widgets/base",
            "overflow": null,
            "_model_module_version": "1.2.0",
            "_view_count": null,
            "flex_flow": null,
            "width": null,
            "min_width": null,
            "border": null,
            "align_items": null,
            "bottom": null,
            "_model_module": "@jupyter-widgets/base",
            "top": null,
            "grid_column": null,
            "overflow_y": null,
            "overflow_x": null,
            "grid_auto_flow": null,
            "grid_area": null,
            "grid_template_columns": null,
            "flex": null,
            "_model_name": "LayoutModel",
            "justify_items": null,
            "grid_row": null,
            "max_height": null,
            "align_content": null,
            "visibility": null,
            "align_self": null,
            "height": null,
            "min_height": null,
            "padding": null,
            "grid_auto_rows": null,
            "grid_gap": null,
            "max_width": null,
            "order": null,
            "_view_module_version": "1.2.0",
            "grid_template_areas": null,
            "object_position": null,
            "object_fit": null,
            "grid_auto_columns": null,
            "margin": null,
            "display": null,
            "left": null
          }
        },
        "e2dc1909b57e481e94f4c7c27b9bb164": {
          "model_module": "@jupyter-widgets/controls",
          "model_name": "FloatProgressModel",
          "state": {
            "_view_name": "ProgressView",
            "style": "IPY_MODEL_e621e3b651c94751a8eba35b83330137",
            "_dom_classes": [],
            "description": "100%",
            "_model_name": "FloatProgressModel",
            "bar_style": "success",
            "max": 5,
            "_view_module": "@jupyter-widgets/controls",
            "_model_module_version": "1.5.0",
            "value": 5,
            "_view_count": null,
            "_view_module_version": "1.5.0",
            "orientation": "horizontal",
            "min": 0,
            "description_tooltip": null,
            "_model_module": "@jupyter-widgets/controls",
            "layout": "IPY_MODEL_d72fc011b58b4a46be34729e6dcdae41"
          }
        },
        "605b7a6d38ca41ed8b9b89ea8dceac9d": {
          "model_module": "@jupyter-widgets/controls",
          "model_name": "HTMLModel",
          "state": {
            "_view_name": "HTMLView",
            "style": "IPY_MODEL_4865e234663d4a1a85e7c95df304eaea",
            "_dom_classes": [],
            "description": "",
            "_model_name": "HTMLModel",
            "placeholder": "​",
            "_view_module": "@jupyter-widgets/controls",
            "_model_module_version": "1.5.0",
            "value": " 5/5 [15:03&lt;00:00, 180.61s/it]",
            "_view_count": null,
            "_view_module_version": "1.5.0",
            "description_tooltip": null,
            "_model_module": "@jupyter-widgets/controls",
            "layout": "IPY_MODEL_1a440a12c3f94bba884ea534074c3aee"
          }
        },
        "e621e3b651c94751a8eba35b83330137": {
          "model_module": "@jupyter-widgets/controls",
          "model_name": "ProgressStyleModel",
          "state": {
            "_view_name": "StyleView",
            "_model_name": "ProgressStyleModel",
            "description_width": "initial",
            "_view_module": "@jupyter-widgets/base",
            "_model_module_version": "1.5.0",
            "_view_count": null,
            "_view_module_version": "1.2.0",
            "bar_color": null,
            "_model_module": "@jupyter-widgets/controls"
          }
        },
        "d72fc011b58b4a46be34729e6dcdae41": {
          "model_module": "@jupyter-widgets/base",
          "model_name": "LayoutModel",
          "state": {
            "_view_name": "LayoutView",
            "grid_template_rows": null,
            "right": null,
            "justify_content": null,
            "_view_module": "@jupyter-widgets/base",
            "overflow": null,
            "_model_module_version": "1.2.0",
            "_view_count": null,
            "flex_flow": null,
            "width": null,
            "min_width": null,
            "border": null,
            "align_items": null,
            "bottom": null,
            "_model_module": "@jupyter-widgets/base",
            "top": null,
            "grid_column": null,
            "overflow_y": null,
            "overflow_x": null,
            "grid_auto_flow": null,
            "grid_area": null,
            "grid_template_columns": null,
            "flex": null,
            "_model_name": "LayoutModel",
            "justify_items": null,
            "grid_row": null,
            "max_height": null,
            "align_content": null,
            "visibility": null,
            "align_self": null,
            "height": null,
            "min_height": null,
            "padding": null,
            "grid_auto_rows": null,
            "grid_gap": null,
            "max_width": null,
            "order": null,
            "_view_module_version": "1.2.0",
            "grid_template_areas": null,
            "object_position": null,
            "object_fit": null,
            "grid_auto_columns": null,
            "margin": null,
            "display": null,
            "left": null
          }
        },
        "4865e234663d4a1a85e7c95df304eaea": {
          "model_module": "@jupyter-widgets/controls",
          "model_name": "DescriptionStyleModel",
          "state": {
            "_view_name": "StyleView",
            "_model_name": "DescriptionStyleModel",
            "description_width": "",
            "_view_module": "@jupyter-widgets/base",
            "_model_module_version": "1.5.0",
            "_view_count": null,
            "_view_module_version": "1.2.0",
            "_model_module": "@jupyter-widgets/controls"
          }
        },
        "1a440a12c3f94bba884ea534074c3aee": {
          "model_module": "@jupyter-widgets/base",
          "model_name": "LayoutModel",
          "state": {
            "_view_name": "LayoutView",
            "grid_template_rows": null,
            "right": null,
            "justify_content": null,
            "_view_module": "@jupyter-widgets/base",
            "overflow": null,
            "_model_module_version": "1.2.0",
            "_view_count": null,
            "flex_flow": null,
            "width": null,
            "min_width": null,
            "border": null,
            "align_items": null,
            "bottom": null,
            "_model_module": "@jupyter-widgets/base",
            "top": null,
            "grid_column": null,
            "overflow_y": null,
            "overflow_x": null,
            "grid_auto_flow": null,
            "grid_area": null,
            "grid_template_columns": null,
            "flex": null,
            "_model_name": "LayoutModel",
            "justify_items": null,
            "grid_row": null,
            "max_height": null,
            "align_content": null,
            "visibility": null,
            "align_self": null,
            "height": null,
            "min_height": null,
            "padding": null,
            "grid_auto_rows": null,
            "grid_gap": null,
            "max_width": null,
            "order": null,
            "_view_module_version": "1.2.0",
            "grid_template_areas": null,
            "object_position": null,
            "object_fit": null,
            "grid_auto_columns": null,
            "margin": null,
            "display": null,
            "left": null
          }
        },
        "07e30277c6c145fcaf09f41836fb5aa3": {
          "model_module": "@jupyter-widgets/controls",
          "model_name": "HBoxModel",
          "state": {
            "_view_name": "HBoxView",
            "_dom_classes": [],
            "_model_name": "HBoxModel",
            "_view_module": "@jupyter-widgets/controls",
            "_model_module_version": "1.5.0",
            "_view_count": null,
            "_view_module_version": "1.5.0",
            "box_style": "",
            "layout": "IPY_MODEL_2500e0d9821c498dbd84597cf3303712",
            "_model_module": "@jupyter-widgets/controls",
            "children": [
              "IPY_MODEL_39588d67a01940f093538f84e0a246b6",
              "IPY_MODEL_5ddc09eef6784136b21e5fe04b228f43"
            ]
          }
        },
        "2500e0d9821c498dbd84597cf3303712": {
          "model_module": "@jupyter-widgets/base",
          "model_name": "LayoutModel",
          "state": {
            "_view_name": "LayoutView",
            "grid_template_rows": null,
            "right": null,
            "justify_content": null,
            "_view_module": "@jupyter-widgets/base",
            "overflow": null,
            "_model_module_version": "1.2.0",
            "_view_count": null,
            "flex_flow": null,
            "width": null,
            "min_width": null,
            "border": null,
            "align_items": null,
            "bottom": null,
            "_model_module": "@jupyter-widgets/base",
            "top": null,
            "grid_column": null,
            "overflow_y": null,
            "overflow_x": null,
            "grid_auto_flow": null,
            "grid_area": null,
            "grid_template_columns": null,
            "flex": null,
            "_model_name": "LayoutModel",
            "justify_items": null,
            "grid_row": null,
            "max_height": null,
            "align_content": null,
            "visibility": null,
            "align_self": null,
            "height": null,
            "min_height": null,
            "padding": null,
            "grid_auto_rows": null,
            "grid_gap": null,
            "max_width": null,
            "order": null,
            "_view_module_version": "1.2.0",
            "grid_template_areas": null,
            "object_position": null,
            "object_fit": null,
            "grid_auto_columns": null,
            "margin": null,
            "display": null,
            "left": null
          }
        },
        "39588d67a01940f093538f84e0a246b6": {
          "model_module": "@jupyter-widgets/controls",
          "model_name": "FloatProgressModel",
          "state": {
            "_view_name": "ProgressView",
            "style": "IPY_MODEL_affa18a2ef8c4fe5ae172db82fdd1dd2",
            "_dom_classes": [],
            "description": "Epoch 1: 100%",
            "_model_name": "FloatProgressModel",
            "bar_style": "",
            "max": 513,
            "_view_module": "@jupyter-widgets/controls",
            "_model_module_version": "1.5.0",
            "value": 513,
            "_view_count": null,
            "_view_module_version": "1.5.0",
            "orientation": "horizontal",
            "min": 0,
            "description_tooltip": null,
            "_model_module": "@jupyter-widgets/controls",
            "layout": "IPY_MODEL_cf4647e2692840a894e09b70a242a623"
          }
        },
        "5ddc09eef6784136b21e5fe04b228f43": {
          "model_module": "@jupyter-widgets/controls",
          "model_name": "HTMLModel",
          "state": {
            "_view_name": "HTMLView",
            "style": "IPY_MODEL_254b226ac1aa46ccbc2e445238f722cb",
            "_dom_classes": [],
            "description": "",
            "_model_name": "HTMLModel",
            "placeholder": "​",
            "_view_module": "@jupyter-widgets/controls",
            "_model_module_version": "1.5.0",
            "value": " 513/513 [02:49&lt;00:00,  3.25it/s, training_loss=0.621]",
            "_view_count": null,
            "_view_module_version": "1.5.0",
            "description_tooltip": null,
            "_model_module": "@jupyter-widgets/controls",
            "layout": "IPY_MODEL_88457f1338334dfcb6c92917dfdd1178"
          }
        },
        "affa18a2ef8c4fe5ae172db82fdd1dd2": {
          "model_module": "@jupyter-widgets/controls",
          "model_name": "ProgressStyleModel",
          "state": {
            "_view_name": "StyleView",
            "_model_name": "ProgressStyleModel",
            "description_width": "initial",
            "_view_module": "@jupyter-widgets/base",
            "_model_module_version": "1.5.0",
            "_view_count": null,
            "_view_module_version": "1.2.0",
            "bar_color": null,
            "_model_module": "@jupyter-widgets/controls"
          }
        },
        "cf4647e2692840a894e09b70a242a623": {
          "model_module": "@jupyter-widgets/base",
          "model_name": "LayoutModel",
          "state": {
            "_view_name": "LayoutView",
            "grid_template_rows": null,
            "right": null,
            "justify_content": null,
            "_view_module": "@jupyter-widgets/base",
            "overflow": null,
            "_model_module_version": "1.2.0",
            "_view_count": null,
            "flex_flow": null,
            "width": null,
            "min_width": null,
            "border": null,
            "align_items": null,
            "bottom": null,
            "_model_module": "@jupyter-widgets/base",
            "top": null,
            "grid_column": null,
            "overflow_y": null,
            "overflow_x": null,
            "grid_auto_flow": null,
            "grid_area": null,
            "grid_template_columns": null,
            "flex": null,
            "_model_name": "LayoutModel",
            "justify_items": null,
            "grid_row": null,
            "max_height": null,
            "align_content": null,
            "visibility": null,
            "align_self": null,
            "height": null,
            "min_height": null,
            "padding": null,
            "grid_auto_rows": null,
            "grid_gap": null,
            "max_width": null,
            "order": null,
            "_view_module_version": "1.2.0",
            "grid_template_areas": null,
            "object_position": null,
            "object_fit": null,
            "grid_auto_columns": null,
            "margin": null,
            "display": null,
            "left": null
          }
        },
        "254b226ac1aa46ccbc2e445238f722cb": {
          "model_module": "@jupyter-widgets/controls",
          "model_name": "DescriptionStyleModel",
          "state": {
            "_view_name": "StyleView",
            "_model_name": "DescriptionStyleModel",
            "description_width": "",
            "_view_module": "@jupyter-widgets/base",
            "_model_module_version": "1.5.0",
            "_view_count": null,
            "_view_module_version": "1.2.0",
            "_model_module": "@jupyter-widgets/controls"
          }
        },
        "88457f1338334dfcb6c92917dfdd1178": {
          "model_module": "@jupyter-widgets/base",
          "model_name": "LayoutModel",
          "state": {
            "_view_name": "LayoutView",
            "grid_template_rows": null,
            "right": null,
            "justify_content": null,
            "_view_module": "@jupyter-widgets/base",
            "overflow": null,
            "_model_module_version": "1.2.0",
            "_view_count": null,
            "flex_flow": null,
            "width": null,
            "min_width": null,
            "border": null,
            "align_items": null,
            "bottom": null,
            "_model_module": "@jupyter-widgets/base",
            "top": null,
            "grid_column": null,
            "overflow_y": null,
            "overflow_x": null,
            "grid_auto_flow": null,
            "grid_area": null,
            "grid_template_columns": null,
            "flex": null,
            "_model_name": "LayoutModel",
            "justify_items": null,
            "grid_row": null,
            "max_height": null,
            "align_content": null,
            "visibility": null,
            "align_self": null,
            "height": null,
            "min_height": null,
            "padding": null,
            "grid_auto_rows": null,
            "grid_gap": null,
            "max_width": null,
            "order": null,
            "_view_module_version": "1.2.0",
            "grid_template_areas": null,
            "object_position": null,
            "object_fit": null,
            "grid_auto_columns": null,
            "margin": null,
            "display": null,
            "left": null
          }
        },
        "fce0987f39a1463fafc445dfd5f649bf": {
          "model_module": "@jupyter-widgets/controls",
          "model_name": "HBoxModel",
          "state": {
            "_view_name": "HBoxView",
            "_dom_classes": [],
            "_model_name": "HBoxModel",
            "_view_module": "@jupyter-widgets/controls",
            "_model_module_version": "1.5.0",
            "_view_count": null,
            "_view_module_version": "1.5.0",
            "box_style": "",
            "layout": "IPY_MODEL_aef3abc8d584408b83a7c7ed6e05accd",
            "_model_module": "@jupyter-widgets/controls",
            "children": [
              "IPY_MODEL_07e32966223c4ec49fe757e9e2b754e3",
              "IPY_MODEL_a59b4aeaa5da4090b8006bc9a0fa86de"
            ]
          }
        },
        "aef3abc8d584408b83a7c7ed6e05accd": {
          "model_module": "@jupyter-widgets/base",
          "model_name": "LayoutModel",
          "state": {
            "_view_name": "LayoutView",
            "grid_template_rows": null,
            "right": null,
            "justify_content": null,
            "_view_module": "@jupyter-widgets/base",
            "overflow": null,
            "_model_module_version": "1.2.0",
            "_view_count": null,
            "flex_flow": null,
            "width": null,
            "min_width": null,
            "border": null,
            "align_items": null,
            "bottom": null,
            "_model_module": "@jupyter-widgets/base",
            "top": null,
            "grid_column": null,
            "overflow_y": null,
            "overflow_x": null,
            "grid_auto_flow": null,
            "grid_area": null,
            "grid_template_columns": null,
            "flex": null,
            "_model_name": "LayoutModel",
            "justify_items": null,
            "grid_row": null,
            "max_height": null,
            "align_content": null,
            "visibility": null,
            "align_self": null,
            "height": null,
            "min_height": null,
            "padding": null,
            "grid_auto_rows": null,
            "grid_gap": null,
            "max_width": null,
            "order": null,
            "_view_module_version": "1.2.0",
            "grid_template_areas": null,
            "object_position": null,
            "object_fit": null,
            "grid_auto_columns": null,
            "margin": null,
            "display": null,
            "left": null
          }
        },
        "07e32966223c4ec49fe757e9e2b754e3": {
          "model_module": "@jupyter-widgets/controls",
          "model_name": "FloatProgressModel",
          "state": {
            "_view_name": "ProgressView",
            "style": "IPY_MODEL_4fe4d9fe8b0140049c09849714ce9a77",
            "_dom_classes": [],
            "description": "Epoch 2: 100%",
            "_model_name": "FloatProgressModel",
            "bar_style": "",
            "max": 513,
            "_view_module": "@jupyter-widgets/controls",
            "_model_module_version": "1.5.0",
            "value": 513,
            "_view_count": null,
            "_view_module_version": "1.5.0",
            "orientation": "horizontal",
            "min": 0,
            "description_tooltip": null,
            "_model_module": "@jupyter-widgets/controls",
            "layout": "IPY_MODEL_f5268ab1f2e34193844563184b93d384"
          }
        },
        "a59b4aeaa5da4090b8006bc9a0fa86de": {
          "model_module": "@jupyter-widgets/controls",
          "model_name": "HTMLModel",
          "state": {
            "_view_name": "HTMLView",
            "style": "IPY_MODEL_3853aa53f8c6439eb531422cb176a59d",
            "_dom_classes": [],
            "description": "",
            "_model_name": "HTMLModel",
            "placeholder": "​",
            "_view_module": "@jupyter-widgets/controls",
            "_model_module_version": "1.5.0",
            "value": " 513/513 [02:49&lt;00:00,  3.26it/s, training_loss=0.571]",
            "_view_count": null,
            "_view_module_version": "1.5.0",
            "description_tooltip": null,
            "_model_module": "@jupyter-widgets/controls",
            "layout": "IPY_MODEL_77a595eeef8e4dfdbdfe891c9f8c787c"
          }
        },
        "4fe4d9fe8b0140049c09849714ce9a77": {
          "model_module": "@jupyter-widgets/controls",
          "model_name": "ProgressStyleModel",
          "state": {
            "_view_name": "StyleView",
            "_model_name": "ProgressStyleModel",
            "description_width": "initial",
            "_view_module": "@jupyter-widgets/base",
            "_model_module_version": "1.5.0",
            "_view_count": null,
            "_view_module_version": "1.2.0",
            "bar_color": null,
            "_model_module": "@jupyter-widgets/controls"
          }
        },
        "f5268ab1f2e34193844563184b93d384": {
          "model_module": "@jupyter-widgets/base",
          "model_name": "LayoutModel",
          "state": {
            "_view_name": "LayoutView",
            "grid_template_rows": null,
            "right": null,
            "justify_content": null,
            "_view_module": "@jupyter-widgets/base",
            "overflow": null,
            "_model_module_version": "1.2.0",
            "_view_count": null,
            "flex_flow": null,
            "width": null,
            "min_width": null,
            "border": null,
            "align_items": null,
            "bottom": null,
            "_model_module": "@jupyter-widgets/base",
            "top": null,
            "grid_column": null,
            "overflow_y": null,
            "overflow_x": null,
            "grid_auto_flow": null,
            "grid_area": null,
            "grid_template_columns": null,
            "flex": null,
            "_model_name": "LayoutModel",
            "justify_items": null,
            "grid_row": null,
            "max_height": null,
            "align_content": null,
            "visibility": null,
            "align_self": null,
            "height": null,
            "min_height": null,
            "padding": null,
            "grid_auto_rows": null,
            "grid_gap": null,
            "max_width": null,
            "order": null,
            "_view_module_version": "1.2.0",
            "grid_template_areas": null,
            "object_position": null,
            "object_fit": null,
            "grid_auto_columns": null,
            "margin": null,
            "display": null,
            "left": null
          }
        },
        "3853aa53f8c6439eb531422cb176a59d": {
          "model_module": "@jupyter-widgets/controls",
          "model_name": "DescriptionStyleModel",
          "state": {
            "_view_name": "StyleView",
            "_model_name": "DescriptionStyleModel",
            "description_width": "",
            "_view_module": "@jupyter-widgets/base",
            "_model_module_version": "1.5.0",
            "_view_count": null,
            "_view_module_version": "1.2.0",
            "_model_module": "@jupyter-widgets/controls"
          }
        },
        "77a595eeef8e4dfdbdfe891c9f8c787c": {
          "model_module": "@jupyter-widgets/base",
          "model_name": "LayoutModel",
          "state": {
            "_view_name": "LayoutView",
            "grid_template_rows": null,
            "right": null,
            "justify_content": null,
            "_view_module": "@jupyter-widgets/base",
            "overflow": null,
            "_model_module_version": "1.2.0",
            "_view_count": null,
            "flex_flow": null,
            "width": null,
            "min_width": null,
            "border": null,
            "align_items": null,
            "bottom": null,
            "_model_module": "@jupyter-widgets/base",
            "top": null,
            "grid_column": null,
            "overflow_y": null,
            "overflow_x": null,
            "grid_auto_flow": null,
            "grid_area": null,
            "grid_template_columns": null,
            "flex": null,
            "_model_name": "LayoutModel",
            "justify_items": null,
            "grid_row": null,
            "max_height": null,
            "align_content": null,
            "visibility": null,
            "align_self": null,
            "height": null,
            "min_height": null,
            "padding": null,
            "grid_auto_rows": null,
            "grid_gap": null,
            "max_width": null,
            "order": null,
            "_view_module_version": "1.2.0",
            "grid_template_areas": null,
            "object_position": null,
            "object_fit": null,
            "grid_auto_columns": null,
            "margin": null,
            "display": null,
            "left": null
          }
        },
        "f8ef18c84cda46458d3cb96c0bca7b47": {
          "model_module": "@jupyter-widgets/controls",
          "model_name": "HBoxModel",
          "state": {
            "_view_name": "HBoxView",
            "_dom_classes": [],
            "_model_name": "HBoxModel",
            "_view_module": "@jupyter-widgets/controls",
            "_model_module_version": "1.5.0",
            "_view_count": null,
            "_view_module_version": "1.5.0",
            "box_style": "",
            "layout": "IPY_MODEL_fb892127a7824cccbfd7daf16126fbcc",
            "_model_module": "@jupyter-widgets/controls",
            "children": [
              "IPY_MODEL_77dcee571bee49d69a3347b7d2ab38fb",
              "IPY_MODEL_b87fd85d3b54451bb315d33112d086b2"
            ]
          }
        },
        "fb892127a7824cccbfd7daf16126fbcc": {
          "model_module": "@jupyter-widgets/base",
          "model_name": "LayoutModel",
          "state": {
            "_view_name": "LayoutView",
            "grid_template_rows": null,
            "right": null,
            "justify_content": null,
            "_view_module": "@jupyter-widgets/base",
            "overflow": null,
            "_model_module_version": "1.2.0",
            "_view_count": null,
            "flex_flow": null,
            "width": null,
            "min_width": null,
            "border": null,
            "align_items": null,
            "bottom": null,
            "_model_module": "@jupyter-widgets/base",
            "top": null,
            "grid_column": null,
            "overflow_y": null,
            "overflow_x": null,
            "grid_auto_flow": null,
            "grid_area": null,
            "grid_template_columns": null,
            "flex": null,
            "_model_name": "LayoutModel",
            "justify_items": null,
            "grid_row": null,
            "max_height": null,
            "align_content": null,
            "visibility": null,
            "align_self": null,
            "height": null,
            "min_height": null,
            "padding": null,
            "grid_auto_rows": null,
            "grid_gap": null,
            "max_width": null,
            "order": null,
            "_view_module_version": "1.2.0",
            "grid_template_areas": null,
            "object_position": null,
            "object_fit": null,
            "grid_auto_columns": null,
            "margin": null,
            "display": null,
            "left": null
          }
        },
        "77dcee571bee49d69a3347b7d2ab38fb": {
          "model_module": "@jupyter-widgets/controls",
          "model_name": "FloatProgressModel",
          "state": {
            "_view_name": "ProgressView",
            "style": "IPY_MODEL_11f618c6e42c49ab84e234dfede66df6",
            "_dom_classes": [],
            "description": "Epoch 3: 100%",
            "_model_name": "FloatProgressModel",
            "bar_style": "",
            "max": 513,
            "_view_module": "@jupyter-widgets/controls",
            "_model_module_version": "1.5.0",
            "value": 513,
            "_view_count": null,
            "_view_module_version": "1.5.0",
            "orientation": "horizontal",
            "min": 0,
            "description_tooltip": null,
            "_model_module": "@jupyter-widgets/controls",
            "layout": "IPY_MODEL_a5996320b6564be8a33f4dcd8af0f561"
          }
        },
        "b87fd85d3b54451bb315d33112d086b2": {
          "model_module": "@jupyter-widgets/controls",
          "model_name": "HTMLModel",
          "state": {
            "_view_name": "HTMLView",
            "style": "IPY_MODEL_a31f134f05274218b073b75933c0e75d",
            "_dom_classes": [],
            "description": "",
            "_model_name": "HTMLModel",
            "placeholder": "​",
            "_view_module": "@jupyter-widgets/controls",
            "_model_module_version": "1.5.0",
            "value": " 513/513 [02:50&lt;00:00,  3.23it/s, training_loss=0.564]",
            "_view_count": null,
            "_view_module_version": "1.5.0",
            "description_tooltip": null,
            "_model_module": "@jupyter-widgets/controls",
            "layout": "IPY_MODEL_dbbb923be9eb454ca919239d7bd5ffe8"
          }
        },
        "11f618c6e42c49ab84e234dfede66df6": {
          "model_module": "@jupyter-widgets/controls",
          "model_name": "ProgressStyleModel",
          "state": {
            "_view_name": "StyleView",
            "_model_name": "ProgressStyleModel",
            "description_width": "initial",
            "_view_module": "@jupyter-widgets/base",
            "_model_module_version": "1.5.0",
            "_view_count": null,
            "_view_module_version": "1.2.0",
            "bar_color": null,
            "_model_module": "@jupyter-widgets/controls"
          }
        },
        "a5996320b6564be8a33f4dcd8af0f561": {
          "model_module": "@jupyter-widgets/base",
          "model_name": "LayoutModel",
          "state": {
            "_view_name": "LayoutView",
            "grid_template_rows": null,
            "right": null,
            "justify_content": null,
            "_view_module": "@jupyter-widgets/base",
            "overflow": null,
            "_model_module_version": "1.2.0",
            "_view_count": null,
            "flex_flow": null,
            "width": null,
            "min_width": null,
            "border": null,
            "align_items": null,
            "bottom": null,
            "_model_module": "@jupyter-widgets/base",
            "top": null,
            "grid_column": null,
            "overflow_y": null,
            "overflow_x": null,
            "grid_auto_flow": null,
            "grid_area": null,
            "grid_template_columns": null,
            "flex": null,
            "_model_name": "LayoutModel",
            "justify_items": null,
            "grid_row": null,
            "max_height": null,
            "align_content": null,
            "visibility": null,
            "align_self": null,
            "height": null,
            "min_height": null,
            "padding": null,
            "grid_auto_rows": null,
            "grid_gap": null,
            "max_width": null,
            "order": null,
            "_view_module_version": "1.2.0",
            "grid_template_areas": null,
            "object_position": null,
            "object_fit": null,
            "grid_auto_columns": null,
            "margin": null,
            "display": null,
            "left": null
          }
        },
        "a31f134f05274218b073b75933c0e75d": {
          "model_module": "@jupyter-widgets/controls",
          "model_name": "DescriptionStyleModel",
          "state": {
            "_view_name": "StyleView",
            "_model_name": "DescriptionStyleModel",
            "description_width": "",
            "_view_module": "@jupyter-widgets/base",
            "_model_module_version": "1.5.0",
            "_view_count": null,
            "_view_module_version": "1.2.0",
            "_model_module": "@jupyter-widgets/controls"
          }
        },
        "dbbb923be9eb454ca919239d7bd5ffe8": {
          "model_module": "@jupyter-widgets/base",
          "model_name": "LayoutModel",
          "state": {
            "_view_name": "LayoutView",
            "grid_template_rows": null,
            "right": null,
            "justify_content": null,
            "_view_module": "@jupyter-widgets/base",
            "overflow": null,
            "_model_module_version": "1.2.0",
            "_view_count": null,
            "flex_flow": null,
            "width": null,
            "min_width": null,
            "border": null,
            "align_items": null,
            "bottom": null,
            "_model_module": "@jupyter-widgets/base",
            "top": null,
            "grid_column": null,
            "overflow_y": null,
            "overflow_x": null,
            "grid_auto_flow": null,
            "grid_area": null,
            "grid_template_columns": null,
            "flex": null,
            "_model_name": "LayoutModel",
            "justify_items": null,
            "grid_row": null,
            "max_height": null,
            "align_content": null,
            "visibility": null,
            "align_self": null,
            "height": null,
            "min_height": null,
            "padding": null,
            "grid_auto_rows": null,
            "grid_gap": null,
            "max_width": null,
            "order": null,
            "_view_module_version": "1.2.0",
            "grid_template_areas": null,
            "object_position": null,
            "object_fit": null,
            "grid_auto_columns": null,
            "margin": null,
            "display": null,
            "left": null
          }
        },
        "cf85a7386eec4004b10f8792e09c09bf": {
          "model_module": "@jupyter-widgets/controls",
          "model_name": "HBoxModel",
          "state": {
            "_view_name": "HBoxView",
            "_dom_classes": [],
            "_model_name": "HBoxModel",
            "_view_module": "@jupyter-widgets/controls",
            "_model_module_version": "1.5.0",
            "_view_count": null,
            "_view_module_version": "1.5.0",
            "box_style": "",
            "layout": "IPY_MODEL_2605d2bfb4af413b96c0bf9f422051a4",
            "_model_module": "@jupyter-widgets/controls",
            "children": [
              "IPY_MODEL_59654014d0c64c19b01db3bfda940bf0",
              "IPY_MODEL_a5dcc9b298e340c5a756958ef0d7d51f"
            ]
          }
        },
        "2605d2bfb4af413b96c0bf9f422051a4": {
          "model_module": "@jupyter-widgets/base",
          "model_name": "LayoutModel",
          "state": {
            "_view_name": "LayoutView",
            "grid_template_rows": null,
            "right": null,
            "justify_content": null,
            "_view_module": "@jupyter-widgets/base",
            "overflow": null,
            "_model_module_version": "1.2.0",
            "_view_count": null,
            "flex_flow": null,
            "width": null,
            "min_width": null,
            "border": null,
            "align_items": null,
            "bottom": null,
            "_model_module": "@jupyter-widgets/base",
            "top": null,
            "grid_column": null,
            "overflow_y": null,
            "overflow_x": null,
            "grid_auto_flow": null,
            "grid_area": null,
            "grid_template_columns": null,
            "flex": null,
            "_model_name": "LayoutModel",
            "justify_items": null,
            "grid_row": null,
            "max_height": null,
            "align_content": null,
            "visibility": null,
            "align_self": null,
            "height": null,
            "min_height": null,
            "padding": null,
            "grid_auto_rows": null,
            "grid_gap": null,
            "max_width": null,
            "order": null,
            "_view_module_version": "1.2.0",
            "grid_template_areas": null,
            "object_position": null,
            "object_fit": null,
            "grid_auto_columns": null,
            "margin": null,
            "display": null,
            "left": null
          }
        },
        "59654014d0c64c19b01db3bfda940bf0": {
          "model_module": "@jupyter-widgets/controls",
          "model_name": "FloatProgressModel",
          "state": {
            "_view_name": "ProgressView",
            "style": "IPY_MODEL_d23ede0cc07c4c62943287ee9ee13ddb",
            "_dom_classes": [],
            "description": "Epoch 4: 100%",
            "_model_name": "FloatProgressModel",
            "bar_style": "",
            "max": 513,
            "_view_module": "@jupyter-widgets/controls",
            "_model_module_version": "1.5.0",
            "value": 513,
            "_view_count": null,
            "_view_module_version": "1.5.0",
            "orientation": "horizontal",
            "min": 0,
            "description_tooltip": null,
            "_model_module": "@jupyter-widgets/controls",
            "layout": "IPY_MODEL_ec98b2a670df41b3bbf379a1d377edcc"
          }
        },
        "a5dcc9b298e340c5a756958ef0d7d51f": {
          "model_module": "@jupyter-widgets/controls",
          "model_name": "HTMLModel",
          "state": {
            "_view_name": "HTMLView",
            "style": "IPY_MODEL_0a9fe775e96141cb97ee054da782f1f8",
            "_dom_classes": [],
            "description": "",
            "_model_name": "HTMLModel",
            "placeholder": "​",
            "_view_module": "@jupyter-widgets/controls",
            "_model_module_version": "1.5.0",
            "value": " 513/513 [02:50&lt;00:00,  3.26it/s, training_loss=0.118]",
            "_view_count": null,
            "_view_module_version": "1.5.0",
            "description_tooltip": null,
            "_model_module": "@jupyter-widgets/controls",
            "layout": "IPY_MODEL_14dfe7d6ed004ceea019e66e05b31227"
          }
        },
        "d23ede0cc07c4c62943287ee9ee13ddb": {
          "model_module": "@jupyter-widgets/controls",
          "model_name": "ProgressStyleModel",
          "state": {
            "_view_name": "StyleView",
            "_model_name": "ProgressStyleModel",
            "description_width": "initial",
            "_view_module": "@jupyter-widgets/base",
            "_model_module_version": "1.5.0",
            "_view_count": null,
            "_view_module_version": "1.2.0",
            "bar_color": null,
            "_model_module": "@jupyter-widgets/controls"
          }
        },
        "ec98b2a670df41b3bbf379a1d377edcc": {
          "model_module": "@jupyter-widgets/base",
          "model_name": "LayoutModel",
          "state": {
            "_view_name": "LayoutView",
            "grid_template_rows": null,
            "right": null,
            "justify_content": null,
            "_view_module": "@jupyter-widgets/base",
            "overflow": null,
            "_model_module_version": "1.2.0",
            "_view_count": null,
            "flex_flow": null,
            "width": null,
            "min_width": null,
            "border": null,
            "align_items": null,
            "bottom": null,
            "_model_module": "@jupyter-widgets/base",
            "top": null,
            "grid_column": null,
            "overflow_y": null,
            "overflow_x": null,
            "grid_auto_flow": null,
            "grid_area": null,
            "grid_template_columns": null,
            "flex": null,
            "_model_name": "LayoutModel",
            "justify_items": null,
            "grid_row": null,
            "max_height": null,
            "align_content": null,
            "visibility": null,
            "align_self": null,
            "height": null,
            "min_height": null,
            "padding": null,
            "grid_auto_rows": null,
            "grid_gap": null,
            "max_width": null,
            "order": null,
            "_view_module_version": "1.2.0",
            "grid_template_areas": null,
            "object_position": null,
            "object_fit": null,
            "grid_auto_columns": null,
            "margin": null,
            "display": null,
            "left": null
          }
        },
        "0a9fe775e96141cb97ee054da782f1f8": {
          "model_module": "@jupyter-widgets/controls",
          "model_name": "DescriptionStyleModel",
          "state": {
            "_view_name": "StyleView",
            "_model_name": "DescriptionStyleModel",
            "description_width": "",
            "_view_module": "@jupyter-widgets/base",
            "_model_module_version": "1.5.0",
            "_view_count": null,
            "_view_module_version": "1.2.0",
            "_model_module": "@jupyter-widgets/controls"
          }
        },
        "14dfe7d6ed004ceea019e66e05b31227": {
          "model_module": "@jupyter-widgets/base",
          "model_name": "LayoutModel",
          "state": {
            "_view_name": "LayoutView",
            "grid_template_rows": null,
            "right": null,
            "justify_content": null,
            "_view_module": "@jupyter-widgets/base",
            "overflow": null,
            "_model_module_version": "1.2.0",
            "_view_count": null,
            "flex_flow": null,
            "width": null,
            "min_width": null,
            "border": null,
            "align_items": null,
            "bottom": null,
            "_model_module": "@jupyter-widgets/base",
            "top": null,
            "grid_column": null,
            "overflow_y": null,
            "overflow_x": null,
            "grid_auto_flow": null,
            "grid_area": null,
            "grid_template_columns": null,
            "flex": null,
            "_model_name": "LayoutModel",
            "justify_items": null,
            "grid_row": null,
            "max_height": null,
            "align_content": null,
            "visibility": null,
            "align_self": null,
            "height": null,
            "min_height": null,
            "padding": null,
            "grid_auto_rows": null,
            "grid_gap": null,
            "max_width": null,
            "order": null,
            "_view_module_version": "1.2.0",
            "grid_template_areas": null,
            "object_position": null,
            "object_fit": null,
            "grid_auto_columns": null,
            "margin": null,
            "display": null,
            "left": null
          }
        },
        "795d1b903c5b4370a111007633dbcc94": {
          "model_module": "@jupyter-widgets/controls",
          "model_name": "HBoxModel",
          "state": {
            "_view_name": "HBoxView",
            "_dom_classes": [],
            "_model_name": "HBoxModel",
            "_view_module": "@jupyter-widgets/controls",
            "_model_module_version": "1.5.0",
            "_view_count": null,
            "_view_module_version": "1.5.0",
            "box_style": "",
            "layout": "IPY_MODEL_9cca2b8ae2b640cebd6980ccbf7b8644",
            "_model_module": "@jupyter-widgets/controls",
            "children": [
              "IPY_MODEL_e22b4b3516bc443fb2be9a3b018bcd36",
              "IPY_MODEL_af89ae8a6ea84999b382608aebb7bec9"
            ]
          }
        },
        "9cca2b8ae2b640cebd6980ccbf7b8644": {
          "model_module": "@jupyter-widgets/base",
          "model_name": "LayoutModel",
          "state": {
            "_view_name": "LayoutView",
            "grid_template_rows": null,
            "right": null,
            "justify_content": null,
            "_view_module": "@jupyter-widgets/base",
            "overflow": null,
            "_model_module_version": "1.2.0",
            "_view_count": null,
            "flex_flow": null,
            "width": null,
            "min_width": null,
            "border": null,
            "align_items": null,
            "bottom": null,
            "_model_module": "@jupyter-widgets/base",
            "top": null,
            "grid_column": null,
            "overflow_y": null,
            "overflow_x": null,
            "grid_auto_flow": null,
            "grid_area": null,
            "grid_template_columns": null,
            "flex": null,
            "_model_name": "LayoutModel",
            "justify_items": null,
            "grid_row": null,
            "max_height": null,
            "align_content": null,
            "visibility": null,
            "align_self": null,
            "height": null,
            "min_height": null,
            "padding": null,
            "grid_auto_rows": null,
            "grid_gap": null,
            "max_width": null,
            "order": null,
            "_view_module_version": "1.2.0",
            "grid_template_areas": null,
            "object_position": null,
            "object_fit": null,
            "grid_auto_columns": null,
            "margin": null,
            "display": null,
            "left": null
          }
        },
        "e22b4b3516bc443fb2be9a3b018bcd36": {
          "model_module": "@jupyter-widgets/controls",
          "model_name": "FloatProgressModel",
          "state": {
            "_view_name": "ProgressView",
            "style": "IPY_MODEL_3f3de306ef9d47a18307fb45539bde72",
            "_dom_classes": [],
            "description": "Epoch 5: 100%",
            "_model_name": "FloatProgressModel",
            "bar_style": "",
            "max": 513,
            "_view_module": "@jupyter-widgets/controls",
            "_model_module_version": "1.5.0",
            "value": 513,
            "_view_count": null,
            "_view_module_version": "1.5.0",
            "orientation": "horizontal",
            "min": 0,
            "description_tooltip": null,
            "_model_module": "@jupyter-widgets/controls",
            "layout": "IPY_MODEL_d13e2b9da41d4896871f8fbc2081942d"
          }
        },
        "af89ae8a6ea84999b382608aebb7bec9": {
          "model_module": "@jupyter-widgets/controls",
          "model_name": "HTMLModel",
          "state": {
            "_view_name": "HTMLView",
            "style": "IPY_MODEL_240a80c999a1400288daeb0c67026f74",
            "_dom_classes": [],
            "description": "",
            "_model_name": "HTMLModel",
            "placeholder": "​",
            "_view_module": "@jupyter-widgets/controls",
            "_model_module_version": "1.5.0",
            "value": " 513/513 [02:50&lt;00:00,  3.26it/s, training_loss=0.083]",
            "_view_count": null,
            "_view_module_version": "1.5.0",
            "description_tooltip": null,
            "_model_module": "@jupyter-widgets/controls",
            "layout": "IPY_MODEL_b9424048d769443b8fb659256ac9dc7c"
          }
        },
        "3f3de306ef9d47a18307fb45539bde72": {
          "model_module": "@jupyter-widgets/controls",
          "model_name": "ProgressStyleModel",
          "state": {
            "_view_name": "StyleView",
            "_model_name": "ProgressStyleModel",
            "description_width": "initial",
            "_view_module": "@jupyter-widgets/base",
            "_model_module_version": "1.5.0",
            "_view_count": null,
            "_view_module_version": "1.2.0",
            "bar_color": null,
            "_model_module": "@jupyter-widgets/controls"
          }
        },
        "d13e2b9da41d4896871f8fbc2081942d": {
          "model_module": "@jupyter-widgets/base",
          "model_name": "LayoutModel",
          "state": {
            "_view_name": "LayoutView",
            "grid_template_rows": null,
            "right": null,
            "justify_content": null,
            "_view_module": "@jupyter-widgets/base",
            "overflow": null,
            "_model_module_version": "1.2.0",
            "_view_count": null,
            "flex_flow": null,
            "width": null,
            "min_width": null,
            "border": null,
            "align_items": null,
            "bottom": null,
            "_model_module": "@jupyter-widgets/base",
            "top": null,
            "grid_column": null,
            "overflow_y": null,
            "overflow_x": null,
            "grid_auto_flow": null,
            "grid_area": null,
            "grid_template_columns": null,
            "flex": null,
            "_model_name": "LayoutModel",
            "justify_items": null,
            "grid_row": null,
            "max_height": null,
            "align_content": null,
            "visibility": null,
            "align_self": null,
            "height": null,
            "min_height": null,
            "padding": null,
            "grid_auto_rows": null,
            "grid_gap": null,
            "max_width": null,
            "order": null,
            "_view_module_version": "1.2.0",
            "grid_template_areas": null,
            "object_position": null,
            "object_fit": null,
            "grid_auto_columns": null,
            "margin": null,
            "display": null,
            "left": null
          }
        },
        "240a80c999a1400288daeb0c67026f74": {
          "model_module": "@jupyter-widgets/controls",
          "model_name": "DescriptionStyleModel",
          "state": {
            "_view_name": "StyleView",
            "_model_name": "DescriptionStyleModel",
            "description_width": "",
            "_view_module": "@jupyter-widgets/base",
            "_model_module_version": "1.5.0",
            "_view_count": null,
            "_view_module_version": "1.2.0",
            "_model_module": "@jupyter-widgets/controls"
          }
        },
        "b9424048d769443b8fb659256ac9dc7c": {
          "model_module": "@jupyter-widgets/base",
          "model_name": "LayoutModel",
          "state": {
            "_view_name": "LayoutView",
            "grid_template_rows": null,
            "right": null,
            "justify_content": null,
            "_view_module": "@jupyter-widgets/base",
            "overflow": null,
            "_model_module_version": "1.2.0",
            "_view_count": null,
            "flex_flow": null,
            "width": null,
            "min_width": null,
            "border": null,
            "align_items": null,
            "bottom": null,
            "_model_module": "@jupyter-widgets/base",
            "top": null,
            "grid_column": null,
            "overflow_y": null,
            "overflow_x": null,
            "grid_auto_flow": null,
            "grid_area": null,
            "grid_template_columns": null,
            "flex": null,
            "_model_name": "LayoutModel",
            "justify_items": null,
            "grid_row": null,
            "max_height": null,
            "align_content": null,
            "visibility": null,
            "align_self": null,
            "height": null,
            "min_height": null,
            "padding": null,
            "grid_auto_rows": null,
            "grid_gap": null,
            "max_width": null,
            "order": null,
            "_view_module_version": "1.2.0",
            "grid_template_areas": null,
            "object_position": null,
            "object_fit": null,
            "grid_auto_columns": null,
            "margin": null,
            "display": null,
            "left": null
          }
        }
      }
    }
  },
  "cells": [
    {
      "cell_type": "markdown",
      "metadata": {
        "id": "WxIwMVAXllyD"
      },
      "source": [
        "# Python project for DSTI class "
      ]
    },
    {
      "cell_type": "markdown",
      "metadata": {
        "id": "jUH6akyillyO"
      },
      "source": [
        "1. [Data Ingestion](#section1)\n",
        "\n",
        "\n",
        "2. [Data Preprocessing](#section2)\n",
        "\n",
        "\n",
        "3. [EDA](#section3)\n",
        "\n",
        "\n",
        "4. [NLP](#section4)\n",
        "\n",
        "    4.1 [Tokenizing the text](#section41)\n",
        "    \n",
        "    4.2 [Extracting keywords from text : NER](#section42)\n",
        "    \n",
        "\n",
        "5. [Deep Learning](#section5)\n",
        "\n",
        "    5.1. [Encoding the Labels](#section51)\n",
        "\n",
        "    5.2. [Train and Validation Split](#section52)\n",
        "\n",
        "    5.3. [BertTokenizer and Encoding the Data](#section53)\n",
        "    \n",
        "    5.4. [BERT Pre-trained Model](#section54)\n",
        "    \n",
        "    5.5. [Data Loaders](#section55)\n",
        "    \n",
        "    5.6. [Optimizer & Scheduler](#section56)\n",
        "    \n",
        "    5.7. [Performance Metrics](#section57)\n",
        "    \n",
        "    5.8. [Training Loop](#section58)\n",
        "    \n",
        "    5.9. [Loading and Evaluating the Model](#section59)"
      ]
    },
    {
      "cell_type": "markdown",
      "metadata": {
        "id": "RytDtTX0llyQ"
      },
      "source": [
        "# 1. Data Ingestion\n",
        "<a id=\"section1\"> </a>"
      ]
    },
    {
      "cell_type": "code",
      "metadata": {
        "id": "0sMjM-CKllyS"
      },
      "source": [
        "# Importing needed libraries\n",
        "import numpy as np\n",
        "import pandas as pd\n",
        "import matplotlib.pyplot as plt\n",
        "%matplotlib inline\n",
        "from collections import Counter,defaultdict\n",
        "\n",
        "\n",
        "import plotly.figure_factory as ff\n",
        "import plotly.graph_objects as go\n",
        "import plotly.express as px\n",
        "\n",
        "pd.set_option('display.max_columns', 200)\n",
        "pd.set_option('display.max_rows', 200)\n",
        "pd.set_option('display.max_colwidth', 200)"
      ],
      "execution_count": 2,
      "outputs": []
    },
    {
      "cell_type": "code",
      "metadata": {
        "id": "0JVpgPvSllyT"
      },
      "source": [
        "df = pd.read_json('News_Category_Dataset_v2.json', lines=True)"
      ],
      "execution_count": 33,
      "outputs": []
    },
    {
      "cell_type": "code",
      "metadata": {
        "colab": {
          "base_uri": "https://localhost:8080/",
          "height": 374
        },
        "id": "MMx9y7dOllyT",
        "outputId": "74bc9064-b4c1-47ab-8afd-fb874288d00d"
      },
      "source": [
        "df.head()"
      ],
      "execution_count": 34,
      "outputs": [
        {
          "output_type": "execute_result",
          "data": {
            "text/html": [
              "<div>\n",
              "<style scoped>\n",
              "    .dataframe tbody tr th:only-of-type {\n",
              "        vertical-align: middle;\n",
              "    }\n",
              "\n",
              "    .dataframe tbody tr th {\n",
              "        vertical-align: top;\n",
              "    }\n",
              "\n",
              "    .dataframe thead th {\n",
              "        text-align: right;\n",
              "    }\n",
              "</style>\n",
              "<table border=\"1\" class=\"dataframe\">\n",
              "  <thead>\n",
              "    <tr style=\"text-align: right;\">\n",
              "      <th></th>\n",
              "      <th>category</th>\n",
              "      <th>headline</th>\n",
              "      <th>authors</th>\n",
              "      <th>link</th>\n",
              "      <th>short_description</th>\n",
              "      <th>date</th>\n",
              "    </tr>\n",
              "  </thead>\n",
              "  <tbody>\n",
              "    <tr>\n",
              "      <th>0</th>\n",
              "      <td>CRIME</td>\n",
              "      <td>There Were 2 Mass Shootings In Texas Last Week, But Only 1 On TV</td>\n",
              "      <td>Melissa Jeltsen</td>\n",
              "      <td>https://www.huffingtonpost.com/entry/texas-amanda-painter-mass-shooting_us_5b081ab4e4b0802d69caad89</td>\n",
              "      <td>She left her husband. He killed their children. Just another day in America.</td>\n",
              "      <td>2018-05-26</td>\n",
              "    </tr>\n",
              "    <tr>\n",
              "      <th>1</th>\n",
              "      <td>ENTERTAINMENT</td>\n",
              "      <td>Will Smith Joins Diplo And Nicky Jam For The 2018 World Cup's Official Song</td>\n",
              "      <td>Andy McDonald</td>\n",
              "      <td>https://www.huffingtonpost.com/entry/will-smith-joins-diplo-and-nicky-jam-for-the-official-2018-world-cup-song_us_5b09726fe4b0fdb2aa541201</td>\n",
              "      <td>Of course it has a song.</td>\n",
              "      <td>2018-05-26</td>\n",
              "    </tr>\n",
              "    <tr>\n",
              "      <th>2</th>\n",
              "      <td>ENTERTAINMENT</td>\n",
              "      <td>Hugh Grant Marries For The First Time At Age 57</td>\n",
              "      <td>Ron Dicker</td>\n",
              "      <td>https://www.huffingtonpost.com/entry/hugh-grant-marries_us_5b09212ce4b0568a880b9a8c</td>\n",
              "      <td>The actor and his longtime girlfriend Anna Eberstein tied the knot in a civil ceremony.</td>\n",
              "      <td>2018-05-26</td>\n",
              "    </tr>\n",
              "    <tr>\n",
              "      <th>3</th>\n",
              "      <td>ENTERTAINMENT</td>\n",
              "      <td>Jim Carrey Blasts 'Castrato' Adam Schiff And Democrats In New Artwork</td>\n",
              "      <td>Ron Dicker</td>\n",
              "      <td>https://www.huffingtonpost.com/entry/jim-carrey-adam-schiff-democrats_us_5b0950e8e4b0fdb2aa53e675</td>\n",
              "      <td>The actor gives Dems an ass-kicking for not fighting hard enough against Donald Trump.</td>\n",
              "      <td>2018-05-26</td>\n",
              "    </tr>\n",
              "    <tr>\n",
              "      <th>4</th>\n",
              "      <td>ENTERTAINMENT</td>\n",
              "      <td>Julianna Margulies Uses Donald Trump Poop Bags To Pick Up After Her Dog</td>\n",
              "      <td>Ron Dicker</td>\n",
              "      <td>https://www.huffingtonpost.com/entry/julianna-margulies-trump-poop-bag_us_5b093ec2e4b0fdb2aa53df70</td>\n",
              "      <td>The \"Dietland\" actress said using the bags is a \"really cathartic, therapeutic moment.\"</td>\n",
              "      <td>2018-05-26</td>\n",
              "    </tr>\n",
              "  </tbody>\n",
              "</table>\n",
              "</div>"
            ],
            "text/plain": [
              "        category  \\\n",
              "0          CRIME   \n",
              "1  ENTERTAINMENT   \n",
              "2  ENTERTAINMENT   \n",
              "3  ENTERTAINMENT   \n",
              "4  ENTERTAINMENT   \n",
              "\n",
              "                                                                      headline  \\\n",
              "0             There Were 2 Mass Shootings In Texas Last Week, But Only 1 On TV   \n",
              "1  Will Smith Joins Diplo And Nicky Jam For The 2018 World Cup's Official Song   \n",
              "2                              Hugh Grant Marries For The First Time At Age 57   \n",
              "3        Jim Carrey Blasts 'Castrato' Adam Schiff And Democrats In New Artwork   \n",
              "4      Julianna Margulies Uses Donald Trump Poop Bags To Pick Up After Her Dog   \n",
              "\n",
              "           authors  \\\n",
              "0  Melissa Jeltsen   \n",
              "1    Andy McDonald   \n",
              "2       Ron Dicker   \n",
              "3       Ron Dicker   \n",
              "4       Ron Dicker   \n",
              "\n",
              "                                                                                                                                         link  \\\n",
              "0                                         https://www.huffingtonpost.com/entry/texas-amanda-painter-mass-shooting_us_5b081ab4e4b0802d69caad89   \n",
              "1  https://www.huffingtonpost.com/entry/will-smith-joins-diplo-and-nicky-jam-for-the-official-2018-world-cup-song_us_5b09726fe4b0fdb2aa541201   \n",
              "2                                                         https://www.huffingtonpost.com/entry/hugh-grant-marries_us_5b09212ce4b0568a880b9a8c   \n",
              "3                                           https://www.huffingtonpost.com/entry/jim-carrey-adam-schiff-democrats_us_5b0950e8e4b0fdb2aa53e675   \n",
              "4                                          https://www.huffingtonpost.com/entry/julianna-margulies-trump-poop-bag_us_5b093ec2e4b0fdb2aa53df70   \n",
              "\n",
              "                                                                         short_description  \\\n",
              "0             She left her husband. He killed their children. Just another day in America.   \n",
              "1                                                                 Of course it has a song.   \n",
              "2  The actor and his longtime girlfriend Anna Eberstein tied the knot in a civil ceremony.   \n",
              "3   The actor gives Dems an ass-kicking for not fighting hard enough against Donald Trump.   \n",
              "4  The \"Dietland\" actress said using the bags is a \"really cathartic, therapeutic moment.\"   \n",
              "\n",
              "        date  \n",
              "0 2018-05-26  \n",
              "1 2018-05-26  \n",
              "2 2018-05-26  \n",
              "3 2018-05-26  \n",
              "4 2018-05-26  "
            ]
          },
          "metadata": {
            "tags": []
          },
          "execution_count": 34
        }
      ]
    },
    {
      "cell_type": "code",
      "metadata": {
        "colab": {
          "base_uri": "https://localhost:8080/"
        },
        "id": "ghbM8_HellyW",
        "outputId": "6656e172-555c-45ca-b0eb-89a9aed1f0be"
      },
      "source": [
        "df.shape"
      ],
      "execution_count": 35,
      "outputs": [
        {
          "output_type": "execute_result",
          "data": {
            "text/plain": [
              "(200853, 6)"
            ]
          },
          "metadata": {
            "tags": []
          },
          "execution_count": 35
        }
      ]
    },
    {
      "cell_type": "markdown",
      "metadata": {
        "id": "iIjZGXT7llyW"
      },
      "source": [
        "# 2. Data Preprocessing\n",
        "<a id=\"section2\"> </a>"
      ]
    },
    {
      "cell_type": "code",
      "metadata": {
        "colab": {
          "base_uri": "https://localhost:8080/"
        },
        "id": "TVLkC4fWllyW",
        "outputId": "ecfa4b4e-5819-4133-a68f-bb789ac78825"
      },
      "source": [
        "df.date.max()"
      ],
      "execution_count": 36,
      "outputs": [
        {
          "output_type": "execute_result",
          "data": {
            "text/plain": [
              "Timestamp('2018-05-26 00:00:00')"
            ]
          },
          "metadata": {
            "tags": []
          },
          "execution_count": 36
        }
      ]
    },
    {
      "cell_type": "code",
      "metadata": {
        "colab": {
          "base_uri": "https://localhost:8080/"
        },
        "id": "dBTx_HqollyX",
        "outputId": "7df3865c-99e5-4b77-9800-d90a0792b815"
      },
      "source": [
        "df.date.min()"
      ],
      "execution_count": 37,
      "outputs": [
        {
          "output_type": "execute_result",
          "data": {
            "text/plain": [
              "Timestamp('2012-01-28 00:00:00')"
            ]
          },
          "metadata": {
            "tags": []
          },
          "execution_count": 37
        }
      ]
    },
    {
      "cell_type": "code",
      "metadata": {
        "id": "xqEOsWR4llyY"
      },
      "source": [
        "# since data is too large, I am just getting last year\n",
        "df = df[df['date'] >= pd.Timestamp(2018,1,1)]"
      ],
      "execution_count": 38,
      "outputs": []
    },
    {
      "cell_type": "code",
      "metadata": {
        "colab": {
          "base_uri": "https://localhost:8080/"
        },
        "id": "WDp8BJ0illyY",
        "outputId": "fea93861-356e-4434-b571-db4f6214a8f3"
      },
      "source": [
        "df.shape"
      ],
      "execution_count": 39,
      "outputs": [
        {
          "output_type": "execute_result",
          "data": {
            "text/plain": [
              "(8583, 6)"
            ]
          },
          "metadata": {
            "tags": []
          },
          "execution_count": 39
        }
      ]
    },
    {
      "cell_type": "code",
      "metadata": {
        "id": "J3Hq6rtLllyZ"
      },
      "source": [
        "# removing duplicated rows in short description\n",
        "df.sort_values('short_description',inplace=True, ascending=False)\n",
        "duplicated_df = df.duplicated('short_description', keep = False)\n",
        "df = df[~duplicated_df]"
      ],
      "execution_count": 40,
      "outputs": []
    },
    {
      "cell_type": "code",
      "metadata": {
        "colab": {
          "base_uri": "https://localhost:8080/"
        },
        "id": "5crjCXOdllya",
        "outputId": "e599eeb0-f8f6-4f17-9939-d63ea45dfd02"
      },
      "source": [
        "df.shape"
      ],
      "execution_count": 41,
      "outputs": [
        {
          "output_type": "execute_result",
          "data": {
            "text/plain": [
              "(8521, 6)"
            ]
          },
          "metadata": {
            "tags": []
          },
          "execution_count": 41
        }
      ]
    },
    {
      "cell_type": "code",
      "metadata": {
        "id": "4FQDjyhGAKQ0"
      },
      "source": [
        "df = df[df['short_description'].apply(lambda x: len(x.split())>5)]"
      ],
      "execution_count": 42,
      "outputs": []
    },
    {
      "cell_type": "code",
      "metadata": {
        "id": "3Y8JRDQZAaz2",
        "outputId": "7b9ab60c-2e9d-4635-8d03-8a33d8b03b16",
        "colab": {
          "base_uri": "https://localhost:8080/"
        }
      },
      "source": [
        "df.shape"
      ],
      "execution_count": 43,
      "outputs": [
        {
          "output_type": "execute_result",
          "data": {
            "text/plain": [
              "(7828, 6)"
            ]
          },
          "metadata": {
            "tags": []
          },
          "execution_count": 43
        }
      ]
    },
    {
      "cell_type": "code",
      "metadata": {
        "id": "kF70BYeWllyb"
      },
      "source": [
        "df = df.reset_index().drop('index',axis=1)"
      ],
      "execution_count": 44,
      "outputs": []
    },
    {
      "cell_type": "code",
      "metadata": {
        "colab": {
          "base_uri": "https://localhost:8080/",
          "height": 425
        },
        "id": "yWLLDVCrllyb",
        "outputId": "45c32fe0-b1e8-4d67-939f-6448f9c0cc20"
      },
      "source": [
        "df.head()"
      ],
      "execution_count": 45,
      "outputs": [
        {
          "output_type": "execute_result",
          "data": {
            "text/html": [
              "<div>\n",
              "<style scoped>\n",
              "    .dataframe tbody tr th:only-of-type {\n",
              "        vertical-align: middle;\n",
              "    }\n",
              "\n",
              "    .dataframe tbody tr th {\n",
              "        vertical-align: top;\n",
              "    }\n",
              "\n",
              "    .dataframe thead th {\n",
              "        text-align: right;\n",
              "    }\n",
              "</style>\n",
              "<table border=\"1\" class=\"dataframe\">\n",
              "  <thead>\n",
              "    <tr style=\"text-align: right;\">\n",
              "      <th></th>\n",
              "      <th>category</th>\n",
              "      <th>headline</th>\n",
              "      <th>authors</th>\n",
              "      <th>link</th>\n",
              "      <th>short_description</th>\n",
              "      <th>date</th>\n",
              "    </tr>\n",
              "  </thead>\n",
              "  <tbody>\n",
              "    <tr>\n",
              "      <th>0</th>\n",
              "      <td>COMEDY</td>\n",
              "      <td>People Of Twitter Accurately Describe 2018 Thus Far With Song Lyrics</td>\n",
              "      <td>Andy McDonald</td>\n",
              "      <td>https://www.huffingtonpost.com/entry/twitter-describes-2018-thus-far-with-song-lyrics_us_5a5912d3e4b04f3c55a26d16</td>\n",
              "      <td>🎵 \"I wanna be sedated.\" 🎵</td>\n",
              "      <td>2018-01-12</td>\n",
              "    </tr>\n",
              "    <tr>\n",
              "      <th>1</th>\n",
              "      <td>POLITICS</td>\n",
              "      <td>Protestors Want Green Day's 'American Idiot' To Top UK Chart For Trump Visit</td>\n",
              "      <td>Lee Moran</td>\n",
              "      <td>https://www.huffingtonpost.com/entry/donald-trump-uk-visit-american-idiot_us_5ae8334ee4b055fd7fcf4fab</td>\n",
              "      <td>🎤 Don't wanna be an American idiot... 🎤</td>\n",
              "      <td>2018-05-01</td>\n",
              "    </tr>\n",
              "    <tr>\n",
              "      <th>2</th>\n",
              "      <td>WEIRD NEWS</td>\n",
              "      <td>Spanish Woman Looks More Like Trump Than The Donald Himself</td>\n",
              "      <td>David Moye</td>\n",
              "      <td>https://www.huffingtonpost.com/entry/dolores-antelo-donald-trump-lookalike_us_5adf8ed2e4b07be4d4c58c8c</td>\n",
              "      <td>″My photo seems to have traveled far. I say it is because of the color of my hair,” she said.</td>\n",
              "      <td>2018-04-24</td>\n",
              "    </tr>\n",
              "    <tr>\n",
              "      <th>3</th>\n",
              "      <td>BLACK VOICES</td>\n",
              "      <td>Mississippi School Finds No Evidence Principal Cut Student's Hair Without Permission (UPDATE)</td>\n",
              "      <td>David Moye</td>\n",
              "      <td>https://www.huffingtonpost.com/entry/mississippi-boy-hair-locs-cut-principal_us_5abbfa33e4b03e2a5c78e34d</td>\n",
              "      <td>“[W]e found absolutely no evidence ... that his allegations of having his hair cut at school exist.\"</td>\n",
              "      <td>2018-03-28</td>\n",
              "    </tr>\n",
              "    <tr>\n",
              "      <th>4</th>\n",
              "      <td>ENTERTAINMENT</td>\n",
              "      <td>Deaf Activist Points Out That Marvel’s Diversity Problem Isn’t Just About Race</td>\n",
              "      <td>Elyse Wanshel</td>\n",
              "      <td>https://www.huffingtonpost.com/entry/deaf-activist-points-out-that-marvels-diversity-problem-isnt-just-about-race_us_5afc9816e4b0a59b4e002ee9</td>\n",
              "      <td>“[People] think diversity has to do with race and gender, but there’s so much more to it.”</td>\n",
              "      <td>2018-05-17</td>\n",
              "    </tr>\n",
              "  </tbody>\n",
              "</table>\n",
              "</div>"
            ],
            "text/plain": [
              "        category  \\\n",
              "0         COMEDY   \n",
              "1       POLITICS   \n",
              "2     WEIRD NEWS   \n",
              "3   BLACK VOICES   \n",
              "4  ENTERTAINMENT   \n",
              "\n",
              "                                                                                        headline  \\\n",
              "0                           People Of Twitter Accurately Describe 2018 Thus Far With Song Lyrics   \n",
              "1                   Protestors Want Green Day's 'American Idiot' To Top UK Chart For Trump Visit   \n",
              "2                                    Spanish Woman Looks More Like Trump Than The Donald Himself   \n",
              "3  Mississippi School Finds No Evidence Principal Cut Student's Hair Without Permission (UPDATE)   \n",
              "4                 Deaf Activist Points Out That Marvel’s Diversity Problem Isn’t Just About Race   \n",
              "\n",
              "         authors  \\\n",
              "0  Andy McDonald   \n",
              "1      Lee Moran   \n",
              "2     David Moye   \n",
              "3     David Moye   \n",
              "4  Elyse Wanshel   \n",
              "\n",
              "                                                                                                                                            link  \\\n",
              "0                              https://www.huffingtonpost.com/entry/twitter-describes-2018-thus-far-with-song-lyrics_us_5a5912d3e4b04f3c55a26d16   \n",
              "1                                          https://www.huffingtonpost.com/entry/donald-trump-uk-visit-american-idiot_us_5ae8334ee4b055fd7fcf4fab   \n",
              "2                                         https://www.huffingtonpost.com/entry/dolores-antelo-donald-trump-lookalike_us_5adf8ed2e4b07be4d4c58c8c   \n",
              "3                                       https://www.huffingtonpost.com/entry/mississippi-boy-hair-locs-cut-principal_us_5abbfa33e4b03e2a5c78e34d   \n",
              "4  https://www.huffingtonpost.com/entry/deaf-activist-points-out-that-marvels-diversity-problem-isnt-just-about-race_us_5afc9816e4b0a59b4e002ee9   \n",
              "\n",
              "                                                                                      short_description  \\\n",
              "0                                                                             🎵 \"I wanna be sedated.\" 🎵   \n",
              "1                                                               🎤 Don't wanna be an American idiot... 🎤   \n",
              "2         ″My photo seems to have traveled far. I say it is because of the color of my hair,” she said.   \n",
              "3  “[W]e found absolutely no evidence ... that his allegations of having his hair cut at school exist.\"   \n",
              "4            “[People] think diversity has to do with race and gender, but there’s so much more to it.”   \n",
              "\n",
              "        date  \n",
              "0 2018-01-12  \n",
              "1 2018-05-01  \n",
              "2 2018-04-24  \n",
              "3 2018-03-28  \n",
              "4 2018-05-17  "
            ]
          },
          "metadata": {
            "tags": []
          },
          "execution_count": 45
        }
      ]
    },
    {
      "cell_type": "code",
      "metadata": {
        "colab": {
          "base_uri": "https://localhost:8080/",
          "height": 425
        },
        "id": "3VFj5EEMllyb",
        "outputId": "b55c90ec-e68d-4c9e-a372-f11dbccbc373"
      },
      "source": [
        "df.tail()"
      ],
      "execution_count": 46,
      "outputs": [
        {
          "output_type": "execute_result",
          "data": {
            "text/html": [
              "<div>\n",
              "<style scoped>\n",
              "    .dataframe tbody tr th:only-of-type {\n",
              "        vertical-align: middle;\n",
              "    }\n",
              "\n",
              "    .dataframe tbody tr th {\n",
              "        vertical-align: top;\n",
              "    }\n",
              "\n",
              "    .dataframe thead th {\n",
              "        text-align: right;\n",
              "    }\n",
              "</style>\n",
              "<table border=\"1\" class=\"dataframe\">\n",
              "  <thead>\n",
              "    <tr style=\"text-align: right;\">\n",
              "      <th></th>\n",
              "      <th>category</th>\n",
              "      <th>headline</th>\n",
              "      <th>authors</th>\n",
              "      <th>link</th>\n",
              "      <th>short_description</th>\n",
              "      <th>date</th>\n",
              "    </tr>\n",
              "  </thead>\n",
              "  <tbody>\n",
              "    <tr>\n",
              "      <th>7823</th>\n",
              "      <td>QUEER VOICES</td>\n",
              "      <td>John Oliver Didn't Think Pence-Trolling, Gay-Themed Book Would Be A Hit</td>\n",
              "      <td>Curtis M. Wong</td>\n",
              "      <td>https://www.huffingtonpost.com/entry/john-oliver-ellen-degeneres-kids-book_us_5ab138d5e4b09a2c75c9488a</td>\n",
              "      <td>\"A Day In the Life of Marlon Bundo,\" the comedian says, paints the world in an inclusive light.</td>\n",
              "      <td>2018-03-20</td>\n",
              "    </tr>\n",
              "    <tr>\n",
              "      <th>7824</th>\n",
              "      <td>ENTERTAINMENT</td>\n",
              "      <td>Kim Kardashian Wished Kanye West A Happy Anniversary And, Fine, It's Pretty Cute</td>\n",
              "      <td>Cole Delbyck</td>\n",
              "      <td>https://www.huffingtonpost.com/entry/kim-kardashian-wished-kanye-west-happy-anniversary_us_5b06ed58e4b05f0fc845ff3f</td>\n",
              "      <td>\"4 years down and forever to go....\"</td>\n",
              "      <td>2018-05-24</td>\n",
              "    </tr>\n",
              "    <tr>\n",
              "      <th>7825</th>\n",
              "      <td>ENTERTAINMENT</td>\n",
              "      <td>Jim Carrey Pens New Pledge Of Allegiance For Students In Bullet-Riddled Schools</td>\n",
              "      <td>Ed Mazza</td>\n",
              "      <td>https://www.huffingtonpost.com/entry/jimmy-kimmel-fox-news-hosts_us_5b039bf1e4b07309e05b89b2</td>\n",
              "      <td>\"...with butchery and injustice for the most innocent of all.\"</td>\n",
              "      <td>2018-05-22</td>\n",
              "    </tr>\n",
              "    <tr>\n",
              "      <th>7826</th>\n",
              "      <td>WOMEN</td>\n",
              "      <td>The 20 Funniest Tweets From Women This Week</td>\n",
              "      <td>Hollis Miller</td>\n",
              "      <td>https://www.huffingtonpost.com/entry/the-20-funniest-tweets-from-women-this-week_us_5abe36e7e4b055e50acd048e</td>\n",
              "      <td>\"'Did I put deodorant on?' -- Me six times a day\"</td>\n",
              "      <td>2018-03-30</td>\n",
              "    </tr>\n",
              "    <tr>\n",
              "      <th>7827</th>\n",
              "      <td>BLACK VOICES</td>\n",
              "      <td>#InWakanda Hashtag Brings The Blackest Of Nations To Life</td>\n",
              "      <td>Princess-India Alexander</td>\n",
              "      <td>https://www.huffingtonpost.com/entry/inwakanda-hashtag-black-twitter_us_5a821662e4b0892a035202e5</td>\n",
              "      <td>\" #InWakanda ashiness does not exist! There is jojoba oil in the wind.\"</td>\n",
              "      <td>2018-02-13</td>\n",
              "    </tr>\n",
              "  </tbody>\n",
              "</table>\n",
              "</div>"
            ],
            "text/plain": [
              "           category  \\\n",
              "7823   QUEER VOICES   \n",
              "7824  ENTERTAINMENT   \n",
              "7825  ENTERTAINMENT   \n",
              "7826          WOMEN   \n",
              "7827   BLACK VOICES   \n",
              "\n",
              "                                                                              headline  \\\n",
              "7823           John Oliver Didn't Think Pence-Trolling, Gay-Themed Book Would Be A Hit   \n",
              "7824  Kim Kardashian Wished Kanye West A Happy Anniversary And, Fine, It's Pretty Cute   \n",
              "7825   Jim Carrey Pens New Pledge Of Allegiance For Students In Bullet-Riddled Schools   \n",
              "7826                                       The 20 Funniest Tweets From Women This Week   \n",
              "7827                         #InWakanda Hashtag Brings The Blackest Of Nations To Life   \n",
              "\n",
              "                       authors  \\\n",
              "7823            Curtis M. Wong   \n",
              "7824              Cole Delbyck   \n",
              "7825                  Ed Mazza   \n",
              "7826             Hollis Miller   \n",
              "7827  Princess-India Alexander   \n",
              "\n",
              "                                                                                                                     link  \\\n",
              "7823               https://www.huffingtonpost.com/entry/john-oliver-ellen-degeneres-kids-book_us_5ab138d5e4b09a2c75c9488a   \n",
              "7824  https://www.huffingtonpost.com/entry/kim-kardashian-wished-kanye-west-happy-anniversary_us_5b06ed58e4b05f0fc845ff3f   \n",
              "7825                         https://www.huffingtonpost.com/entry/jimmy-kimmel-fox-news-hosts_us_5b039bf1e4b07309e05b89b2   \n",
              "7826         https://www.huffingtonpost.com/entry/the-20-funniest-tweets-from-women-this-week_us_5abe36e7e4b055e50acd048e   \n",
              "7827                     https://www.huffingtonpost.com/entry/inwakanda-hashtag-black-twitter_us_5a821662e4b0892a035202e5   \n",
              "\n",
              "                                                                                    short_description  \\\n",
              "7823  \"A Day In the Life of Marlon Bundo,\" the comedian says, paints the world in an inclusive light.   \n",
              "7824                                                             \"4 years down and forever to go....\"   \n",
              "7825                                   \"...with butchery and injustice for the most innocent of all.\"   \n",
              "7826                                                \"'Did I put deodorant on?' -- Me six times a day\"   \n",
              "7827                          \" #InWakanda ashiness does not exist! There is jojoba oil in the wind.\"   \n",
              "\n",
              "           date  \n",
              "7823 2018-03-20  \n",
              "7824 2018-05-24  \n",
              "7825 2018-05-22  \n",
              "7826 2018-03-30  \n",
              "7827 2018-02-13  "
            ]
          },
          "metadata": {
            "tags": []
          },
          "execution_count": 46
        }
      ]
    },
    {
      "cell_type": "code",
      "metadata": {
        "colab": {
          "base_uri": "https://localhost:8080/"
        },
        "id": "u5CXsVrvllyc",
        "outputId": "015eb45f-361f-4904-e45c-3e8d60e1de97"
      },
      "source": [
        "df.isna().sum()"
      ],
      "execution_count": 47,
      "outputs": [
        {
          "output_type": "execute_result",
          "data": {
            "text/plain": [
              "category             0\n",
              "headline             0\n",
              "authors              0\n",
              "link                 0\n",
              "short_description    0\n",
              "date                 0\n",
              "dtype: int64"
            ]
          },
          "metadata": {
            "tags": []
          },
          "execution_count": 47
        }
      ]
    },
    {
      "cell_type": "code",
      "metadata": {
        "id": "6CNuI1mxllyc"
      },
      "source": [
        "df[['category','short_description']].to_csv('drive/MyDrive/data.csv',index=False)"
      ],
      "execution_count": 48,
      "outputs": []
    },
    {
      "cell_type": "markdown",
      "metadata": {
        "id": "2Je7DPuBllyc"
      },
      "source": [
        "# 3. EDA\n",
        "<a id=\"section3\"> </a>"
      ]
    },
    {
      "cell_type": "code",
      "metadata": {
        "colab": {
          "base_uri": "https://localhost:8080/"
        },
        "id": "rkC7t3USllyf",
        "outputId": "4ea24932-b492-4cfc-aa52-5a2b80fa77a9"
      },
      "source": [
        "print(\"Total number of articles : \", df.shape[0])\n",
        "print(\"Total number of unqiue categories : \", df[\"category\"].nunique())"
      ],
      "execution_count": 49,
      "outputs": [
        {
          "output_type": "stream",
          "text": [
            "Total number of articles :  7828\n",
            "Total number of unqiue categories :  26\n"
          ],
          "name": "stdout"
        }
      ]
    },
    {
      "cell_type": "code",
      "metadata": {
        "colab": {
          "base_uri": "https://localhost:8080/"
        },
        "id": "n8hMNy4allyj",
        "outputId": "cb160770-8f70-4559-9a2b-6dcafe6a322b"
      },
      "source": [
        "df.category.value_counts()"
      ],
      "execution_count": 50,
      "outputs": [
        {
          "output_type": "execute_result",
          "data": {
            "text/plain": [
              "POLITICS          2923\n",
              "ENTERTAINMENT     1448\n",
              "WORLD NEWS         548\n",
              "QUEER VOICES       440\n",
              "BLACK VOICES       383\n",
              "COMEDY             355\n",
              "SPORTS             321\n",
              "MEDIA              277\n",
              "WOMEN              224\n",
              "CRIME              170\n",
              "WEIRD NEWS         150\n",
              "BUSINESS            82\n",
              "LATINO VOICES       77\n",
              "IMPACT              72\n",
              "RELIGION            65\n",
              "TRAVEL              56\n",
              "TECH                51\n",
              "SCIENCE             39\n",
              "PARENTS             33\n",
              "EDUCATION           32\n",
              "GREEN               26\n",
              "STYLE               25\n",
              "HEALTHY LIVING      15\n",
              "ARTS & CULTURE       9\n",
              "TASTE                6\n",
              "COLLEGE              1\n",
              "Name: category, dtype: int64"
            ]
          },
          "metadata": {
            "tags": []
          },
          "execution_count": 50
        }
      ]
    },
    {
      "cell_type": "markdown",
      "metadata": {
        "id": "n7ku5xLPllyj"
      },
      "source": [
        "### Distribution of articles category-wise"
      ]
    },
    {
      "cell_type": "code",
      "metadata": {
        "colab": {
          "base_uri": "https://localhost:8080/",
          "height": 717
        },
        "id": "ggWXSQDwllyj",
        "outputId": "f3a01b68-4681-4dd8-da70-c517895f171a"
      },
      "source": [
        "fig = go.Figure([go.Bar(x=df[\"category\"].value_counts().index, y=df[\"category\"].value_counts().values)])\n",
        "fig['layout'].update(title={\"text\" : 'Distribution of articles category-wise','y':0.9,'x':0.5,'xanchor': 'center','yanchor': 'top'}, xaxis_title=\"Category name\",yaxis_title=\"Number of articles\")\n",
        "fig.update_layout(width=800,height=700)"
      ],
      "execution_count": 51,
      "outputs": [
        {
          "output_type": "display_data",
          "data": {
            "text/html": [
              "<html>\n",
              "<head><meta charset=\"utf-8\" /></head>\n",
              "<body>\n",
              "    <div>\n",
              "            <script src=\"https://cdnjs.cloudflare.com/ajax/libs/mathjax/2.7.5/MathJax.js?config=TeX-AMS-MML_SVG\"></script><script type=\"text/javascript\">if (window.MathJax) {MathJax.Hub.Config({SVG: {font: \"STIX-Web\"}});}</script>\n",
              "                <script type=\"text/javascript\">window.PlotlyConfig = {MathJaxConfig: 'local'};</script>\n",
              "        <script src=\"https://cdn.plot.ly/plotly-latest.min.js\"></script>    \n",
              "            <div id=\"2fca0f7b-2bb8-46e6-aab5-2e64c59e3a7b\" class=\"plotly-graph-div\" style=\"height:700px; width:800px;\"></div>\n",
              "            <script type=\"text/javascript\">\n",
              "                \n",
              "                    window.PLOTLYENV=window.PLOTLYENV || {};\n",
              "                    \n",
              "                if (document.getElementById(\"2fca0f7b-2bb8-46e6-aab5-2e64c59e3a7b\")) {\n",
              "                    Plotly.newPlot(\n",
              "                        '2fca0f7b-2bb8-46e6-aab5-2e64c59e3a7b',\n",
              "                        [{\"type\": \"bar\", \"x\": [\"POLITICS\", \"ENTERTAINMENT\", \"WORLD NEWS\", \"QUEER VOICES\", \"BLACK VOICES\", \"COMEDY\", \"SPORTS\", \"MEDIA\", \"WOMEN\", \"CRIME\", \"WEIRD NEWS\", \"BUSINESS\", \"LATINO VOICES\", \"IMPACT\", \"RELIGION\", \"TRAVEL\", \"TECH\", \"SCIENCE\", \"PARENTS\", \"EDUCATION\", \"GREEN\", \"STYLE\", \"HEALTHY LIVING\", \"ARTS & CULTURE\", \"TASTE\", \"COLLEGE\"], \"y\": [2923, 1448, 548, 440, 383, 355, 321, 277, 224, 170, 150, 82, 77, 72, 65, 56, 51, 39, 33, 32, 26, 25, 15, 9, 6, 1]}],\n",
              "                        {\"height\": 700, \"template\": {\"data\": {\"bar\": [{\"error_x\": {\"color\": \"#2a3f5f\"}, \"error_y\": {\"color\": \"#2a3f5f\"}, \"marker\": {\"line\": {\"color\": \"#E5ECF6\", \"width\": 0.5}}, \"type\": \"bar\"}], \"barpolar\": [{\"marker\": {\"line\": {\"color\": \"#E5ECF6\", \"width\": 0.5}}, \"type\": \"barpolar\"}], \"carpet\": [{\"aaxis\": {\"endlinecolor\": \"#2a3f5f\", \"gridcolor\": \"white\", \"linecolor\": \"white\", \"minorgridcolor\": \"white\", \"startlinecolor\": \"#2a3f5f\"}, \"baxis\": {\"endlinecolor\": \"#2a3f5f\", \"gridcolor\": \"white\", \"linecolor\": \"white\", \"minorgridcolor\": \"white\", \"startlinecolor\": \"#2a3f5f\"}, \"type\": \"carpet\"}], \"choropleth\": [{\"colorbar\": {\"outlinewidth\": 0, \"ticks\": \"\"}, \"type\": \"choropleth\"}], \"contour\": [{\"colorbar\": {\"outlinewidth\": 0, \"ticks\": \"\"}, \"colorscale\": [[0.0, \"#0d0887\"], [0.1111111111111111, \"#46039f\"], [0.2222222222222222, \"#7201a8\"], [0.3333333333333333, \"#9c179e\"], [0.4444444444444444, \"#bd3786\"], [0.5555555555555556, \"#d8576b\"], [0.6666666666666666, \"#ed7953\"], [0.7777777777777778, \"#fb9f3a\"], [0.8888888888888888, \"#fdca26\"], [1.0, \"#f0f921\"]], \"type\": \"contour\"}], \"contourcarpet\": [{\"colorbar\": {\"outlinewidth\": 0, \"ticks\": \"\"}, \"type\": \"contourcarpet\"}], \"heatmap\": [{\"colorbar\": {\"outlinewidth\": 0, \"ticks\": \"\"}, \"colorscale\": [[0.0, \"#0d0887\"], [0.1111111111111111, \"#46039f\"], [0.2222222222222222, \"#7201a8\"], [0.3333333333333333, \"#9c179e\"], [0.4444444444444444, \"#bd3786\"], [0.5555555555555556, \"#d8576b\"], [0.6666666666666666, \"#ed7953\"], [0.7777777777777778, \"#fb9f3a\"], [0.8888888888888888, \"#fdca26\"], [1.0, \"#f0f921\"]], \"type\": \"heatmap\"}], \"heatmapgl\": [{\"colorbar\": {\"outlinewidth\": 0, \"ticks\": \"\"}, \"colorscale\": [[0.0, \"#0d0887\"], [0.1111111111111111, \"#46039f\"], [0.2222222222222222, \"#7201a8\"], [0.3333333333333333, \"#9c179e\"], [0.4444444444444444, \"#bd3786\"], [0.5555555555555556, \"#d8576b\"], [0.6666666666666666, \"#ed7953\"], [0.7777777777777778, \"#fb9f3a\"], [0.8888888888888888, \"#fdca26\"], [1.0, \"#f0f921\"]], \"type\": \"heatmapgl\"}], \"histogram\": [{\"marker\": {\"colorbar\": {\"outlinewidth\": 0, \"ticks\": \"\"}}, \"type\": \"histogram\"}], \"histogram2d\": [{\"colorbar\": {\"outlinewidth\": 0, \"ticks\": \"\"}, \"colorscale\": [[0.0, \"#0d0887\"], [0.1111111111111111, \"#46039f\"], [0.2222222222222222, \"#7201a8\"], [0.3333333333333333, \"#9c179e\"], [0.4444444444444444, \"#bd3786\"], [0.5555555555555556, \"#d8576b\"], [0.6666666666666666, \"#ed7953\"], [0.7777777777777778, \"#fb9f3a\"], [0.8888888888888888, \"#fdca26\"], [1.0, \"#f0f921\"]], \"type\": \"histogram2d\"}], \"histogram2dcontour\": [{\"colorbar\": {\"outlinewidth\": 0, \"ticks\": \"\"}, \"colorscale\": [[0.0, \"#0d0887\"], [0.1111111111111111, \"#46039f\"], [0.2222222222222222, \"#7201a8\"], [0.3333333333333333, \"#9c179e\"], [0.4444444444444444, \"#bd3786\"], [0.5555555555555556, \"#d8576b\"], [0.6666666666666666, \"#ed7953\"], [0.7777777777777778, \"#fb9f3a\"], [0.8888888888888888, \"#fdca26\"], [1.0, \"#f0f921\"]], \"type\": \"histogram2dcontour\"}], \"mesh3d\": [{\"colorbar\": {\"outlinewidth\": 0, \"ticks\": \"\"}, \"type\": \"mesh3d\"}], \"parcoords\": [{\"line\": {\"colorbar\": {\"outlinewidth\": 0, \"ticks\": \"\"}}, \"type\": \"parcoords\"}], \"pie\": [{\"automargin\": true, \"type\": \"pie\"}], \"scatter\": [{\"marker\": {\"colorbar\": {\"outlinewidth\": 0, \"ticks\": \"\"}}, \"type\": \"scatter\"}], \"scatter3d\": [{\"line\": {\"colorbar\": {\"outlinewidth\": 0, \"ticks\": \"\"}}, \"marker\": {\"colorbar\": {\"outlinewidth\": 0, \"ticks\": \"\"}}, \"type\": \"scatter3d\"}], \"scattercarpet\": [{\"marker\": {\"colorbar\": {\"outlinewidth\": 0, \"ticks\": \"\"}}, \"type\": \"scattercarpet\"}], \"scattergeo\": [{\"marker\": {\"colorbar\": {\"outlinewidth\": 0, \"ticks\": \"\"}}, \"type\": \"scattergeo\"}], \"scattergl\": [{\"marker\": {\"colorbar\": {\"outlinewidth\": 0, \"ticks\": \"\"}}, \"type\": \"scattergl\"}], \"scattermapbox\": [{\"marker\": {\"colorbar\": {\"outlinewidth\": 0, \"ticks\": \"\"}}, \"type\": \"scattermapbox\"}], \"scatterpolar\": [{\"marker\": {\"colorbar\": {\"outlinewidth\": 0, \"ticks\": \"\"}}, \"type\": \"scatterpolar\"}], \"scatterpolargl\": [{\"marker\": {\"colorbar\": {\"outlinewidth\": 0, \"ticks\": \"\"}}, \"type\": \"scatterpolargl\"}], \"scatterternary\": [{\"marker\": {\"colorbar\": {\"outlinewidth\": 0, \"ticks\": \"\"}}, \"type\": \"scatterternary\"}], \"surface\": [{\"colorbar\": {\"outlinewidth\": 0, \"ticks\": \"\"}, \"colorscale\": [[0.0, \"#0d0887\"], [0.1111111111111111, \"#46039f\"], [0.2222222222222222, \"#7201a8\"], [0.3333333333333333, \"#9c179e\"], [0.4444444444444444, \"#bd3786\"], [0.5555555555555556, \"#d8576b\"], [0.6666666666666666, \"#ed7953\"], [0.7777777777777778, \"#fb9f3a\"], [0.8888888888888888, \"#fdca26\"], [1.0, \"#f0f921\"]], \"type\": \"surface\"}], \"table\": [{\"cells\": {\"fill\": {\"color\": \"#EBF0F8\"}, \"line\": {\"color\": \"white\"}}, \"header\": {\"fill\": {\"color\": \"#C8D4E3\"}, \"line\": {\"color\": \"white\"}}, \"type\": \"table\"}]}, \"layout\": {\"annotationdefaults\": {\"arrowcolor\": \"#2a3f5f\", \"arrowhead\": 0, \"arrowwidth\": 1}, \"coloraxis\": {\"colorbar\": {\"outlinewidth\": 0, \"ticks\": \"\"}}, \"colorscale\": {\"diverging\": [[0, \"#8e0152\"], [0.1, \"#c51b7d\"], [0.2, \"#de77ae\"], [0.3, \"#f1b6da\"], [0.4, \"#fde0ef\"], [0.5, \"#f7f7f7\"], [0.6, \"#e6f5d0\"], [0.7, \"#b8e186\"], [0.8, \"#7fbc41\"], [0.9, \"#4d9221\"], [1, \"#276419\"]], \"sequential\": [[0.0, \"#0d0887\"], [0.1111111111111111, \"#46039f\"], [0.2222222222222222, \"#7201a8\"], [0.3333333333333333, \"#9c179e\"], [0.4444444444444444, \"#bd3786\"], [0.5555555555555556, \"#d8576b\"], [0.6666666666666666, \"#ed7953\"], [0.7777777777777778, \"#fb9f3a\"], [0.8888888888888888, \"#fdca26\"], [1.0, \"#f0f921\"]], \"sequentialminus\": [[0.0, \"#0d0887\"], [0.1111111111111111, \"#46039f\"], [0.2222222222222222, \"#7201a8\"], [0.3333333333333333, \"#9c179e\"], [0.4444444444444444, \"#bd3786\"], [0.5555555555555556, \"#d8576b\"], [0.6666666666666666, \"#ed7953\"], [0.7777777777777778, \"#fb9f3a\"], [0.8888888888888888, \"#fdca26\"], [1.0, \"#f0f921\"]]}, \"colorway\": [\"#636efa\", \"#EF553B\", \"#00cc96\", \"#ab63fa\", \"#FFA15A\", \"#19d3f3\", \"#FF6692\", \"#B6E880\", \"#FF97FF\", \"#FECB52\"], \"font\": {\"color\": \"#2a3f5f\"}, \"geo\": {\"bgcolor\": \"white\", \"lakecolor\": \"white\", \"landcolor\": \"#E5ECF6\", \"showlakes\": true, \"showland\": true, \"subunitcolor\": \"white\"}, \"hoverlabel\": {\"align\": \"left\"}, \"hovermode\": \"closest\", \"mapbox\": {\"style\": \"light\"}, \"paper_bgcolor\": \"white\", \"plot_bgcolor\": \"#E5ECF6\", \"polar\": {\"angularaxis\": {\"gridcolor\": \"white\", \"linecolor\": \"white\", \"ticks\": \"\"}, \"bgcolor\": \"#E5ECF6\", \"radialaxis\": {\"gridcolor\": \"white\", \"linecolor\": \"white\", \"ticks\": \"\"}}, \"scene\": {\"xaxis\": {\"backgroundcolor\": \"#E5ECF6\", \"gridcolor\": \"white\", \"gridwidth\": 2, \"linecolor\": \"white\", \"showbackground\": true, \"ticks\": \"\", \"zerolinecolor\": \"white\"}, \"yaxis\": {\"backgroundcolor\": \"#E5ECF6\", \"gridcolor\": \"white\", \"gridwidth\": 2, \"linecolor\": \"white\", \"showbackground\": true, \"ticks\": \"\", \"zerolinecolor\": \"white\"}, \"zaxis\": {\"backgroundcolor\": \"#E5ECF6\", \"gridcolor\": \"white\", \"gridwidth\": 2, \"linecolor\": \"white\", \"showbackground\": true, \"ticks\": \"\", \"zerolinecolor\": \"white\"}}, \"shapedefaults\": {\"line\": {\"color\": \"#2a3f5f\"}}, \"ternary\": {\"aaxis\": {\"gridcolor\": \"white\", \"linecolor\": \"white\", \"ticks\": \"\"}, \"baxis\": {\"gridcolor\": \"white\", \"linecolor\": \"white\", \"ticks\": \"\"}, \"bgcolor\": \"#E5ECF6\", \"caxis\": {\"gridcolor\": \"white\", \"linecolor\": \"white\", \"ticks\": \"\"}}, \"title\": {\"x\": 0.05}, \"xaxis\": {\"automargin\": true, \"gridcolor\": \"white\", \"linecolor\": \"white\", \"ticks\": \"\", \"title\": {\"standoff\": 15}, \"zerolinecolor\": \"white\", \"zerolinewidth\": 2}, \"yaxis\": {\"automargin\": true, \"gridcolor\": \"white\", \"linecolor\": \"white\", \"ticks\": \"\", \"title\": {\"standoff\": 15}, \"zerolinecolor\": \"white\", \"zerolinewidth\": 2}}}, \"title\": {\"text\": \"Distribution of articles category-wise\", \"x\": 0.5, \"xanchor\": \"center\", \"y\": 0.9, \"yanchor\": \"top\"}, \"width\": 800, \"xaxis\": {\"title\": {\"text\": \"Category name\"}}, \"yaxis\": {\"title\": {\"text\": \"Number of articles\"}}},\n",
              "                        {\"responsive\": true}\n",
              "                    ).then(function(){\n",
              "                            \n",
              "var gd = document.getElementById('2fca0f7b-2bb8-46e6-aab5-2e64c59e3a7b');\n",
              "var x = new MutationObserver(function (mutations, observer) {{\n",
              "        var display = window.getComputedStyle(gd).display;\n",
              "        if (!display || display === 'none') {{\n",
              "            console.log([gd, 'removed!']);\n",
              "            Plotly.purge(gd);\n",
              "            observer.disconnect();\n",
              "        }}\n",
              "}});\n",
              "\n",
              "// Listen for the removal of the full notebook cells\n",
              "var notebookContainer = gd.closest('#notebook-container');\n",
              "if (notebookContainer) {{\n",
              "    x.observe(notebookContainer, {childList: true});\n",
              "}}\n",
              "\n",
              "// Listen for the clearing of the current output cell\n",
              "var outputEl = gd.closest('.output');\n",
              "if (outputEl) {{\n",
              "    x.observe(outputEl, {childList: true});\n",
              "}}\n",
              "\n",
              "                        })\n",
              "                };\n",
              "                \n",
              "            </script>\n",
              "        </div>\n",
              "</body>\n",
              "</html>"
            ]
          },
          "metadata": {
            "tags": []
          }
        }
      ]
    },
    {
      "cell_type": "code",
      "metadata": {
        "id": "JN_3ykiXllyk"
      },
      "source": [
        "df_per_month = df.resample('m', on = 'date')['short_description'].count()"
      ],
      "execution_count": 52,
      "outputs": []
    },
    {
      "cell_type": "markdown",
      "metadata": {
        "id": "zPOcDNn4llyk"
      },
      "source": [
        "### Distribution of articles month-wise"
      ]
    },
    {
      "cell_type": "code",
      "metadata": {
        "colab": {
          "base_uri": "https://localhost:8080/",
          "height": 517
        },
        "id": "Z0N6B9yxllyk",
        "outputId": "9e8c781f-fd4e-4908-e900-546eba29ab39"
      },
      "source": [
        "fig = go.Figure([go.Bar(x= df_per_month.index.strftime(\"%b\"), y = df_per_month)])\n",
        "fig['layout'].update(title={\"text\" : 'Distribution of articles month-wise','y':0.9,'x':0.5,'xanchor': 'center','yanchor': 'top'}, xaxis_title=\"Month\",yaxis_title=\"Number of articles\")\n",
        "fig.update_layout(width=500,height=500)"
      ],
      "execution_count": 53,
      "outputs": [
        {
          "output_type": "display_data",
          "data": {
            "text/html": [
              "<html>\n",
              "<head><meta charset=\"utf-8\" /></head>\n",
              "<body>\n",
              "    <div>\n",
              "            <script src=\"https://cdnjs.cloudflare.com/ajax/libs/mathjax/2.7.5/MathJax.js?config=TeX-AMS-MML_SVG\"></script><script type=\"text/javascript\">if (window.MathJax) {MathJax.Hub.Config({SVG: {font: \"STIX-Web\"}});}</script>\n",
              "                <script type=\"text/javascript\">window.PlotlyConfig = {MathJaxConfig: 'local'};</script>\n",
              "        <script src=\"https://cdn.plot.ly/plotly-latest.min.js\"></script>    \n",
              "            <div id=\"c9187e4c-dfdd-45bf-b245-bec44f826893\" class=\"plotly-graph-div\" style=\"height:500px; width:500px;\"></div>\n",
              "            <script type=\"text/javascript\">\n",
              "                \n",
              "                    window.PLOTLYENV=window.PLOTLYENV || {};\n",
              "                    \n",
              "                if (document.getElementById(\"c9187e4c-dfdd-45bf-b245-bec44f826893\")) {\n",
              "                    Plotly.newPlot(\n",
              "                        'c9187e4c-dfdd-45bf-b245-bec44f826893',\n",
              "                        [{\"type\": \"bar\", \"x\": [\"Jan\", \"Feb\", \"Mar\", \"Apr\", \"May\"], \"y\": [1879, 1544, 1650, 1483, 1272]}],\n",
              "                        {\"height\": 500, \"template\": {\"data\": {\"bar\": [{\"error_x\": {\"color\": \"#2a3f5f\"}, \"error_y\": {\"color\": \"#2a3f5f\"}, \"marker\": {\"line\": {\"color\": \"#E5ECF6\", \"width\": 0.5}}, \"type\": \"bar\"}], \"barpolar\": [{\"marker\": {\"line\": {\"color\": \"#E5ECF6\", \"width\": 0.5}}, \"type\": \"barpolar\"}], \"carpet\": [{\"aaxis\": {\"endlinecolor\": \"#2a3f5f\", \"gridcolor\": \"white\", \"linecolor\": \"white\", \"minorgridcolor\": \"white\", \"startlinecolor\": \"#2a3f5f\"}, \"baxis\": {\"endlinecolor\": \"#2a3f5f\", \"gridcolor\": \"white\", \"linecolor\": \"white\", \"minorgridcolor\": \"white\", \"startlinecolor\": \"#2a3f5f\"}, \"type\": \"carpet\"}], \"choropleth\": [{\"colorbar\": {\"outlinewidth\": 0, \"ticks\": \"\"}, \"type\": \"choropleth\"}], \"contour\": [{\"colorbar\": {\"outlinewidth\": 0, \"ticks\": \"\"}, \"colorscale\": [[0.0, \"#0d0887\"], [0.1111111111111111, \"#46039f\"], [0.2222222222222222, \"#7201a8\"], [0.3333333333333333, \"#9c179e\"], [0.4444444444444444, \"#bd3786\"], [0.5555555555555556, \"#d8576b\"], [0.6666666666666666, \"#ed7953\"], [0.7777777777777778, \"#fb9f3a\"], [0.8888888888888888, \"#fdca26\"], [1.0, \"#f0f921\"]], \"type\": \"contour\"}], \"contourcarpet\": [{\"colorbar\": {\"outlinewidth\": 0, \"ticks\": \"\"}, \"type\": \"contourcarpet\"}], \"heatmap\": [{\"colorbar\": {\"outlinewidth\": 0, \"ticks\": \"\"}, \"colorscale\": [[0.0, \"#0d0887\"], [0.1111111111111111, \"#46039f\"], [0.2222222222222222, \"#7201a8\"], [0.3333333333333333, \"#9c179e\"], [0.4444444444444444, \"#bd3786\"], [0.5555555555555556, \"#d8576b\"], [0.6666666666666666, \"#ed7953\"], [0.7777777777777778, \"#fb9f3a\"], [0.8888888888888888, \"#fdca26\"], [1.0, \"#f0f921\"]], \"type\": \"heatmap\"}], \"heatmapgl\": [{\"colorbar\": {\"outlinewidth\": 0, \"ticks\": \"\"}, \"colorscale\": [[0.0, \"#0d0887\"], [0.1111111111111111, \"#46039f\"], [0.2222222222222222, \"#7201a8\"], [0.3333333333333333, \"#9c179e\"], [0.4444444444444444, \"#bd3786\"], [0.5555555555555556, \"#d8576b\"], [0.6666666666666666, \"#ed7953\"], [0.7777777777777778, \"#fb9f3a\"], [0.8888888888888888, \"#fdca26\"], [1.0, \"#f0f921\"]], \"type\": \"heatmapgl\"}], \"histogram\": [{\"marker\": {\"colorbar\": {\"outlinewidth\": 0, \"ticks\": \"\"}}, \"type\": \"histogram\"}], \"histogram2d\": [{\"colorbar\": {\"outlinewidth\": 0, \"ticks\": \"\"}, \"colorscale\": [[0.0, \"#0d0887\"], [0.1111111111111111, \"#46039f\"], [0.2222222222222222, \"#7201a8\"], [0.3333333333333333, \"#9c179e\"], [0.4444444444444444, \"#bd3786\"], [0.5555555555555556, \"#d8576b\"], [0.6666666666666666, \"#ed7953\"], [0.7777777777777778, \"#fb9f3a\"], [0.8888888888888888, \"#fdca26\"], [1.0, \"#f0f921\"]], \"type\": \"histogram2d\"}], \"histogram2dcontour\": [{\"colorbar\": {\"outlinewidth\": 0, \"ticks\": \"\"}, \"colorscale\": [[0.0, \"#0d0887\"], [0.1111111111111111, \"#46039f\"], [0.2222222222222222, \"#7201a8\"], [0.3333333333333333, \"#9c179e\"], [0.4444444444444444, \"#bd3786\"], [0.5555555555555556, \"#d8576b\"], [0.6666666666666666, \"#ed7953\"], [0.7777777777777778, \"#fb9f3a\"], [0.8888888888888888, \"#fdca26\"], [1.0, \"#f0f921\"]], \"type\": \"histogram2dcontour\"}], \"mesh3d\": [{\"colorbar\": {\"outlinewidth\": 0, \"ticks\": \"\"}, \"type\": \"mesh3d\"}], \"parcoords\": [{\"line\": {\"colorbar\": {\"outlinewidth\": 0, \"ticks\": \"\"}}, \"type\": \"parcoords\"}], \"pie\": [{\"automargin\": true, \"type\": \"pie\"}], \"scatter\": [{\"marker\": {\"colorbar\": {\"outlinewidth\": 0, \"ticks\": \"\"}}, \"type\": \"scatter\"}], \"scatter3d\": [{\"line\": {\"colorbar\": {\"outlinewidth\": 0, \"ticks\": \"\"}}, \"marker\": {\"colorbar\": {\"outlinewidth\": 0, \"ticks\": \"\"}}, \"type\": \"scatter3d\"}], \"scattercarpet\": [{\"marker\": {\"colorbar\": {\"outlinewidth\": 0, \"ticks\": \"\"}}, \"type\": \"scattercarpet\"}], \"scattergeo\": [{\"marker\": {\"colorbar\": {\"outlinewidth\": 0, \"ticks\": \"\"}}, \"type\": \"scattergeo\"}], \"scattergl\": [{\"marker\": {\"colorbar\": {\"outlinewidth\": 0, \"ticks\": \"\"}}, \"type\": \"scattergl\"}], \"scattermapbox\": [{\"marker\": {\"colorbar\": {\"outlinewidth\": 0, \"ticks\": \"\"}}, \"type\": \"scattermapbox\"}], \"scatterpolar\": [{\"marker\": {\"colorbar\": {\"outlinewidth\": 0, \"ticks\": \"\"}}, \"type\": \"scatterpolar\"}], \"scatterpolargl\": [{\"marker\": {\"colorbar\": {\"outlinewidth\": 0, \"ticks\": \"\"}}, \"type\": \"scatterpolargl\"}], \"scatterternary\": [{\"marker\": {\"colorbar\": {\"outlinewidth\": 0, \"ticks\": \"\"}}, \"type\": \"scatterternary\"}], \"surface\": [{\"colorbar\": {\"outlinewidth\": 0, \"ticks\": \"\"}, \"colorscale\": [[0.0, \"#0d0887\"], [0.1111111111111111, \"#46039f\"], [0.2222222222222222, \"#7201a8\"], [0.3333333333333333, \"#9c179e\"], [0.4444444444444444, \"#bd3786\"], [0.5555555555555556, \"#d8576b\"], [0.6666666666666666, \"#ed7953\"], [0.7777777777777778, \"#fb9f3a\"], [0.8888888888888888, \"#fdca26\"], [1.0, \"#f0f921\"]], \"type\": \"surface\"}], \"table\": [{\"cells\": {\"fill\": {\"color\": \"#EBF0F8\"}, \"line\": {\"color\": \"white\"}}, \"header\": {\"fill\": {\"color\": \"#C8D4E3\"}, \"line\": {\"color\": \"white\"}}, \"type\": \"table\"}]}, \"layout\": {\"annotationdefaults\": {\"arrowcolor\": \"#2a3f5f\", \"arrowhead\": 0, \"arrowwidth\": 1}, \"coloraxis\": {\"colorbar\": {\"outlinewidth\": 0, \"ticks\": \"\"}}, \"colorscale\": {\"diverging\": [[0, \"#8e0152\"], [0.1, \"#c51b7d\"], [0.2, \"#de77ae\"], [0.3, \"#f1b6da\"], [0.4, \"#fde0ef\"], [0.5, \"#f7f7f7\"], [0.6, \"#e6f5d0\"], [0.7, \"#b8e186\"], [0.8, \"#7fbc41\"], [0.9, \"#4d9221\"], [1, \"#276419\"]], \"sequential\": [[0.0, \"#0d0887\"], [0.1111111111111111, \"#46039f\"], [0.2222222222222222, \"#7201a8\"], [0.3333333333333333, \"#9c179e\"], [0.4444444444444444, \"#bd3786\"], [0.5555555555555556, \"#d8576b\"], [0.6666666666666666, \"#ed7953\"], [0.7777777777777778, \"#fb9f3a\"], [0.8888888888888888, \"#fdca26\"], [1.0, \"#f0f921\"]], \"sequentialminus\": [[0.0, \"#0d0887\"], [0.1111111111111111, \"#46039f\"], [0.2222222222222222, \"#7201a8\"], [0.3333333333333333, \"#9c179e\"], [0.4444444444444444, \"#bd3786\"], [0.5555555555555556, \"#d8576b\"], [0.6666666666666666, \"#ed7953\"], [0.7777777777777778, \"#fb9f3a\"], [0.8888888888888888, \"#fdca26\"], [1.0, \"#f0f921\"]]}, \"colorway\": [\"#636efa\", \"#EF553B\", \"#00cc96\", \"#ab63fa\", \"#FFA15A\", \"#19d3f3\", \"#FF6692\", \"#B6E880\", \"#FF97FF\", \"#FECB52\"], \"font\": {\"color\": \"#2a3f5f\"}, \"geo\": {\"bgcolor\": \"white\", \"lakecolor\": \"white\", \"landcolor\": \"#E5ECF6\", \"showlakes\": true, \"showland\": true, \"subunitcolor\": \"white\"}, \"hoverlabel\": {\"align\": \"left\"}, \"hovermode\": \"closest\", \"mapbox\": {\"style\": \"light\"}, \"paper_bgcolor\": \"white\", \"plot_bgcolor\": \"#E5ECF6\", \"polar\": {\"angularaxis\": {\"gridcolor\": \"white\", \"linecolor\": \"white\", \"ticks\": \"\"}, \"bgcolor\": \"#E5ECF6\", \"radialaxis\": {\"gridcolor\": \"white\", \"linecolor\": \"white\", \"ticks\": \"\"}}, \"scene\": {\"xaxis\": {\"backgroundcolor\": \"#E5ECF6\", \"gridcolor\": \"white\", \"gridwidth\": 2, \"linecolor\": \"white\", \"showbackground\": true, \"ticks\": \"\", \"zerolinecolor\": \"white\"}, \"yaxis\": {\"backgroundcolor\": \"#E5ECF6\", \"gridcolor\": \"white\", \"gridwidth\": 2, \"linecolor\": \"white\", \"showbackground\": true, \"ticks\": \"\", \"zerolinecolor\": \"white\"}, \"zaxis\": {\"backgroundcolor\": \"#E5ECF6\", \"gridcolor\": \"white\", \"gridwidth\": 2, \"linecolor\": \"white\", \"showbackground\": true, \"ticks\": \"\", \"zerolinecolor\": \"white\"}}, \"shapedefaults\": {\"line\": {\"color\": \"#2a3f5f\"}}, \"ternary\": {\"aaxis\": {\"gridcolor\": \"white\", \"linecolor\": \"white\", \"ticks\": \"\"}, \"baxis\": {\"gridcolor\": \"white\", \"linecolor\": \"white\", \"ticks\": \"\"}, \"bgcolor\": \"#E5ECF6\", \"caxis\": {\"gridcolor\": \"white\", \"linecolor\": \"white\", \"ticks\": \"\"}}, \"title\": {\"x\": 0.05}, \"xaxis\": {\"automargin\": true, \"gridcolor\": \"white\", \"linecolor\": \"white\", \"ticks\": \"\", \"title\": {\"standoff\": 15}, \"zerolinecolor\": \"white\", \"zerolinewidth\": 2}, \"yaxis\": {\"automargin\": true, \"gridcolor\": \"white\", \"linecolor\": \"white\", \"ticks\": \"\", \"title\": {\"standoff\": 15}, \"zerolinecolor\": \"white\", \"zerolinewidth\": 2}}}, \"title\": {\"text\": \"Distribution of articles month-wise\", \"x\": 0.5, \"xanchor\": \"center\", \"y\": 0.9, \"yanchor\": \"top\"}, \"width\": 500, \"xaxis\": {\"title\": {\"text\": \"Month\"}}, \"yaxis\": {\"title\": {\"text\": \"Number of articles\"}}},\n",
              "                        {\"responsive\": true}\n",
              "                    ).then(function(){\n",
              "                            \n",
              "var gd = document.getElementById('c9187e4c-dfdd-45bf-b245-bec44f826893');\n",
              "var x = new MutationObserver(function (mutations, observer) {{\n",
              "        var display = window.getComputedStyle(gd).display;\n",
              "        if (!display || display === 'none') {{\n",
              "            console.log([gd, 'removed!']);\n",
              "            Plotly.purge(gd);\n",
              "            observer.disconnect();\n",
              "        }}\n",
              "}});\n",
              "\n",
              "// Listen for the removal of the full notebook cells\n",
              "var notebookContainer = gd.closest('#notebook-container');\n",
              "if (notebookContainer) {{\n",
              "    x.observe(notebookContainer, {childList: true});\n",
              "}}\n",
              "\n",
              "// Listen for the clearing of the current output cell\n",
              "var outputEl = gd.closest('.output');\n",
              "if (outputEl) {{\n",
              "    x.observe(outputEl, {childList: true});\n",
              "}}\n",
              "\n",
              "                        })\n",
              "                };\n",
              "                \n",
              "            </script>\n",
              "        </div>\n",
              "</body>\n",
              "</html>"
            ]
          },
          "metadata": {
            "tags": []
          }
        }
      ]
    },
    {
      "cell_type": "markdown",
      "metadata": {
        "id": "a_wdcNzNllyk"
      },
      "source": [
        "### The probability distribution function of short description length\n",
        "\n",
        "It is almost similar to a Guassian distribution, where most of the descriptions are 50 to 100 words long in length."
      ]
    },
    {
      "cell_type": "code",
      "metadata": {
        "colab": {
          "base_uri": "https://localhost:8080/",
          "height": 517
        },
        "id": "LfDYQYGUllyn",
        "outputId": "09e5b32d-aa35-4855-f5b5-8037fbd89be0"
      },
      "source": [
        "fig = ff.create_distplot([df['short_description'].str.len()], [\"ht\"],show_hist=False,show_rug=False)\n",
        "fig['layout'].update(title={'text':'PDF','y':0.9,'x':0.5,'xanchor': 'center','yanchor': 'top'}, xaxis_title=\"Length of a Short Description\",yaxis_title=\"probability\")\n",
        "fig.update_layout(showlegend = False,width=500,height=500)"
      ],
      "execution_count": 54,
      "outputs": [
        {
          "output_type": "display_data",
          "data": {
            "text/html": [
              "<html>\n",
              "<head><meta charset=\"utf-8\" /></head>\n",
              "<body>\n",
              "    <div>\n",
              "            <script src=\"https://cdnjs.cloudflare.com/ajax/libs/mathjax/2.7.5/MathJax.js?config=TeX-AMS-MML_SVG\"></script><script type=\"text/javascript\">if (window.MathJax) {MathJax.Hub.Config({SVG: {font: \"STIX-Web\"}});}</script>\n",
              "                <script type=\"text/javascript\">window.PlotlyConfig = {MathJaxConfig: 'local'};</script>\n",
              "        <script src=\"https://cdn.plot.ly/plotly-latest.min.js\"></script>    \n",
              "            <div id=\"96363fef-34fd-49e2-9c25-5d66bf6ce11b\" class=\"plotly-graph-div\" style=\"height:500px; width:500px;\"></div>\n",
              "            <script type=\"text/javascript\">\n",
              "                \n",
              "                    window.PLOTLYENV=window.PLOTLYENV || {};\n",
              "                    \n",
              "                if (document.getElementById(\"96363fef-34fd-49e2-9c25-5d66bf6ce11b\")) {\n",
              "                    Plotly.newPlot(\n",
              "                        '96363fef-34fd-49e2-9c25-5d66bf6ce11b',\n",
              "                        [{\"legendgroup\": \"ht\", \"marker\": {\"color\": \"rgb(31, 119, 180)\"}, \"mode\": \"lines\", \"name\": \"ht\", \"showlegend\": true, \"type\": \"scatter\", \"x\": [22.0, 22.432, 22.864, 23.296, 23.728, 24.16, 24.592, 25.024, 25.456, 25.887999999999998, 26.32, 26.752, 27.184, 27.616, 28.048000000000002, 28.48, 28.912, 29.344, 29.776, 30.208, 30.64, 31.072, 31.503999999999998, 31.936, 32.368, 32.8, 33.232, 33.664, 34.096000000000004, 34.528, 34.96, 35.391999999999996, 35.824, 36.256, 36.688, 37.12, 37.552, 37.984, 38.416, 38.848, 39.28, 39.712, 40.144, 40.576, 41.007999999999996, 41.44, 41.872, 42.304, 42.736000000000004, 43.168, 43.6, 44.032, 44.464, 44.896, 45.328, 45.760000000000005, 46.192, 46.623999999999995, 47.056, 47.488, 47.92, 48.352000000000004, 48.784, 49.216, 49.647999999999996, 50.08, 50.512, 50.944, 51.376000000000005, 51.808, 52.239999999999995, 52.672, 53.104, 53.536, 53.968, 54.4, 54.832, 55.264, 55.696, 56.128, 56.56, 56.992, 57.424, 57.856, 58.288, 58.72, 59.152, 59.584, 60.016, 60.448, 60.88, 61.312, 61.744, 62.176, 62.608, 63.04, 63.472, 63.904, 64.336, 64.768, 65.2, 65.632, 66.064, 66.49600000000001, 66.928, 67.36, 67.792, 68.22399999999999, 68.656, 69.088, 69.52000000000001, 69.952, 70.384, 70.816, 71.24799999999999, 71.68, 72.112, 72.544, 72.976, 73.408, 73.84, 74.27199999999999, 74.70400000000001, 75.136, 75.568, 76.0, 76.432, 76.864, 77.29599999999999, 77.72800000000001, 78.16, 78.592, 79.024, 79.456, 79.888, 80.32, 80.75200000000001, 81.184, 81.616, 82.048, 82.47999999999999, 82.912, 83.344, 83.77600000000001, 84.208, 84.64, 85.072, 85.50399999999999, 85.936, 86.368, 86.8, 87.232, 87.664, 88.096, 88.528, 88.96, 89.392, 89.824, 90.256, 90.688, 91.12, 91.552, 91.984, 92.416, 92.848, 93.28, 93.712, 94.144, 94.576, 95.008, 95.44, 95.872, 96.304, 96.736, 97.168, 97.6, 98.032, 98.464, 98.896, 99.328, 99.76, 100.192, 100.624, 101.056, 101.488, 101.92, 102.352, 102.784, 103.216, 103.648, 104.08, 104.512, 104.944, 105.376, 105.808, 106.24, 106.672, 107.104, 107.536, 107.968, 108.4, 108.832, 109.264, 109.696, 110.128, 110.56, 110.992, 111.424, 111.856, 112.288, 112.72, 113.152, 113.584, 114.016, 114.448, 114.88, 115.312, 115.744, 116.176, 116.608, 117.04, 117.472, 117.904, 118.336, 118.768, 119.2, 119.632, 120.064, 120.496, 120.928, 121.36, 121.792, 122.224, 122.656, 123.088, 123.52, 123.952, 124.384, 124.816, 125.248, 125.68, 126.112, 126.544, 126.976, 127.408, 127.84, 128.272, 128.704, 129.136, 129.56799999999998, 130.0, 130.43200000000002, 130.864, 131.296, 131.728, 132.16, 132.59199999999998, 133.024, 133.45600000000002, 133.888, 134.32, 134.752, 135.184, 135.61599999999999, 136.048, 136.48000000000002, 136.912, 137.344, 137.776, 138.208, 138.64, 139.072, 139.50400000000002, 139.936, 140.368, 140.8, 141.232, 141.664, 142.096, 142.52800000000002, 142.95999999999998, 143.392, 143.824, 144.256, 144.688, 145.12, 145.55200000000002, 145.98399999999998, 146.416, 146.848, 147.28, 147.712, 148.144, 148.576, 149.00799999999998, 149.44, 149.872, 150.304, 150.736, 151.168, 151.6, 152.032, 152.464, 152.896, 153.328, 153.76, 154.192, 154.624, 155.056, 155.488, 155.92, 156.352, 156.784, 157.216, 157.648, 158.08, 158.512, 158.944, 159.376, 159.808, 160.24, 160.672, 161.104, 161.536, 161.968, 162.4, 162.832, 163.264, 163.696, 164.128, 164.56, 164.992, 165.424, 165.856, 166.288, 166.72, 167.152, 167.584, 168.016, 168.448, 168.88, 169.312, 169.744, 170.176, 170.608, 171.04, 171.472, 171.904, 172.336, 172.768, 173.2, 173.632, 174.064, 174.496, 174.928, 175.36, 175.792, 176.224, 176.656, 177.088, 177.52, 177.952, 178.384, 178.816, 179.248, 179.68, 180.112, 180.544, 180.976, 181.408, 181.84, 182.272, 182.704, 183.136, 183.568, 184.0, 184.432, 184.864, 185.296, 185.728, 186.16, 186.592, 187.024, 187.456, 187.888, 188.32, 188.752, 189.184, 189.616, 190.048, 190.48, 190.912, 191.344, 191.776, 192.208, 192.64, 193.072, 193.504, 193.936, 194.368, 194.8, 195.232, 195.664, 196.096, 196.528, 196.96, 197.392, 197.824, 198.256, 198.688, 199.12, 199.552, 199.984, 200.416, 200.848, 201.28, 201.712, 202.144, 202.576, 203.008, 203.44, 203.872, 204.304, 204.736, 205.168, 205.6, 206.032, 206.464, 206.896, 207.328, 207.76, 208.192, 208.624, 209.056, 209.488, 209.92, 210.352, 210.784, 211.216, 211.648, 212.08, 212.512, 212.944, 213.376, 213.808, 214.24, 214.672, 215.104, 215.536, 215.968, 216.4, 216.832, 217.264, 217.696, 218.128, 218.56, 218.992, 219.424, 219.856, 220.288, 220.72, 221.152, 221.584, 222.016, 222.448, 222.88, 223.312, 223.744, 224.176, 224.608, 225.04, 225.472, 225.904, 226.336, 226.768, 227.2, 227.632, 228.064, 228.496, 228.928, 229.36, 229.792, 230.224, 230.656, 231.088, 231.52, 231.952, 232.384, 232.816, 233.248, 233.68, 234.112, 234.544, 234.976, 235.408, 235.84, 236.272, 236.704, 237.136, 237.568], \"xaxis\": \"x\", \"y\": [0.0005384697497995795, 0.0006039108282778451, 0.0006750930116588787, 0.0007522164418085648, 0.0008354461807353815, 0.0009249063713812576, 0.0010206746234772649, 0.0011227768146788832, 0.0012311825069717284, 0.0013458011803088416, 0.0014664794784382217, 0.0015929996451284562, 0.0017250793022188114, 0.0018623726843984539, 0.002004473400269145, 0.002150918736608176, 0.002301195464959585, 0.0024547470493913844, 0.0026109820945005653, 0.0027692838167823358, 0.0029290202735835938, 0.003089555045116154, 0.00325025803907992, 0.0034105160763810934, 0.003569742921463304, 0.0037273884421983442, 0.0038829466213953483, 0.0040359621930530125, 0.004186035738824283, 0.004332827150310878, 0.004476057436691407, 0.0046155089304236365, 0.0047510240119386015, 0.004882502533244597, 0.005009898166661872, 0.005133213935855868, 0.005252497200341069, 0.005367834361300414, 0.005479345536756694, 0.0055871794198690755, 0.005691508488462587, 0.005792524680671422, 0.005890435595115894, 0.005985461218811032, 0.006077831136286886, 0.006167782132907412, 0.006255556076993204, 0.0063413979509184355, 0.006425553901516244, 0.006508269194330513, 0.006589785982794414, 0.006670340839619227, 0.00675016204012705, 0.006829466632104855, 0.006908457370027304, 0.006987319629433253, 0.007066218446592224, 0.007145295846856458, 0.007224668630674667, 0.007304426778568946, 0.00738463261588213, 0.007465320846164067, 0.007546499520847161, 0.00762815196512653, 0.007710239628836947, 0.007792705779867737, 0.007875479909441353, 0.00795848267627167, 0.008041631182632585, 0.00812484435156396, 0.008208048162057077, 0.008291180498696638, 0.008374195383879155, 0.008457066383806085, 0.008539789012897465, 0.00862238200360552, 0.008704887358000544, 0.00878736915185554, 0.00886991111896586, 0.00895261310065427, 0.009035586500298067, 0.009118948932729094, 0.009202818301028858, 0.009287306566270647, 0.009372513497137152, 0.00945852069446812, 0.00954538617961501, 0.009633139814610354, 0.00972177978697286, 0.00981127034366219, 0.009901540899295585, 0.009992486576044271, 0.010083970160097357, 0.010175825386146559, 0.010267861391172986, 0.010359868116040857, 0.01045162238183194, 0.010542894330701758, 0.010633453900677272, 0.010723077001601283, 0.010811551075592996, 0.01089867975902928, 0.010984286412181616, 0.011068216344378354, 0.011150337633313714, 0.011230540512871574, 0.01130873538039647, 0.011384849547668585, 0.011458822926223645, 0.011530602893953985, 0.011600138633666103, 0.01166737526373131, 0.011732248095181193, 0.011794677348307896, 0.011854563645399607, 0.011911784565577656, 0.011966192504144059, 0.012017614024094313, 0.012065850823486405, 0.012110682371426349, 0.01215187019000542, 0.01218916368230174, 0.012222307330443846, 0.012251049015810178, 0.012275149148910277, 0.012294390242583787, 0.012308586521968779, 0.012317593141037806, 0.012321314570683237, 0.012319711738936413, 0.012312807540586857, 0.012300690390791782, 0.012283515573592075, 0.012261504228701975, 0.012234939924468863, 0.012204162876449803, 0.012169561983816836, 0.01213156496356709, 0.0120906269590484, 0.01204721807880456, 0.012001810379217808, 0.011954864836113976, 0.011906818854142975, 0.011858074837805327, 0.011808990295695737, 0.0117598698728241, 0.011710959609229053, 0.011662443612215922, 0.011614443210954447, 0.011567018542758808, 0.011520172406940244, 0.011473856120909504, 0.011427977029489136, 0.011382407256170082, 0.01133699324681261, 0.011291565642955923, 0.011245949032806606, 0.011199971161034081, 0.011153471230428426, 0.011106306995092975, 0.011058360421427407, 0.011009541774792842, 0.010959792071680382, 0.010909083915123557, 0.010857420801389543, 0.010804835045893026, 0.010751384523971487, 0.010697148456745678, 0.010642222493727125, 0.010586713352819426, 0.010530733276145239, 0.010474394548339542, 0.010417804304385565, 0.010361059828545259, 0.010304244516133853, 0.010247424637266127, 0.010190647007447168, 0.010133937634906923, 0.01007730137956881, 0.0100207226240191, 0.009964166923249407, 0.009907583567733223, 0.00985090896410169, 0.009794070709961066, 0.009736992215035527, 0.009679597700717316, 0.009621817395192564, 0.00956359273245804, 0.009504881361452522, 0.009445661776616012, 0.0093859373934969, 0.009325739912141091, 0.009265131836036604, 0.009204208044029053, 0.009143096345185063, 0.009081956980151957, 0.009020981065172724, 0.008960388004724583, 0.008900421924235359, 0.008841347194458274, 0.008783443133424376, 0.008726997980690479, 0.008672302242768307, 0.008619641509648411, 0.0085692888421307, 0.008521496830355637, 0.008476489427552346, 0.008434453671306298, 0.008395531418730152, 0.008359811242116414, 0.008327320657318883, 0.008298018886595983, 0.008271790388332026, 0.008248439414504857, 0.008227685879019243, 0.00820916283190552, 0.008192415831927834, 0.008176904490019411, 0.008162006415858595, 0.00814702373889027, 0.008131192293873333, 0.008113693462025916, 0.008093668546179307, 0.008070235437691711, 0.008042507211049417, 0.008009612166655411, 0.007970714741009369, 0.007925036623636098, 0.007871877368036387, 0.007810633764399541, 0.007740817257663373, 0.007662068746343245, 0.007574170183654624, 0.007477052518850979, 0.007370799657423114, 0.007255648276303337, 0.007131983495878857, 0.007000330575381909, 0.0068613429532033, 0.006715787090759275, 0.006564524690917534, 0.006408492944552805, 0.006248683508432011, 0.006086120933289123, 0.0059218412436554515, 0.005756871323639207, 0.0055922096898330335, 0.0054288091394666255, 0.005267561655130421, 0.005109285833449192, 0.00495471699037719, 0.004804499986145427, 0.004659184713264177, 0.0045192241052124625, 0.004384974454145945, 0.004256697774479246, 0.004134565915705799, 0.004018666111397465, 0.003909007650193735, 0.003805529366318411, 0.0037081076689246427, 0.003616564858386587, 0.0035306775106219946, 0.0034501847450016587, 0.003374796225150179, 0.003304199773249416, 0.00323806850616227, 0.003176067425194379, 0.003117859410506939, 0.0030631105864093477, 0.0030114950356351106, 0.0029626988500688935, 0.0029164235131447108, 0.0028723886161272126, 0.0028303339174288703, 0.002790020761503153, 0.0027512328819344813, 0.0027137766221074036, 0.002677480616030975, 0.0026421949810795414, 0.0026077900830228256, 0.0025741549411408653, 0.0025411953468654374, 0.0025088317727698104, 0.0024769971495124153, 0.0024456345863922463, 0.0024146951065750306, 0.00238413546108975, 0.002353916076847734, 0.0023239991838127708, 0.0022943471557411582, 0.0022649210883213754, 0.002235679628727197, 0.0022065780620978215, 0.0021775676536549124, 0.0021485952402478504, 0.0021196030620672115, 0.0020905288238666515, 0.0020613059748978255, 0.002031864197378172, 0.002002130094094543, 0.0019720280661109286, 0.0019414813709725074, 0.001910413349881895, 0.001878748808843094, 0.0018464155337074468, 0.0018133459126198374, 0.0017794786319700164, 0.0017447604042024668, 0.0017091476784582681, 0.0016726082788069401, 0.001635122910556149, 0.001596686473491635, 0.0015573091224235344, 0.0015170170203972076, 0.0014758527383970915, 0.001433875267075767, 0.0013911596204418287, 0.001347796027761047, 0.0013038887271987092, 0.001259554391881006, 0.0012149202349819787, 0.0011701218541212966, 0.0011253008859166578, 0.0010806025483310181, 0.0010361731511304346, 0.0009921576532719411, 0.0009486973406282466, 0.0009059276886593012, 0.0008639764632133675, 0.0008229620994851229, 0.000782992385240797, 0.0007441634606839121, 0.0007065591346186203, 0.000670250505539217, 0.0006352958673878653, 0.0006017408731924624, 0.0005696189256062686, 0.0005389517612972677, 0.0005097501957981917, 0.00048201499635070323, 0.0004557378519511403, 0.0004309024117579101, 0.0004074853648671996, 0.000385457535951205, 0.0003647849722789336, 0.00034542999825534163, 0.0003273522140059965, 0.0003105094149878902, 0.0002948584104625872, 0.00028035572026637517, 0.0002669581319439164, 0.00025462310416951025, 0.00024330900752487762, 0.00023297520004354776, 0.00022358194222434736, 0.0002150901640749487, 0.0002074611046748077, 0.00020065585218099067, 0.00019463481855803118, 0.00018935718804768536, 0.0001847803810477808, 0.00018085957531606395, 0.00017754732409804648, 0.00017479330592909284, 0.0001725442337059073, 0.0001707439415687895, 0.00016933365774586832, 0.0001682524604603392, 0.00016743790303059444, 0.00016682678414596698, 0.00016635603066969933, 0.00016596365379035116, 0.0001655897353437209, 0.0001651773999017307, 0.00016467372980767317, 0.0001640305845547229, 0.00016320529238904232, 0.0001621611902403709, 0.00016086799739452703, 0.00015930201801344441, 0.00015744617696450565, 0.00015528990178119998, 0.00015282887038706552, 0.0001500646490687355, 0.00014700424785301348, 0.00014365962088803679, 0.0001400471377955502, 0.00013618704856036435, 0.00013210295979506338, 0.00012782133468989193, 0.00012337102319269326, 0.00011878282350992554, 0.00011408907136270998, 0.00010932324995466315, 0.00010451961156251483, 9.971280115056474e-05, 9.493747339083803e-05, 9.022789675942639e-05, 8.561754167828665e-05, 8.113865360043257e-05, 7.682181607041609e-05, 7.269551270221508e-05, 6.878570030865071e-05, 6.51154077639278e-05, 6.170437635211059e-05, 5.8568757229010736e-05, 5.572088020049295e-05, 5.316910540774166e-05, 5.091776592053735e-05, 4.896720496222227e-05, 4.7313906864521004e-05, 4.595071623653895e-05, 4.486713557890234e-05, 4.404968799032997e-05, 4.348232894545628e-05, 4.314688953365265e-05, 4.30235331118623e-05, 4.309120801982051e-05, 4.3328080726063525e-05, 4.371193633616923e-05, 4.422053656328784e-05, 4.4831928764146305e-05, 4.552470320043371e-05, 4.6278199028344566e-05, 4.7072662415049644e-05, 4.788936244833296e-05, 4.8710672026108474e-05, 4.952012163667544e-05, 5.030243388810286e-05, 5.104354589914098e-05, 5.1730625360390975e-05, 5.235208438740597e-05, 5.289759341296511e-05, 5.335809550399241e-05, 5.372581982643327e-05, 5.3994291677335725e-05, 5.415833567506333e-05, 5.421406841419173e-05, 5.4158877165671626e-05, 5.3991381996221213e-05, 5.3711379905660385e-05, 5.3319771108648975e-05, 5.2818469261007203e-05, 5.221029907876126e-05, 5.149888624897163e-05, 5.0688545629427524e-05, 4.97841743527677e-05, 4.879115650339692e-05, 4.7715285485071e-05, 4.656270905802728e-05, 4.533990036378232e-05, 4.4053656187041525e-05, 4.271112137958475e-05, 4.13198359685638e-05, 3.988779918109341e-05, 3.842354262430116e-05, 3.693620333235609e-05, 3.5435586464460805e-05, 3.393220720260576e-05, 3.243730189747006e-05, 3.0962799734863544e-05, 2.952124808183731e-05, 2.812568711314921e-05, 2.6789472169768494e-05, 2.5526045389598973e-05, 2.4348661290552707e-05, 2.3270073990087327e-05, 2.230219643648952e-05, 2.1455744249815755e-05, 2.073987839814617e-05, 2.0161861876591515e-05, 1.9726745759785808e-05, 1.94370994502594e-05, 1.9292798670160485e-05, 1.9290882802458526e-05, 1.9425490671104477e-05, 1.9687880874319406e-05, 2.006653948768415e-05, 2.054737448389147e-05, 2.1113992730695377e-05, 2.1748052084735866e-05, 2.2429678046988624e-05, 2.313793182286072e-05, 2.385131455421161e-05, 2.4548291054354e-05, 2.520781564285822e-05, 2.5809842673627556e-05, 2.6335805070619593e-05, 2.6769045588708766e-05, 2.7095187527108256e-05, 2.7302434134929293e-05, 2.7381788835185192e-05, 2.7327191511605644e-05, 2.713556930175295e-05, 2.680680347163162e-05, 2.6343616873029358e-05, 2.5751389084699732e-05, 2.5037908515297242e-05, 2.4213072430397885e-05], \"yaxis\": \"y\"}],\n",
              "                        {\"barmode\": \"overlay\", \"height\": 500, \"hovermode\": \"closest\", \"legend\": {\"traceorder\": \"reversed\"}, \"showlegend\": false, \"template\": {\"data\": {\"bar\": [{\"error_x\": {\"color\": \"#2a3f5f\"}, \"error_y\": {\"color\": \"#2a3f5f\"}, \"marker\": {\"line\": {\"color\": \"#E5ECF6\", \"width\": 0.5}}, \"type\": \"bar\"}], \"barpolar\": [{\"marker\": {\"line\": {\"color\": \"#E5ECF6\", \"width\": 0.5}}, \"type\": \"barpolar\"}], \"carpet\": [{\"aaxis\": {\"endlinecolor\": \"#2a3f5f\", \"gridcolor\": \"white\", \"linecolor\": \"white\", \"minorgridcolor\": \"white\", \"startlinecolor\": \"#2a3f5f\"}, \"baxis\": {\"endlinecolor\": \"#2a3f5f\", \"gridcolor\": \"white\", \"linecolor\": \"white\", \"minorgridcolor\": \"white\", \"startlinecolor\": \"#2a3f5f\"}, \"type\": \"carpet\"}], \"choropleth\": [{\"colorbar\": {\"outlinewidth\": 0, \"ticks\": \"\"}, \"type\": \"choropleth\"}], \"contour\": [{\"colorbar\": {\"outlinewidth\": 0, \"ticks\": \"\"}, \"colorscale\": [[0.0, \"#0d0887\"], [0.1111111111111111, \"#46039f\"], [0.2222222222222222, \"#7201a8\"], [0.3333333333333333, \"#9c179e\"], [0.4444444444444444, \"#bd3786\"], [0.5555555555555556, \"#d8576b\"], [0.6666666666666666, \"#ed7953\"], [0.7777777777777778, \"#fb9f3a\"], [0.8888888888888888, \"#fdca26\"], [1.0, \"#f0f921\"]], \"type\": \"contour\"}], \"contourcarpet\": [{\"colorbar\": {\"outlinewidth\": 0, \"ticks\": \"\"}, \"type\": \"contourcarpet\"}], \"heatmap\": [{\"colorbar\": {\"outlinewidth\": 0, \"ticks\": \"\"}, \"colorscale\": [[0.0, \"#0d0887\"], [0.1111111111111111, \"#46039f\"], [0.2222222222222222, \"#7201a8\"], [0.3333333333333333, \"#9c179e\"], [0.4444444444444444, \"#bd3786\"], [0.5555555555555556, \"#d8576b\"], [0.6666666666666666, \"#ed7953\"], [0.7777777777777778, \"#fb9f3a\"], [0.8888888888888888, \"#fdca26\"], [1.0, \"#f0f921\"]], \"type\": \"heatmap\"}], \"heatmapgl\": [{\"colorbar\": {\"outlinewidth\": 0, \"ticks\": \"\"}, \"colorscale\": [[0.0, \"#0d0887\"], [0.1111111111111111, \"#46039f\"], [0.2222222222222222, \"#7201a8\"], [0.3333333333333333, \"#9c179e\"], [0.4444444444444444, \"#bd3786\"], [0.5555555555555556, \"#d8576b\"], [0.6666666666666666, \"#ed7953\"], [0.7777777777777778, \"#fb9f3a\"], [0.8888888888888888, \"#fdca26\"], [1.0, \"#f0f921\"]], \"type\": \"heatmapgl\"}], \"histogram\": [{\"marker\": {\"colorbar\": {\"outlinewidth\": 0, \"ticks\": \"\"}}, \"type\": \"histogram\"}], \"histogram2d\": [{\"colorbar\": {\"outlinewidth\": 0, \"ticks\": \"\"}, \"colorscale\": [[0.0, \"#0d0887\"], [0.1111111111111111, \"#46039f\"], [0.2222222222222222, \"#7201a8\"], [0.3333333333333333, \"#9c179e\"], [0.4444444444444444, \"#bd3786\"], [0.5555555555555556, \"#d8576b\"], [0.6666666666666666, \"#ed7953\"], [0.7777777777777778, \"#fb9f3a\"], [0.8888888888888888, \"#fdca26\"], [1.0, \"#f0f921\"]], \"type\": \"histogram2d\"}], \"histogram2dcontour\": [{\"colorbar\": {\"outlinewidth\": 0, \"ticks\": \"\"}, \"colorscale\": [[0.0, \"#0d0887\"], [0.1111111111111111, \"#46039f\"], [0.2222222222222222, \"#7201a8\"], [0.3333333333333333, \"#9c179e\"], [0.4444444444444444, \"#bd3786\"], [0.5555555555555556, \"#d8576b\"], [0.6666666666666666, \"#ed7953\"], [0.7777777777777778, \"#fb9f3a\"], [0.8888888888888888, \"#fdca26\"], [1.0, \"#f0f921\"]], \"type\": \"histogram2dcontour\"}], \"mesh3d\": [{\"colorbar\": {\"outlinewidth\": 0, \"ticks\": \"\"}, \"type\": \"mesh3d\"}], \"parcoords\": [{\"line\": {\"colorbar\": {\"outlinewidth\": 0, \"ticks\": \"\"}}, \"type\": \"parcoords\"}], \"pie\": [{\"automargin\": true, \"type\": \"pie\"}], \"scatter\": [{\"marker\": {\"colorbar\": {\"outlinewidth\": 0, \"ticks\": \"\"}}, \"type\": \"scatter\"}], \"scatter3d\": [{\"line\": {\"colorbar\": {\"outlinewidth\": 0, \"ticks\": \"\"}}, \"marker\": {\"colorbar\": {\"outlinewidth\": 0, \"ticks\": \"\"}}, \"type\": \"scatter3d\"}], \"scattercarpet\": [{\"marker\": {\"colorbar\": {\"outlinewidth\": 0, \"ticks\": \"\"}}, \"type\": \"scattercarpet\"}], \"scattergeo\": [{\"marker\": {\"colorbar\": {\"outlinewidth\": 0, \"ticks\": \"\"}}, \"type\": \"scattergeo\"}], \"scattergl\": [{\"marker\": {\"colorbar\": {\"outlinewidth\": 0, \"ticks\": \"\"}}, \"type\": \"scattergl\"}], \"scattermapbox\": [{\"marker\": {\"colorbar\": {\"outlinewidth\": 0, \"ticks\": \"\"}}, \"type\": \"scattermapbox\"}], \"scatterpolar\": [{\"marker\": {\"colorbar\": {\"outlinewidth\": 0, \"ticks\": \"\"}}, \"type\": \"scatterpolar\"}], \"scatterpolargl\": [{\"marker\": {\"colorbar\": {\"outlinewidth\": 0, \"ticks\": \"\"}}, \"type\": \"scatterpolargl\"}], \"scatterternary\": [{\"marker\": {\"colorbar\": {\"outlinewidth\": 0, \"ticks\": \"\"}}, \"type\": \"scatterternary\"}], \"surface\": [{\"colorbar\": {\"outlinewidth\": 0, \"ticks\": \"\"}, \"colorscale\": [[0.0, \"#0d0887\"], [0.1111111111111111, \"#46039f\"], [0.2222222222222222, \"#7201a8\"], [0.3333333333333333, \"#9c179e\"], [0.4444444444444444, \"#bd3786\"], [0.5555555555555556, \"#d8576b\"], [0.6666666666666666, \"#ed7953\"], [0.7777777777777778, \"#fb9f3a\"], [0.8888888888888888, \"#fdca26\"], [1.0, \"#f0f921\"]], \"type\": \"surface\"}], \"table\": [{\"cells\": {\"fill\": {\"color\": \"#EBF0F8\"}, \"line\": {\"color\": \"white\"}}, \"header\": {\"fill\": {\"color\": \"#C8D4E3\"}, \"line\": {\"color\": \"white\"}}, \"type\": \"table\"}]}, \"layout\": {\"annotationdefaults\": {\"arrowcolor\": \"#2a3f5f\", \"arrowhead\": 0, \"arrowwidth\": 1}, \"coloraxis\": {\"colorbar\": {\"outlinewidth\": 0, \"ticks\": \"\"}}, \"colorscale\": {\"diverging\": [[0, \"#8e0152\"], [0.1, \"#c51b7d\"], [0.2, \"#de77ae\"], [0.3, \"#f1b6da\"], [0.4, \"#fde0ef\"], [0.5, \"#f7f7f7\"], [0.6, \"#e6f5d0\"], [0.7, \"#b8e186\"], [0.8, \"#7fbc41\"], [0.9, \"#4d9221\"], [1, \"#276419\"]], \"sequential\": [[0.0, \"#0d0887\"], [0.1111111111111111, \"#46039f\"], [0.2222222222222222, \"#7201a8\"], [0.3333333333333333, \"#9c179e\"], [0.4444444444444444, \"#bd3786\"], [0.5555555555555556, \"#d8576b\"], [0.6666666666666666, \"#ed7953\"], [0.7777777777777778, \"#fb9f3a\"], [0.8888888888888888, \"#fdca26\"], [1.0, \"#f0f921\"]], \"sequentialminus\": [[0.0, \"#0d0887\"], [0.1111111111111111, \"#46039f\"], [0.2222222222222222, \"#7201a8\"], [0.3333333333333333, \"#9c179e\"], [0.4444444444444444, \"#bd3786\"], [0.5555555555555556, \"#d8576b\"], [0.6666666666666666, \"#ed7953\"], [0.7777777777777778, \"#fb9f3a\"], [0.8888888888888888, \"#fdca26\"], [1.0, \"#f0f921\"]]}, \"colorway\": [\"#636efa\", \"#EF553B\", \"#00cc96\", \"#ab63fa\", \"#FFA15A\", \"#19d3f3\", \"#FF6692\", \"#B6E880\", \"#FF97FF\", \"#FECB52\"], \"font\": {\"color\": \"#2a3f5f\"}, \"geo\": {\"bgcolor\": \"white\", \"lakecolor\": \"white\", \"landcolor\": \"#E5ECF6\", \"showlakes\": true, \"showland\": true, \"subunitcolor\": \"white\"}, \"hoverlabel\": {\"align\": \"left\"}, \"hovermode\": \"closest\", \"mapbox\": {\"style\": \"light\"}, \"paper_bgcolor\": \"white\", \"plot_bgcolor\": \"#E5ECF6\", \"polar\": {\"angularaxis\": {\"gridcolor\": \"white\", \"linecolor\": \"white\", \"ticks\": \"\"}, \"bgcolor\": \"#E5ECF6\", \"radialaxis\": {\"gridcolor\": \"white\", \"linecolor\": \"white\", \"ticks\": \"\"}}, \"scene\": {\"xaxis\": {\"backgroundcolor\": \"#E5ECF6\", \"gridcolor\": \"white\", \"gridwidth\": 2, \"linecolor\": \"white\", \"showbackground\": true, \"ticks\": \"\", \"zerolinecolor\": \"white\"}, \"yaxis\": {\"backgroundcolor\": \"#E5ECF6\", \"gridcolor\": \"white\", \"gridwidth\": 2, \"linecolor\": \"white\", \"showbackground\": true, \"ticks\": \"\", \"zerolinecolor\": \"white\"}, \"zaxis\": {\"backgroundcolor\": \"#E5ECF6\", \"gridcolor\": \"white\", \"gridwidth\": 2, \"linecolor\": \"white\", \"showbackground\": true, \"ticks\": \"\", \"zerolinecolor\": \"white\"}}, \"shapedefaults\": {\"line\": {\"color\": \"#2a3f5f\"}}, \"ternary\": {\"aaxis\": {\"gridcolor\": \"white\", \"linecolor\": \"white\", \"ticks\": \"\"}, \"baxis\": {\"gridcolor\": \"white\", \"linecolor\": \"white\", \"ticks\": \"\"}, \"bgcolor\": \"#E5ECF6\", \"caxis\": {\"gridcolor\": \"white\", \"linecolor\": \"white\", \"ticks\": \"\"}}, \"title\": {\"x\": 0.05}, \"xaxis\": {\"automargin\": true, \"gridcolor\": \"white\", \"linecolor\": \"white\", \"ticks\": \"\", \"title\": {\"standoff\": 15}, \"zerolinecolor\": \"white\", \"zerolinewidth\": 2}, \"yaxis\": {\"automargin\": true, \"gridcolor\": \"white\", \"linecolor\": \"white\", \"ticks\": \"\", \"title\": {\"standoff\": 15}, \"zerolinecolor\": \"white\", \"zerolinewidth\": 2}}}, \"title\": {\"text\": \"PDF\", \"x\": 0.5, \"xanchor\": \"center\", \"y\": 0.9, \"yanchor\": \"top\"}, \"width\": 500, \"xaxis\": {\"anchor\": \"y2\", \"domain\": [0.0, 1.0], \"title\": {\"text\": \"Length of a Short Description\"}, \"zeroline\": false}, \"yaxis\": {\"anchor\": \"free\", \"domain\": [0.0, 1], \"position\": 0.0, \"title\": {\"text\": \"probability\"}}},\n",
              "                        {\"responsive\": true}\n",
              "                    ).then(function(){\n",
              "                            \n",
              "var gd = document.getElementById('96363fef-34fd-49e2-9c25-5d66bf6ce11b');\n",
              "var x = new MutationObserver(function (mutations, observer) {{\n",
              "        var display = window.getComputedStyle(gd).display;\n",
              "        if (!display || display === 'none') {{\n",
              "            console.log([gd, 'removed!']);\n",
              "            Plotly.purge(gd);\n",
              "            observer.disconnect();\n",
              "        }}\n",
              "}});\n",
              "\n",
              "// Listen for the removal of the full notebook cells\n",
              "var notebookContainer = gd.closest('#notebook-container');\n",
              "if (notebookContainer) {{\n",
              "    x.observe(notebookContainer, {childList: true});\n",
              "}}\n",
              "\n",
              "// Listen for the clearing of the current output cell\n",
              "var outputEl = gd.closest('.output');\n",
              "if (outputEl) {{\n",
              "    x.observe(outputEl, {childList: true});\n",
              "}}\n",
              "\n",
              "                        })\n",
              "                };\n",
              "                \n",
              "            </script>\n",
              "        </div>\n",
              "</body>\n",
              "</html>"
            ]
          },
          "metadata": {
            "tags": []
          }
        }
      ]
    },
    {
      "cell_type": "markdown",
      "metadata": {
        "id": "5eQ8VEASllyn"
      },
      "source": [
        "# 4. NLP\n",
        "<a id=\"section4\"> </a>"
      ]
    },
    {
      "cell_type": "code",
      "metadata": {
        "id": "pG2Rrnmtllyo"
      },
      "source": [
        "# Import the English language class\n",
        "from spacy.lang.en import English\n",
        "# Create the nlp object\n",
        "nlp = English()"
      ],
      "execution_count": 55,
      "outputs": []
    },
    {
      "cell_type": "markdown",
      "metadata": {
        "id": "96HdTAUallyo"
      },
      "source": [
        "### 4.1 Tokenizing the text\n",
        "<a id=\"section41\"> </a>"
      ]
    },
    {
      "cell_type": "code",
      "metadata": {
        "id": "ON4f6J0kllyp"
      },
      "source": [
        "df['short_description_nlp_tokens'] = df.short_description.apply(lambda x: [token.text for token in nlp(x)])"
      ],
      "execution_count": 58,
      "outputs": []
    },
    {
      "cell_type": "code",
      "metadata": {
        "colab": {
          "base_uri": "https://localhost:8080/",
          "height": 938
        },
        "id": "qg8j3Zdqllyp",
        "outputId": "a6f0fb9d-c3c8-43b0-a8c3-330aea1a4be2"
      },
      "source": [
        "df.head()"
      ],
      "execution_count": 59,
      "outputs": [
        {
          "output_type": "execute_result",
          "data": {
            "text/html": [
              "<div>\n",
              "<style scoped>\n",
              "    .dataframe tbody tr th:only-of-type {\n",
              "        vertical-align: middle;\n",
              "    }\n",
              "\n",
              "    .dataframe tbody tr th {\n",
              "        vertical-align: top;\n",
              "    }\n",
              "\n",
              "    .dataframe thead th {\n",
              "        text-align: right;\n",
              "    }\n",
              "</style>\n",
              "<table border=\"1\" class=\"dataframe\">\n",
              "  <thead>\n",
              "    <tr style=\"text-align: right;\">\n",
              "      <th></th>\n",
              "      <th>category</th>\n",
              "      <th>headline</th>\n",
              "      <th>authors</th>\n",
              "      <th>link</th>\n",
              "      <th>short_description</th>\n",
              "      <th>date</th>\n",
              "      <th>short_description_nlp_tokens</th>\n",
              "    </tr>\n",
              "  </thead>\n",
              "  <tbody>\n",
              "    <tr>\n",
              "      <th>0</th>\n",
              "      <td>COMEDY</td>\n",
              "      <td>People Of Twitter Accurately Describe 2018 Thus Far With Song Lyrics</td>\n",
              "      <td>Andy McDonald</td>\n",
              "      <td>https://www.huffingtonpost.com/entry/twitter-describes-2018-thus-far-with-song-lyrics_us_5a5912d3e4b04f3c55a26d16</td>\n",
              "      <td>🎵 \"I wanna be sedated.\" 🎵</td>\n",
              "      <td>2018-01-12</td>\n",
              "      <td>[🎵, \", I, wanna, be, sedated, ., \", 🎵]</td>\n",
              "    </tr>\n",
              "    <tr>\n",
              "      <th>1</th>\n",
              "      <td>POLITICS</td>\n",
              "      <td>Protestors Want Green Day's 'American Idiot' To Top UK Chart For Trump Visit</td>\n",
              "      <td>Lee Moran</td>\n",
              "      <td>https://www.huffingtonpost.com/entry/donald-trump-uk-visit-american-idiot_us_5ae8334ee4b055fd7fcf4fab</td>\n",
              "      <td>🎤 Don't wanna be an American idiot... 🎤</td>\n",
              "      <td>2018-05-01</td>\n",
              "      <td>[🎤, Do, n't, wanna, be, an, American, idiot, ..., 🎤]</td>\n",
              "    </tr>\n",
              "    <tr>\n",
              "      <th>2</th>\n",
              "      <td>WEIRD NEWS</td>\n",
              "      <td>Spanish Woman Looks More Like Trump Than The Donald Himself</td>\n",
              "      <td>David Moye</td>\n",
              "      <td>https://www.huffingtonpost.com/entry/dolores-antelo-donald-trump-lookalike_us_5adf8ed2e4b07be4d4c58c8c</td>\n",
              "      <td>″My photo seems to have traveled far. I say it is because of the color of my hair,” she said.</td>\n",
              "      <td>2018-04-24</td>\n",
              "      <td>[″My, photo, seems, to, have, traveled, far, ., I, say, it, is, because, of, the, color, of, my, hair, ,, ”, she, said, .]</td>\n",
              "    </tr>\n",
              "    <tr>\n",
              "      <th>3</th>\n",
              "      <td>BLACK VOICES</td>\n",
              "      <td>Mississippi School Finds No Evidence Principal Cut Student's Hair Without Permission (UPDATE)</td>\n",
              "      <td>David Moye</td>\n",
              "      <td>https://www.huffingtonpost.com/entry/mississippi-boy-hair-locs-cut-principal_us_5abbfa33e4b03e2a5c78e34d</td>\n",
              "      <td>“[W]e found absolutely no evidence ... that his allegations of having his hair cut at school exist.\"</td>\n",
              "      <td>2018-03-28</td>\n",
              "      <td>[“, [, W]e, found, absolutely, no, evidence, ..., that, his, allegations, of, having, his, hair, cut, at, school, exist, ., \"]</td>\n",
              "    </tr>\n",
              "    <tr>\n",
              "      <th>4</th>\n",
              "      <td>ENTERTAINMENT</td>\n",
              "      <td>Deaf Activist Points Out That Marvel’s Diversity Problem Isn’t Just About Race</td>\n",
              "      <td>Elyse Wanshel</td>\n",
              "      <td>https://www.huffingtonpost.com/entry/deaf-activist-points-out-that-marvels-diversity-problem-isnt-just-about-race_us_5afc9816e4b0a59b4e002ee9</td>\n",
              "      <td>“[People] think diversity has to do with race and gender, but there’s so much more to it.”</td>\n",
              "      <td>2018-05-17</td>\n",
              "      <td>[“, [, People, ], think, diversity, has, to, do, with, race, and, gender, ,, but, there, ’s, so, much, more, to, it, ., ”]</td>\n",
              "    </tr>\n",
              "  </tbody>\n",
              "</table>\n",
              "</div>"
            ],
            "text/plain": [
              "        category  \\\n",
              "0         COMEDY   \n",
              "1       POLITICS   \n",
              "2     WEIRD NEWS   \n",
              "3   BLACK VOICES   \n",
              "4  ENTERTAINMENT   \n",
              "\n",
              "                                                                                        headline  \\\n",
              "0                           People Of Twitter Accurately Describe 2018 Thus Far With Song Lyrics   \n",
              "1                   Protestors Want Green Day's 'American Idiot' To Top UK Chart For Trump Visit   \n",
              "2                                    Spanish Woman Looks More Like Trump Than The Donald Himself   \n",
              "3  Mississippi School Finds No Evidence Principal Cut Student's Hair Without Permission (UPDATE)   \n",
              "4                 Deaf Activist Points Out That Marvel’s Diversity Problem Isn’t Just About Race   \n",
              "\n",
              "         authors  \\\n",
              "0  Andy McDonald   \n",
              "1      Lee Moran   \n",
              "2     David Moye   \n",
              "3     David Moye   \n",
              "4  Elyse Wanshel   \n",
              "\n",
              "                                                                                                                                            link  \\\n",
              "0                              https://www.huffingtonpost.com/entry/twitter-describes-2018-thus-far-with-song-lyrics_us_5a5912d3e4b04f3c55a26d16   \n",
              "1                                          https://www.huffingtonpost.com/entry/donald-trump-uk-visit-american-idiot_us_5ae8334ee4b055fd7fcf4fab   \n",
              "2                                         https://www.huffingtonpost.com/entry/dolores-antelo-donald-trump-lookalike_us_5adf8ed2e4b07be4d4c58c8c   \n",
              "3                                       https://www.huffingtonpost.com/entry/mississippi-boy-hair-locs-cut-principal_us_5abbfa33e4b03e2a5c78e34d   \n",
              "4  https://www.huffingtonpost.com/entry/deaf-activist-points-out-that-marvels-diversity-problem-isnt-just-about-race_us_5afc9816e4b0a59b4e002ee9   \n",
              "\n",
              "                                                                                      short_description  \\\n",
              "0                                                                             🎵 \"I wanna be sedated.\" 🎵   \n",
              "1                                                               🎤 Don't wanna be an American idiot... 🎤   \n",
              "2         ″My photo seems to have traveled far. I say it is because of the color of my hair,” she said.   \n",
              "3  “[W]e found absolutely no evidence ... that his allegations of having his hair cut at school exist.\"   \n",
              "4            “[People] think diversity has to do with race and gender, but there’s so much more to it.”   \n",
              "\n",
              "        date  \\\n",
              "0 2018-01-12   \n",
              "1 2018-05-01   \n",
              "2 2018-04-24   \n",
              "3 2018-03-28   \n",
              "4 2018-05-17   \n",
              "\n",
              "                                                                                                     short_description_nlp_tokens  \n",
              "0                                                                                          [🎵, \", I, wanna, be, sedated, ., \", 🎵]  \n",
              "1                                                                            [🎤, Do, n't, wanna, be, an, American, idiot, ..., 🎤]  \n",
              "2      [″My, photo, seems, to, have, traveled, far, ., I, say, it, is, because, of, the, color, of, my, hair, ,, ”, she, said, .]  \n",
              "3  [“, [, W]e, found, absolutely, no, evidence, ..., that, his, allegations, of, having, his, hair, cut, at, school, exist, ., \"]  \n",
              "4      [“, [, People, ], think, diversity, has, to, do, with, race, and, gender, ,, but, there, ’s, so, much, more, to, it, ., ”]  "
            ]
          },
          "metadata": {
            "tags": []
          },
          "execution_count": 59
        }
      ]
    },
    {
      "cell_type": "markdown",
      "metadata": {
        "id": "XXFVPsTnllyp"
      },
      "source": [
        "### 4.2 Extracting keywords from text : NER\n",
        "<a id=\"section42\"> </a>"
      ]
    },
    {
      "cell_type": "code",
      "metadata": {
        "id": "F7tM_EhEllyp"
      },
      "source": [
        "import spacy\n",
        "# Load the small English model\n",
        "nlp = spacy.load('en_core_web_sm')"
      ],
      "execution_count": 60,
      "outputs": []
    },
    {
      "cell_type": "code",
      "metadata": {
        "id": "eQwNUvOVllyp"
      },
      "source": [
        "df['NER'] = df.short_description.apply(lambda x: {ent.text:ent.label_ for ent in nlp(x).ents})"
      ],
      "execution_count": 61,
      "outputs": []
    },
    {
      "cell_type": "code",
      "metadata": {
        "id": "j6xN2kgUllyq"
      },
      "source": [
        "ner_data = defaultdict(set)"
      ],
      "execution_count": 62,
      "outputs": []
    },
    {
      "cell_type": "code",
      "metadata": {
        "id": "v0ysW5XKllyq"
      },
      "source": [
        "for row in df.itertuples():\n",
        "    ner_d = row[-1]\n",
        "    if ner_d:\n",
        "        for text,label in ner_d.items():\n",
        "            ner_data[label].add(text)"
      ],
      "execution_count": 63,
      "outputs": []
    },
    {
      "cell_type": "code",
      "metadata": {
        "colab": {
          "base_uri": "https://localhost:8080/"
        },
        "id": "4SqveuBRllyq",
        "outputId": "dd956e55-3444-4938-a56a-5cf5807a1098"
      },
      "source": [
        "for label, examples in ner_data.items():\n",
        "    print(label)\n",
        "    print(list(examples)[:10])\n",
        "    print()"
      ],
      "execution_count": 64,
      "outputs": [
        {
          "output_type": "stream",
          "text": [
            "ORG\n",
            "['The Defense Department', 'Fed', 'Quinn Norton', 'Shri Thanedar', \"Sheriff Israel's\", 'Ebenezer', 'the Senate Intelligence committee', \"The Children's Health Insurance Program\", 'The State Department', 'Team USA']\n",
            "\n",
            "NORP\n",
            "['slur', 'Qatari', 'Republicans', 'Americans', 'Palestinians', 'Czech', 'Kevlar', 'Han', 'Armenians', 'Moroccan']\n",
            "\n",
            "CARDINAL\n",
            "['some 60', 'more than 31', 'only 10', 'more than 1,000', 'About two-thirds', 'only 17', '16', '150', 'more than two dozen', 'only one']\n",
            "\n",
            "PERSON\n",
            "['Jennifer Roach', 'Francis', 'Mia Amor Mottley', 'Allen', 'Markle', 'Leonardo DiCaprio', 'Tyrone Hankerson Jr.', 'Bebe', 'Ayatollah Ali Khamenei', 'Justina Machado']\n",
            "\n",
            "GPE\n",
            "['Myanmar', 'Honduras', 'Montréal', 'Maryland', 'Gus Kenworthy', 'Us', 'Kanye West', 'Wales', 'Sting', 'mosque']\n",
            "\n",
            "DATE\n",
            "['zero days', 'July 24', '2,000 years old', 'February', 'A Day', 'last summer', 'every day', '2009', 'week', '1985']\n",
            "\n",
            "WORK_OF_ART\n",
            "['Newsnight', 'Whip My Hair', 'PhD', '“A Christmas Carol', 'The Music of What Happens', 'Django Jane', 'the \"Dancing With The Stars', 'Cher: The Unauthorized Rusical', 'Notting Hill', 'The Princess Diarist']\n",
            "\n",
            "LOC\n",
            "['the Prince of Wales', 'the Bay Area', 'Arctic', 'Europe', 'Oscars', 'Islamophobia', 'the East Coast', 'the Gulf of Mexico', 'Biden', 'West']\n",
            "\n",
            "PRODUCT\n",
            "['slur', 'YouTube', 'MAGA', 'Diet Coke', 'USPS', 'CBD', 'the \"Roseanne\" reboot', 'the “Roseanne”\\xa0reboot', \"Melinda Pavey's\", 'Sessions']\n",
            "\n",
            "TIME\n",
            "['tonight', 'hours', 'minutes', 'my 15 minutes', 'Monday morning', 'morning', '11:59 pm ET', 'one minute', 'Hours', '72 hours']\n",
            "\n",
            "ORDINAL\n",
            "['20th', '25th', 'seventh', '29th', '9th', '6th', 'fifth', '10th', 'fourth', 'second']\n",
            "\n",
            "QUANTITY\n",
            "['six nominations', '44 pounds', 'more than 1.5 degrees', 'more than 3,000 miles', 'at least 500 feet', '32,000 feet', 'roughly 370 miles', 'a ton', '13 nominations', 'only a single']\n",
            "\n",
            "EVENT\n",
            "['Olympic Winter Games', \"the New Year's Eve\", \"International Women's Day\", 'The Winter Olympics', 'The \"Infinity War\"', 'the Super Bowl', \"the Cannes festival's\", 'the Iraq War', 'the Winter Olympics', 'Hurricane Rudy']\n",
            "\n",
            "MONEY\n",
            "['400', 'roughly $60,000-a', 'A thousand dollars', '$16.9 million', '$250 million', '31,000', 'TransIsBeautiful', '12', '5,000', 'more than $4.5 million']\n",
            "\n",
            "LAW\n",
            "['Grand Slam', 'a clean Dream Act', 'YouTube', 'Domestic Partnership Act', 'The 25th Amendment', 'Constitution', 'Bill of Rights Act', 'the Affordable Care Act', 'The Chinese Exclusion Act', 'Official Secrets Act']\n",
            "\n",
            "FAC\n",
            "['the State of the Union', 'Golden Globes', 'Hildi Santo-Tomas', 'the Hollywood Walk of Fame', 'a Philadelphia Starbucks', 'the Golden 1 Center', 'Domodedovo airport', 'Michigan Central Station', 'the Statue of Liberty', 'the Golden Globes']\n",
            "\n",
            "PERCENT\n",
            "['17 percent', '85 percent', 'Just 1 percent', '2 percent', '61 percent', 'An estimated 6 percent', '69 percent', '100 percent', '90 percent', '258 percent']\n",
            "\n",
            "LANGUAGE\n",
            "['Spanish', 'English', 'Russian']\n",
            "\n"
          ],
          "name": "stdout"
        }
      ]
    },
    {
      "cell_type": "markdown",
      "metadata": {
        "id": "k_s4xjWGllyq"
      },
      "source": [
        "# 5. Deep Learning\n",
        "<a id=\"section4\"> </a>"
      ]
    },
    {
      "cell_type": "code",
      "metadata": {
        "id": "bUoyD5fhllyq"
      },
      "source": [
        "import torch\n",
        "from tqdm.notebook import tqdm\n",
        "\n",
        "from transformers import BertTokenizer\n",
        "from torch.utils.data import TensorDataset\n",
        "\n",
        "from transformers import BertForSequenceClassification"
      ],
      "execution_count": 66,
      "outputs": []
    },
    {
      "cell_type": "code",
      "metadata": {
        "id": "Aw7RPZTYllyr"
      },
      "source": [
        "df = pd.read_csv('data.csv')"
      ],
      "execution_count": 67,
      "outputs": []
    },
    {
      "cell_type": "code",
      "metadata": {
        "colab": {
          "base_uri": "https://localhost:8080/",
          "height": 204
        },
        "id": "FRV-vjhullyr",
        "outputId": "b4413da1-bd35-4c0e-d804-06c638d76653"
      },
      "source": [
        "df.head()"
      ],
      "execution_count": 68,
      "outputs": [
        {
          "output_type": "execute_result",
          "data": {
            "text/html": [
              "<div>\n",
              "<style scoped>\n",
              "    .dataframe tbody tr th:only-of-type {\n",
              "        vertical-align: middle;\n",
              "    }\n",
              "\n",
              "    .dataframe tbody tr th {\n",
              "        vertical-align: top;\n",
              "    }\n",
              "\n",
              "    .dataframe thead th {\n",
              "        text-align: right;\n",
              "    }\n",
              "</style>\n",
              "<table border=\"1\" class=\"dataframe\">\n",
              "  <thead>\n",
              "    <tr style=\"text-align: right;\">\n",
              "      <th></th>\n",
              "      <th>category</th>\n",
              "      <th>short_description</th>\n",
              "    </tr>\n",
              "  </thead>\n",
              "  <tbody>\n",
              "    <tr>\n",
              "      <th>0</th>\n",
              "      <td>COMEDY</td>\n",
              "      <td>🎵 \"I wanna be sedated.\" 🎵</td>\n",
              "    </tr>\n",
              "    <tr>\n",
              "      <th>1</th>\n",
              "      <td>POLITICS</td>\n",
              "      <td>🎤 Don't wanna be an American idiot... 🎤</td>\n",
              "    </tr>\n",
              "    <tr>\n",
              "      <th>2</th>\n",
              "      <td>WEIRD NEWS</td>\n",
              "      <td>″My photo seems to have traveled far. I say it is because of the color of my hair,” she said.</td>\n",
              "    </tr>\n",
              "    <tr>\n",
              "      <th>3</th>\n",
              "      <td>BLACK VOICES</td>\n",
              "      <td>“[W]e found absolutely no evidence ... that his allegations of having his hair cut at school exist.\"</td>\n",
              "    </tr>\n",
              "    <tr>\n",
              "      <th>4</th>\n",
              "      <td>ENTERTAINMENT</td>\n",
              "      <td>“[People] think diversity has to do with race and gender, but there’s so much more to it.”</td>\n",
              "    </tr>\n",
              "  </tbody>\n",
              "</table>\n",
              "</div>"
            ],
            "text/plain": [
              "        category  \\\n",
              "0         COMEDY   \n",
              "1       POLITICS   \n",
              "2     WEIRD NEWS   \n",
              "3   BLACK VOICES   \n",
              "4  ENTERTAINMENT   \n",
              "\n",
              "                                                                                      short_description  \n",
              "0                                                                             🎵 \"I wanna be sedated.\" 🎵  \n",
              "1                                                               🎤 Don't wanna be an American idiot... 🎤  \n",
              "2         ″My photo seems to have traveled far. I say it is because of the color of my hair,” she said.  \n",
              "3  “[W]e found absolutely no evidence ... that his allegations of having his hair cut at school exist.\"  \n",
              "4            “[People] think diversity has to do with race and gender, but there’s so much more to it.”  "
            ]
          },
          "metadata": {
            "tags": []
          },
          "execution_count": 68
        }
      ]
    },
    {
      "cell_type": "code",
      "metadata": {
        "colab": {
          "base_uri": "https://localhost:8080/"
        },
        "id": "08Azd7vdllys",
        "outputId": "26a0646a-a169-4a46-fd60-40b692c2158c"
      },
      "source": [
        "df.category.value_counts()"
      ],
      "execution_count": 90,
      "outputs": [
        {
          "output_type": "execute_result",
          "data": {
            "text/plain": [
              "POLITICS          2923\n",
              "ENTERTAINMENT     1448\n",
              "WORLD NEWS         548\n",
              "QUEER VOICES       440\n",
              "BLACK VOICES       383\n",
              "COMEDY             355\n",
              "SPORTS             321\n",
              "MEDIA              277\n",
              "WOMEN              224\n",
              "CRIME              170\n",
              "WEIRD NEWS         150\n",
              "BUSINESS            82\n",
              "LATINO VOICES       77\n",
              "IMPACT              72\n",
              "RELIGION            65\n",
              "TRAVEL              56\n",
              "TECH                51\n",
              "SCIENCE             39\n",
              "PARENTS             33\n",
              "EDUCATION           32\n",
              "GREEN               26\n",
              "STYLE               25\n",
              "HEALTHY LIVING      15\n",
              "ARTS & CULTURE       9\n",
              "TASTE                6\n",
              "Name: category, dtype: int64"
            ]
          },
          "metadata": {
            "tags": []
          },
          "execution_count": 90
        }
      ]
    },
    {
      "cell_type": "code",
      "metadata": {
        "id": "Z-NB4XueHWiJ"
      },
      "source": [
        "good_categories = []\n",
        "for category, freq in zip(df.category.value_counts().index,df.category.value_counts().values):\n",
        "    if freq >= 100:\n",
        "        good_categories.append(category)"
      ],
      "execution_count": 91,
      "outputs": []
    },
    {
      "cell_type": "code",
      "metadata": {
        "id": "p6StKlQvEM-0"
      },
      "source": [
        "df = df[df.category.isin(good_categories)]"
      ],
      "execution_count": 92,
      "outputs": []
    },
    {
      "cell_type": "code",
      "metadata": {
        "id": "r1nOL79sIBfJ",
        "outputId": "69c54afa-b1de-446d-b235-4edca7602234",
        "colab": {
          "base_uri": "https://localhost:8080/"
        }
      },
      "source": [
        "df.shape"
      ],
      "execution_count": 93,
      "outputs": [
        {
          "output_type": "execute_result",
          "data": {
            "text/plain": [
              "(7239, 4)"
            ]
          },
          "metadata": {
            "tags": []
          },
          "execution_count": 93
        }
      ]
    },
    {
      "cell_type": "markdown",
      "metadata": {
        "id": "RpzN_Qshllys"
      },
      "source": [
        "### 5.1 Encoding the Labels\n",
        "<a id=\"section51\"> </a>"
      ]
    },
    {
      "cell_type": "code",
      "metadata": {
        "colab": {
          "base_uri": "https://localhost:8080/"
        },
        "id": "-VRwWQ2wllys",
        "outputId": "8c2293c5-5ea1-41b0-9a39-176e528edc7c"
      },
      "source": [
        "possible_labels = df.category.unique()\n",
        "\n",
        "label_dict = {}\n",
        "for index, possible_label in enumerate(possible_labels):\n",
        "    label_dict[possible_label] = index\n",
        "label_dict"
      ],
      "execution_count": 95,
      "outputs": [
        {
          "output_type": "execute_result",
          "data": {
            "text/plain": [
              "{'BLACK VOICES': 3,\n",
              " 'COMEDY': 0,\n",
              " 'CRIME': 10,\n",
              " 'ENTERTAINMENT': 4,\n",
              " 'MEDIA': 5,\n",
              " 'POLITICS': 1,\n",
              " 'QUEER VOICES': 7,\n",
              " 'SPORTS': 6,\n",
              " 'WEIRD NEWS': 2,\n",
              " 'WOMEN': 8,\n",
              " 'WORLD NEWS': 9}"
            ]
          },
          "metadata": {
            "tags": []
          },
          "execution_count": 95
        }
      ]
    },
    {
      "cell_type": "code",
      "metadata": {
        "id": "tR3cKbHXllys"
      },
      "source": [
        "df['label'] = df.category.replace(label_dict)"
      ],
      "execution_count": 96,
      "outputs": []
    },
    {
      "cell_type": "markdown",
      "metadata": {
        "id": "u3xsjI2cllyt"
      },
      "source": [
        "### 5.2 Train and Validation Split\n",
        "<a id=\"section52\"> </a>\n",
        "\n",
        "Because the labels are imbalanced, we split the data set in a stratified fashion, using this as the class labels.\n",
        "\n",
        "Our labels distribution will look like this after the split.\n"
      ]
    },
    {
      "cell_type": "code",
      "metadata": {
        "colab": {
          "base_uri": "https://localhost:8080/",
          "height": 762
        },
        "id": "VbFxJmdBllyt",
        "outputId": "3ee165c9-717f-4a7a-c677-7a6d17b35256"
      },
      "source": [
        "from sklearn.model_selection import train_test_split\n",
        "\n",
        "X_train, X_val, y_train, y_val = train_test_split(df.index.values, \n",
        "                                                  df.label.values, \n",
        "                                                  test_size=0.15, \n",
        "                                                  random_state=42, \n",
        "                                                  stratify=df.label.values)\n",
        "\n",
        "df['data_type'] = ['not_set']*df.shape[0]\n",
        "\n",
        "df.loc[X_train, 'data_type'] = 'train'\n",
        "df.loc[X_val, 'data_type'] = 'val'\n",
        "\n",
        "df.groupby(['category', 'label', 'data_type']).count()"
      ],
      "execution_count": 97,
      "outputs": [
        {
          "output_type": "execute_result",
          "data": {
            "text/html": [
              "<div>\n",
              "<style scoped>\n",
              "    .dataframe tbody tr th:only-of-type {\n",
              "        vertical-align: middle;\n",
              "    }\n",
              "\n",
              "    .dataframe tbody tr th {\n",
              "        vertical-align: top;\n",
              "    }\n",
              "\n",
              "    .dataframe thead th {\n",
              "        text-align: right;\n",
              "    }\n",
              "</style>\n",
              "<table border=\"1\" class=\"dataframe\">\n",
              "  <thead>\n",
              "    <tr style=\"text-align: right;\">\n",
              "      <th></th>\n",
              "      <th></th>\n",
              "      <th></th>\n",
              "      <th>short_description</th>\n",
              "    </tr>\n",
              "    <tr>\n",
              "      <th>category</th>\n",
              "      <th>label</th>\n",
              "      <th>data_type</th>\n",
              "      <th></th>\n",
              "    </tr>\n",
              "  </thead>\n",
              "  <tbody>\n",
              "    <tr>\n",
              "      <th rowspan=\"2\" valign=\"top\">BLACK VOICES</th>\n",
              "      <th rowspan=\"2\" valign=\"top\">3</th>\n",
              "      <th>train</th>\n",
              "      <td>326</td>\n",
              "    </tr>\n",
              "    <tr>\n",
              "      <th>val</th>\n",
              "      <td>57</td>\n",
              "    </tr>\n",
              "    <tr>\n",
              "      <th rowspan=\"2\" valign=\"top\">COMEDY</th>\n",
              "      <th rowspan=\"2\" valign=\"top\">0</th>\n",
              "      <th>train</th>\n",
              "      <td>302</td>\n",
              "    </tr>\n",
              "    <tr>\n",
              "      <th>val</th>\n",
              "      <td>53</td>\n",
              "    </tr>\n",
              "    <tr>\n",
              "      <th rowspan=\"2\" valign=\"top\">CRIME</th>\n",
              "      <th rowspan=\"2\" valign=\"top\">10</th>\n",
              "      <th>train</th>\n",
              "      <td>144</td>\n",
              "    </tr>\n",
              "    <tr>\n",
              "      <th>val</th>\n",
              "      <td>26</td>\n",
              "    </tr>\n",
              "    <tr>\n",
              "      <th rowspan=\"2\" valign=\"top\">ENTERTAINMENT</th>\n",
              "      <th rowspan=\"2\" valign=\"top\">4</th>\n",
              "      <th>train</th>\n",
              "      <td>1231</td>\n",
              "    </tr>\n",
              "    <tr>\n",
              "      <th>val</th>\n",
              "      <td>217</td>\n",
              "    </tr>\n",
              "    <tr>\n",
              "      <th rowspan=\"2\" valign=\"top\">MEDIA</th>\n",
              "      <th rowspan=\"2\" valign=\"top\">5</th>\n",
              "      <th>train</th>\n",
              "      <td>235</td>\n",
              "    </tr>\n",
              "    <tr>\n",
              "      <th>val</th>\n",
              "      <td>42</td>\n",
              "    </tr>\n",
              "    <tr>\n",
              "      <th rowspan=\"2\" valign=\"top\">POLITICS</th>\n",
              "      <th rowspan=\"2\" valign=\"top\">1</th>\n",
              "      <th>train</th>\n",
              "      <td>2484</td>\n",
              "    </tr>\n",
              "    <tr>\n",
              "      <th>val</th>\n",
              "      <td>439</td>\n",
              "    </tr>\n",
              "    <tr>\n",
              "      <th rowspan=\"2\" valign=\"top\">QUEER VOICES</th>\n",
              "      <th rowspan=\"2\" valign=\"top\">7</th>\n",
              "      <th>train</th>\n",
              "      <td>374</td>\n",
              "    </tr>\n",
              "    <tr>\n",
              "      <th>val</th>\n",
              "      <td>66</td>\n",
              "    </tr>\n",
              "    <tr>\n",
              "      <th rowspan=\"2\" valign=\"top\">SPORTS</th>\n",
              "      <th rowspan=\"2\" valign=\"top\">6</th>\n",
              "      <th>train</th>\n",
              "      <td>273</td>\n",
              "    </tr>\n",
              "    <tr>\n",
              "      <th>val</th>\n",
              "      <td>48</td>\n",
              "    </tr>\n",
              "    <tr>\n",
              "      <th rowspan=\"2\" valign=\"top\">WEIRD NEWS</th>\n",
              "      <th rowspan=\"2\" valign=\"top\">2</th>\n",
              "      <th>train</th>\n",
              "      <td>128</td>\n",
              "    </tr>\n",
              "    <tr>\n",
              "      <th>val</th>\n",
              "      <td>22</td>\n",
              "    </tr>\n",
              "    <tr>\n",
              "      <th rowspan=\"2\" valign=\"top\">WOMEN</th>\n",
              "      <th rowspan=\"2\" valign=\"top\">8</th>\n",
              "      <th>train</th>\n",
              "      <td>190</td>\n",
              "    </tr>\n",
              "    <tr>\n",
              "      <th>val</th>\n",
              "      <td>34</td>\n",
              "    </tr>\n",
              "    <tr>\n",
              "      <th rowspan=\"2\" valign=\"top\">WORLD NEWS</th>\n",
              "      <th rowspan=\"2\" valign=\"top\">9</th>\n",
              "      <th>train</th>\n",
              "      <td>466</td>\n",
              "    </tr>\n",
              "    <tr>\n",
              "      <th>val</th>\n",
              "      <td>82</td>\n",
              "    </tr>\n",
              "  </tbody>\n",
              "</table>\n",
              "</div>"
            ],
            "text/plain": [
              "                               short_description\n",
              "category      label data_type                   \n",
              "BLACK VOICES  3     train                    326\n",
              "                    val                       57\n",
              "COMEDY        0     train                    302\n",
              "                    val                       53\n",
              "CRIME         10    train                    144\n",
              "                    val                       26\n",
              "ENTERTAINMENT 4     train                   1231\n",
              "                    val                      217\n",
              "MEDIA         5     train                    235\n",
              "                    val                       42\n",
              "POLITICS      1     train                   2484\n",
              "                    val                      439\n",
              "QUEER VOICES  7     train                    374\n",
              "                    val                       66\n",
              "SPORTS        6     train                    273\n",
              "                    val                       48\n",
              "WEIRD NEWS    2     train                    128\n",
              "                    val                       22\n",
              "WOMEN         8     train                    190\n",
              "                    val                       34\n",
              "WORLD NEWS    9     train                    466\n",
              "                    val                       82"
            ]
          },
          "metadata": {
            "tags": []
          },
          "execution_count": 97
        }
      ]
    },
    {
      "cell_type": "markdown",
      "metadata": {
        "id": "UuI3YxOlllyu"
      },
      "source": [
        "### 5.3. BertTokenizer and Encoding the Data\n",
        "<a id=\"section53\"> </a>\n",
        "\n",
        "- Constructs a BERT tokenizer. Based on WordPiece.\n",
        "- Instantiate a pre-trained BERT model configuration to encode our data.\n",
        "- To convert all the titles from text into encoded form, we use a function called batch_encode_plus , and we will proceed train and validation data separately.\n",
        "- The 1st parameter inside the above function is the title text.\n",
        "- add_special_tokens=True means the sequences will be encoded with the special tokens relative to their model.\n",
        "- When batching sequences together, we set return_attention_mask=True, so it will return the attention mask according to the specific tokenizer defined by the max_length attribute.\n",
        "- We also want to pad all the titles to certain maximum length.\n",
        "- We actually do not need to set max_length=256, but just to play it safe.\n",
        "- return_tensors='pt' to return PyTorch.\n",
        "- And then we need to split the data into input_ids, attention_masks and labels.\n",
        "- Finally, after we get encoded data set, we can create training data and validation data."
      ]
    },
    {
      "cell_type": "code",
      "metadata": {
        "colab": {
          "base_uri": "https://localhost:8080/",
          "height": 204
        },
        "id": "ivG--bE8llyu",
        "outputId": "cb332f5d-725e-4660-bd80-9d15cd098e7a"
      },
      "source": [
        "df.head()"
      ],
      "execution_count": 98,
      "outputs": [
        {
          "output_type": "execute_result",
          "data": {
            "text/html": [
              "<div>\n",
              "<style scoped>\n",
              "    .dataframe tbody tr th:only-of-type {\n",
              "        vertical-align: middle;\n",
              "    }\n",
              "\n",
              "    .dataframe tbody tr th {\n",
              "        vertical-align: top;\n",
              "    }\n",
              "\n",
              "    .dataframe thead th {\n",
              "        text-align: right;\n",
              "    }\n",
              "</style>\n",
              "<table border=\"1\" class=\"dataframe\">\n",
              "  <thead>\n",
              "    <tr style=\"text-align: right;\">\n",
              "      <th></th>\n",
              "      <th>category</th>\n",
              "      <th>short_description</th>\n",
              "      <th>label</th>\n",
              "      <th>data_type</th>\n",
              "    </tr>\n",
              "  </thead>\n",
              "  <tbody>\n",
              "    <tr>\n",
              "      <th>0</th>\n",
              "      <td>COMEDY</td>\n",
              "      <td>🎵 \"I wanna be sedated.\" 🎵</td>\n",
              "      <td>0</td>\n",
              "      <td>train</td>\n",
              "    </tr>\n",
              "    <tr>\n",
              "      <th>1</th>\n",
              "      <td>POLITICS</td>\n",
              "      <td>🎤 Don't wanna be an American idiot... 🎤</td>\n",
              "      <td>1</td>\n",
              "      <td>train</td>\n",
              "    </tr>\n",
              "    <tr>\n",
              "      <th>2</th>\n",
              "      <td>WEIRD NEWS</td>\n",
              "      <td>″My photo seems to have traveled far. I say it is because of the color of my hair,” she said.</td>\n",
              "      <td>2</td>\n",
              "      <td>train</td>\n",
              "    </tr>\n",
              "    <tr>\n",
              "      <th>3</th>\n",
              "      <td>BLACK VOICES</td>\n",
              "      <td>“[W]e found absolutely no evidence ... that his allegations of having his hair cut at school exist.\"</td>\n",
              "      <td>3</td>\n",
              "      <td>train</td>\n",
              "    </tr>\n",
              "    <tr>\n",
              "      <th>4</th>\n",
              "      <td>ENTERTAINMENT</td>\n",
              "      <td>“[People] think diversity has to do with race and gender, but there’s so much more to it.”</td>\n",
              "      <td>4</td>\n",
              "      <td>train</td>\n",
              "    </tr>\n",
              "  </tbody>\n",
              "</table>\n",
              "</div>"
            ],
            "text/plain": [
              "        category  \\\n",
              "0         COMEDY   \n",
              "1       POLITICS   \n",
              "2     WEIRD NEWS   \n",
              "3   BLACK VOICES   \n",
              "4  ENTERTAINMENT   \n",
              "\n",
              "                                                                                      short_description  \\\n",
              "0                                                                             🎵 \"I wanna be sedated.\" 🎵   \n",
              "1                                                               🎤 Don't wanna be an American idiot... 🎤   \n",
              "2         ″My photo seems to have traveled far. I say it is because of the color of my hair,” she said.   \n",
              "3  “[W]e found absolutely no evidence ... that his allegations of having his hair cut at school exist.\"   \n",
              "4            “[People] think diversity has to do with race and gender, but there’s so much more to it.”   \n",
              "\n",
              "   label data_type  \n",
              "0      0     train  \n",
              "1      1     train  \n",
              "2      2     train  \n",
              "3      3     train  \n",
              "4      4     train  "
            ]
          },
          "metadata": {
            "tags": []
          },
          "execution_count": 98
        }
      ]
    },
    {
      "cell_type": "code",
      "metadata": {
        "id": "Sx9QXOhfllyx"
      },
      "source": [
        "df['short_description'] = df['short_description'].astype(str)"
      ],
      "execution_count": 99,
      "outputs": []
    },
    {
      "cell_type": "code",
      "metadata": {
        "colab": {
          "base_uri": "https://localhost:8080/"
        },
        "id": "fiK7G60kllyy",
        "outputId": "c54672a0-43b3-4329-da1e-475a683bd692"
      },
      "source": [
        "tokenizer = BertTokenizer.from_pretrained('bert-base-uncased', \n",
        "                                          do_lower_case=True)\n",
        "                                          \n",
        "encoded_data_train = tokenizer.batch_encode_plus(\n",
        "    df[df.data_type=='train'].short_description.values, \n",
        "    add_special_tokens=True, \n",
        "    return_attention_mask=True, \n",
        "    pad_to_max_length=True, \n",
        "    max_length=256, \n",
        "    return_tensors='pt'\n",
        ")\n",
        "\n",
        "encoded_data_val = tokenizer.batch_encode_plus(\n",
        "    df[df.data_type=='val'].short_description.values, \n",
        "    add_special_tokens=True, \n",
        "    return_attention_mask=True, \n",
        "    pad_to_max_length=True, \n",
        "    max_length=256, \n",
        "    return_tensors='pt'\n",
        ")\n",
        "\n",
        "\n",
        "input_ids_train = encoded_data_train['input_ids']\n",
        "attention_masks_train = encoded_data_train['attention_mask']\n",
        "labels_train = torch.tensor(df[df.data_type=='train'].label.values)\n",
        "\n",
        "input_ids_val = encoded_data_val['input_ids']\n",
        "attention_masks_val = encoded_data_val['attention_mask']\n",
        "labels_val = torch.tensor(df[df.data_type=='val'].label.values)\n",
        "\n",
        "dataset_train = TensorDataset(input_ids_train, attention_masks_train, labels_train)\n",
        "dataset_val = TensorDataset(input_ids_val, attention_masks_val, labels_val)"
      ],
      "execution_count": 100,
      "outputs": [
        {
          "output_type": "stream",
          "text": [
            "Truncation was not explicitly activated but `max_length` is provided a specific value, please use `truncation=True` to explicitly truncate examples to max length. Defaulting to 'longest_first' truncation strategy. If you encode pairs of sequences (GLUE-style) with the tokenizer you can select this strategy more precisely by providing a specific strategy to `truncation`.\n",
            "/usr/local/lib/python3.7/dist-packages/transformers/tokenization_utils_base.py:2079: FutureWarning:\n",
            "\n",
            "The `pad_to_max_length` argument is deprecated and will be removed in a future version, use `padding=True` or `padding='longest'` to pad to the longest sequence in the batch, or use `padding='max_length'` to pad to a max length. In this case, you can give a specific length with `max_length` (e.g. `max_length=45`) or leave max_length to None to pad to the maximal input size of the model (e.g. 512 for Bert).\n",
            "\n"
          ],
          "name": "stderr"
        }
      ]
    },
    {
      "cell_type": "markdown",
      "metadata": {
        "id": "FhCjF6gfllyy"
      },
      "source": [
        "### 5.4 BERT Pre-trained Model\n",
        "<a id=\"section54\"> </a>\n",
        "\n",
        "We are treating each title as its unique sequence, so one sequence will be classified to one of the five labels (i.e. conferences).\n",
        "- bert-base-uncased is a smaller pre-trained model.\n",
        "- Using num_labels to indicate the number of output labels.\n",
        "- We don’t really care about output_attentions.\n",
        "- We also don’t need output_hidden_states.\n"
      ]
    },
    {
      "cell_type": "code",
      "metadata": {
        "colab": {
          "base_uri": "https://localhost:8080/"
        },
        "id": "6yX1GfIgllyy",
        "outputId": "666c7650-7b72-42e2-d9e7-66e3bd11864d"
      },
      "source": [
        "model = BertForSequenceClassification.from_pretrained(\"bert-base-uncased\",\n",
        "                                                      num_labels=len(label_dict),\n",
        "                                                      output_attentions=False,\n",
        "                                                      output_hidden_states=False)"
      ],
      "execution_count": 101,
      "outputs": [
        {
          "output_type": "stream",
          "text": [
            "Some weights of the model checkpoint at bert-base-uncased were not used when initializing BertForSequenceClassification: ['cls.predictions.bias', 'cls.predictions.transform.dense.weight', 'cls.predictions.transform.dense.bias', 'cls.predictions.decoder.weight', 'cls.seq_relationship.weight', 'cls.seq_relationship.bias', 'cls.predictions.transform.LayerNorm.weight', 'cls.predictions.transform.LayerNorm.bias']\n",
            "- This IS expected if you are initializing BertForSequenceClassification from the checkpoint of a model trained on another task or with another architecture (e.g. initializing a BertForSequenceClassification model from a BertForPreTraining model).\n",
            "- This IS NOT expected if you are initializing BertForSequenceClassification from the checkpoint of a model that you expect to be exactly identical (initializing a BertForSequenceClassification model from a BertForSequenceClassification model).\n",
            "Some weights of BertForSequenceClassification were not initialized from the model checkpoint at bert-base-uncased and are newly initialized: ['classifier.weight', 'classifier.bias']\n",
            "You should probably TRAIN this model on a down-stream task to be able to use it for predictions and inference.\n"
          ],
          "name": "stderr"
        }
      ]
    },
    {
      "cell_type": "code",
      "metadata": {
        "colab": {
          "base_uri": "https://localhost:8080/"
        },
        "id": "X3ym_z2cllyz",
        "outputId": "1c8fc360-7b88-4a58-b6e6-30bb4d2b7820"
      },
      "source": [
        "device = torch.device('cuda' if torch.cuda.is_available() else 'cpu')\n",
        "model.to(device)\n",
        "\n",
        "print(device)"
      ],
      "execution_count": 102,
      "outputs": [
        {
          "output_type": "stream",
          "text": [
            "cuda\n"
          ],
          "name": "stdout"
        }
      ]
    },
    {
      "cell_type": "markdown",
      "metadata": {
        "id": "dNwcgJ_Illy2"
      },
      "source": [
        "### 5.5 Data Loaders\n",
        "<a id=\"section55\"> </a>\n",
        "\n",
        "- `DataLoader` combines a dataset and a `sampler`, and provides an iterable over the given dataset.\n",
        "- We use `RandomSampler` for training and `SequentialSampler` for validation.\n",
        "- Given the limited memory in my environment, I set `batch_size=3`."
      ]
    },
    {
      "cell_type": "code",
      "metadata": {
        "id": "62Naxx4clly2"
      },
      "source": [
        "from torch.utils.data import DataLoader, RandomSampler, SequentialSampler\n",
        "\n",
        "batch_size = 12\n",
        "\n",
        "dataloader_train = DataLoader(dataset_train, \n",
        "                              sampler=RandomSampler(dataset_train), \n",
        "                              batch_size=batch_size)\n",
        "\n",
        "dataloader_validation = DataLoader(dataset_val, \n",
        "                                   sampler=SequentialSampler(dataset_val), \n",
        "                                   batch_size=batch_size)"
      ],
      "execution_count": 103,
      "outputs": []
    },
    {
      "cell_type": "markdown",
      "metadata": {
        "id": "vPzPq3Gblly2"
      },
      "source": [
        "### 5.6 Optimizer & Scheduler\n",
        "<a id=\"section56\"> </a>\n",
        "\n",
        "- To construct an optimizer, we have to give it an iterable containing the parameters to optimize. Then, we can specify optimizer-specific options such as the learning rate, epsilon, etc.\n",
        "- I found `epochs=5` works well for this data set.\n",
        "- Create a schedule with a learning rate that decreases linearly from the initial learning rate set in the optimizer to 0, after a warmup period during which it increases linearly from 0 to the initial learning rate set in the optimizer."
      ]
    },
    {
      "cell_type": "code",
      "metadata": {
        "id": "WyNYury2lly3"
      },
      "source": [
        "from transformers import AdamW, get_linear_schedule_with_warmup\n",
        "\n",
        "optimizer = AdamW(model.parameters(),\n",
        "                  lr=1e-5, \n",
        "                  eps=1e-8)\n",
        "                  \n",
        "epochs = 5\n",
        "\n",
        "scheduler = get_linear_schedule_with_warmup(optimizer, \n",
        "                                            num_warmup_steps=0,\n",
        "                                            num_training_steps=len(dataloader_train)*epochs)"
      ],
      "execution_count": 104,
      "outputs": []
    },
    {
      "cell_type": "markdown",
      "metadata": {
        "id": "Qhsy-Dmllly3"
      },
      "source": [
        "### 5.7 Performance Metrics\n",
        "<a id=\"section57\"> </a>\n",
        "\n",
        "We will use f1 score and accuracy per class as performance metrics."
      ]
    },
    {
      "cell_type": "code",
      "metadata": {
        "id": "1eSW2xEAlly3"
      },
      "source": [
        "from sklearn.metrics import f1_score\n",
        "\n",
        "def f1_score_func(preds, labels):\n",
        "    preds_flat = np.argmax(preds, axis=1).flatten()\n",
        "    labels_flat = labels.flatten()\n",
        "    return f1_score(labels_flat, preds_flat, average='weighted')\n",
        "\n",
        "def accuracy_per_class(preds, labels):\n",
        "    label_dict_inverse = {v: k for k, v in label_dict.items()}\n",
        "    \n",
        "    preds_flat = np.argmax(preds, axis=1).flatten()\n",
        "    labels_flat = labels.flatten()\n",
        "\n",
        "    for label in np.unique(labels_flat):\n",
        "        y_preds = preds_flat[labels_flat==label]\n",
        "        y_true = labels_flat[labels_flat==label]\n",
        "        print(f'Class: {label_dict_inverse[label]}')\n",
        "        print(f'Accuracy: {len(y_preds[y_preds==label])}/{len(y_true)}\\n')"
      ],
      "execution_count": 105,
      "outputs": []
    },
    {
      "cell_type": "markdown",
      "metadata": {
        "id": "HXcpNYeFlly4"
      },
      "source": [
        "### 5.8 Training Loop\n",
        "<a id=\"section58\"> </a>"
      ]
    },
    {
      "cell_type": "code",
      "metadata": {
        "colab": {
          "base_uri": "https://localhost:8080/",
          "height": 491,
          "referenced_widgets": [
            "7dfdb3cf9fe24dcbbf3bcc22433c1e96",
            "f0a3984bd83f45009f1e7e37d12549a0",
            "e2dc1909b57e481e94f4c7c27b9bb164",
            "605b7a6d38ca41ed8b9b89ea8dceac9d",
            "e621e3b651c94751a8eba35b83330137",
            "d72fc011b58b4a46be34729e6dcdae41",
            "4865e234663d4a1a85e7c95df304eaea",
            "1a440a12c3f94bba884ea534074c3aee",
            "07e30277c6c145fcaf09f41836fb5aa3",
            "2500e0d9821c498dbd84597cf3303712",
            "39588d67a01940f093538f84e0a246b6",
            "5ddc09eef6784136b21e5fe04b228f43",
            "affa18a2ef8c4fe5ae172db82fdd1dd2",
            "cf4647e2692840a894e09b70a242a623",
            "254b226ac1aa46ccbc2e445238f722cb",
            "88457f1338334dfcb6c92917dfdd1178",
            "fce0987f39a1463fafc445dfd5f649bf",
            "aef3abc8d584408b83a7c7ed6e05accd",
            "07e32966223c4ec49fe757e9e2b754e3",
            "a59b4aeaa5da4090b8006bc9a0fa86de",
            "4fe4d9fe8b0140049c09849714ce9a77",
            "f5268ab1f2e34193844563184b93d384",
            "3853aa53f8c6439eb531422cb176a59d",
            "77a595eeef8e4dfdbdfe891c9f8c787c",
            "f8ef18c84cda46458d3cb96c0bca7b47",
            "fb892127a7824cccbfd7daf16126fbcc",
            "77dcee571bee49d69a3347b7d2ab38fb",
            "b87fd85d3b54451bb315d33112d086b2",
            "11f618c6e42c49ab84e234dfede66df6",
            "a5996320b6564be8a33f4dcd8af0f561",
            "a31f134f05274218b073b75933c0e75d",
            "dbbb923be9eb454ca919239d7bd5ffe8",
            "cf85a7386eec4004b10f8792e09c09bf",
            "2605d2bfb4af413b96c0bf9f422051a4",
            "59654014d0c64c19b01db3bfda940bf0",
            "a5dcc9b298e340c5a756958ef0d7d51f",
            "d23ede0cc07c4c62943287ee9ee13ddb",
            "ec98b2a670df41b3bbf379a1d377edcc",
            "0a9fe775e96141cb97ee054da782f1f8",
            "14dfe7d6ed004ceea019e66e05b31227",
            "795d1b903c5b4370a111007633dbcc94",
            "9cca2b8ae2b640cebd6980ccbf7b8644",
            "e22b4b3516bc443fb2be9a3b018bcd36",
            "af89ae8a6ea84999b382608aebb7bec9",
            "3f3de306ef9d47a18307fb45539bde72",
            "d13e2b9da41d4896871f8fbc2081942d",
            "240a80c999a1400288daeb0c67026f74",
            "b9424048d769443b8fb659256ac9dc7c"
          ]
        },
        "id": "zjmYT1Ewlly4",
        "outputId": "af6411ab-8b26-44fb-b086-00337af4b8bb"
      },
      "source": [
        "import random\n",
        "import numpy as np\n",
        "\n",
        "seed_val = 17\n",
        "random.seed(seed_val)\n",
        "np.random.seed(seed_val)\n",
        "torch.manual_seed(seed_val)\n",
        "torch.cuda.manual_seed_all(seed_val)\n",
        "\n",
        "def evaluate(dataloader_val):\n",
        "\n",
        "    model.eval()\n",
        "    \n",
        "    loss_val_total = 0\n",
        "    predictions, true_vals = [], []\n",
        "    \n",
        "    for batch in dataloader_val:\n",
        "        \n",
        "        batch = tuple(b.to(device) for b in batch)\n",
        "        \n",
        "        inputs = {'input_ids':      batch[0],\n",
        "                  'attention_mask': batch[1],\n",
        "                  'labels':         batch[2],\n",
        "                 }\n",
        "\n",
        "        with torch.no_grad():        \n",
        "            outputs = model(**inputs)\n",
        "            \n",
        "        loss = outputs[0]\n",
        "        logits = outputs[1]\n",
        "        loss_val_total += loss.item()\n",
        "\n",
        "        logits = logits.detach().cpu().numpy()\n",
        "        label_ids = inputs['labels'].cpu().numpy()\n",
        "        predictions.append(logits)\n",
        "        true_vals.append(label_ids)\n",
        "    \n",
        "    loss_val_avg = loss_val_total/len(dataloader_val) \n",
        "    \n",
        "    predictions = np.concatenate(predictions, axis=0)\n",
        "    true_vals = np.concatenate(true_vals, axis=0)\n",
        "            \n",
        "    return loss_val_avg, predictions, true_vals\n",
        "    \n",
        "for epoch in tqdm(range(1, epochs+1)):\n",
        "    \n",
        "    model.train()\n",
        "    \n",
        "    loss_train_total = 0\n",
        "\n",
        "    progress_bar = tqdm(dataloader_train, desc='Epoch {:1d}'.format(epoch), leave=False, disable=False)\n",
        "    for batch in progress_bar:\n",
        "\n",
        "        model.zero_grad()\n",
        "        \n",
        "        batch = tuple(b.to(device) for b in batch)\n",
        "        \n",
        "        inputs = {'input_ids':      batch[0],\n",
        "                  'attention_mask': batch[1],\n",
        "                  'labels':         batch[2],\n",
        "                 }       \n",
        "\n",
        "        outputs = model(**inputs)\n",
        "        \n",
        "        loss = outputs[0]\n",
        "        loss_train_total += loss.item()\n",
        "        loss.backward()\n",
        "\n",
        "        torch.nn.utils.clip_grad_norm_(model.parameters(), 1.0)\n",
        "\n",
        "        optimizer.step()\n",
        "        scheduler.step()\n",
        "        \n",
        "        progress_bar.set_postfix({'training_loss': '{:.3f}'.format(loss.item()/len(batch))})\n",
        "         \n",
        "        \n",
        "    torch.save(model.state_dict(), f'finetuned_BERT_epoch_{epoch}.model')\n",
        "        \n",
        "    tqdm.write(f'\\nEpoch {epoch}')\n",
        "    \n",
        "    loss_train_avg = loss_train_total/len(dataloader_train)            \n",
        "    tqdm.write(f'Training loss: {loss_train_avg}')\n",
        "    \n",
        "    val_loss, predictions, true_vals = evaluate(dataloader_validation)\n",
        "    val_f1 = f1_score_func(predictions, true_vals)\n",
        "    tqdm.write(f'Validation loss: {val_loss}')\n",
        "    tqdm.write(f'F1 Score (Weighted): {val_f1}')"
      ],
      "execution_count": 106,
      "outputs": [
        {
          "output_type": "display_data",
          "data": {
            "application/vnd.jupyter.widget-view+json": {
              "model_id": "7dfdb3cf9fe24dcbbf3bcc22433c1e96",
              "version_minor": 0,
              "version_major": 2
            },
            "text/plain": [
              "HBox(children=(FloatProgress(value=0.0, max=5.0), HTML(value='')))"
            ]
          },
          "metadata": {
            "tags": []
          }
        },
        {
          "output_type": "display_data",
          "data": {
            "application/vnd.jupyter.widget-view+json": {
              "model_id": "07e30277c6c145fcaf09f41836fb5aa3",
              "version_minor": 0,
              "version_major": 2
            },
            "text/plain": [
              "HBox(children=(FloatProgress(value=0.0, description='Epoch 1', max=513.0, style=ProgressStyle(description_widt…"
            ]
          },
          "metadata": {
            "tags": []
          }
        },
        {
          "output_type": "stream",
          "text": [
            "\r\r\r\n",
            "Epoch 1\n",
            "Training loss: 1.5620516769834893\n",
            "Validation loss: 1.335740640268221\n",
            "F1 Score (Weighted): 0.5160920249289354\n"
          ],
          "name": "stdout"
        },
        {
          "output_type": "display_data",
          "data": {
            "application/vnd.jupyter.widget-view+json": {
              "model_id": "fce0987f39a1463fafc445dfd5f649bf",
              "version_minor": 0,
              "version_major": 2
            },
            "text/plain": [
              "HBox(children=(FloatProgress(value=0.0, description='Epoch 2', max=513.0, style=ProgressStyle(description_widt…"
            ]
          },
          "metadata": {
            "tags": []
          }
        },
        {
          "output_type": "stream",
          "text": [
            "\r\r\r\n",
            "Epoch 2\n",
            "Training loss: 1.1542239864202504\n",
            "Validation loss: 1.2273200372090707\n",
            "F1 Score (Weighted): 0.5759235871261247\n"
          ],
          "name": "stdout"
        },
        {
          "output_type": "display_data",
          "data": {
            "application/vnd.jupyter.widget-view+json": {
              "model_id": "f8ef18c84cda46458d3cb96c0bca7b47",
              "version_minor": 0,
              "version_major": 2
            },
            "text/plain": [
              "HBox(children=(FloatProgress(value=0.0, description='Epoch 3', max=513.0, style=ProgressStyle(description_widt…"
            ]
          },
          "metadata": {
            "tags": []
          }
        },
        {
          "output_type": "stream",
          "text": [
            "\r\r\r\n",
            "Epoch 3\n",
            "Training loss: 0.9454378672161995\n",
            "Validation loss: 1.2469884347129654\n",
            "F1 Score (Weighted): 0.590377783763116\n"
          ],
          "name": "stdout"
        },
        {
          "output_type": "display_data",
          "data": {
            "application/vnd.jupyter.widget-view+json": {
              "model_id": "cf85a7386eec4004b10f8792e09c09bf",
              "version_minor": 0,
              "version_major": 2
            },
            "text/plain": [
              "HBox(children=(FloatProgress(value=0.0, description='Epoch 4', max=513.0, style=ProgressStyle(description_widt…"
            ]
          },
          "metadata": {
            "tags": []
          }
        },
        {
          "output_type": "stream",
          "text": [
            "\r\r\r\n",
            "Epoch 4\n",
            "Training loss: 0.7973711476398025\n",
            "Validation loss: 1.2477638993289444\n",
            "F1 Score (Weighted): 0.5944456094614607\n"
          ],
          "name": "stdout"
        },
        {
          "output_type": "display_data",
          "data": {
            "application/vnd.jupyter.widget-view+json": {
              "model_id": "795d1b903c5b4370a111007633dbcc94",
              "version_minor": 0,
              "version_major": 2
            },
            "text/plain": [
              "HBox(children=(FloatProgress(value=0.0, description='Epoch 5', max=513.0, style=ProgressStyle(description_widt…"
            ]
          },
          "metadata": {
            "tags": []
          }
        },
        {
          "output_type": "stream",
          "text": [
            "\r\r\r\n",
            "Epoch 5\n",
            "Training loss: 0.7048962778515286\n",
            "Validation loss: 1.2734135605476715\n",
            "F1 Score (Weighted): 0.5918700209803073\n",
            "\n"
          ],
          "name": "stdout"
        }
      ]
    },
    {
      "cell_type": "markdown",
      "metadata": {
        "id": "qz2_MDpzlly5"
      },
      "source": [
        "### 5.9 Loading and Evaluating the Model\n",
        "\n",
        "<a id=\"section59\"> </a>"
      ]
    },
    {
      "cell_type": "code",
      "metadata": {
        "colab": {
          "base_uri": "https://localhost:8080/"
        },
        "id": "__zZDKdWlly5",
        "outputId": "39c7cfa8-5c74-4a91-a501-0b86d1d1f21f"
      },
      "source": [
        "model = BertForSequenceClassification.from_pretrained(\"bert-base-uncased\",\n",
        "                                                      num_labels=len(label_dict),\n",
        "                                                      output_attentions=False,\n",
        "                                                      output_hidden_states=False)\n",
        "\n",
        "model.to(device)\n",
        "\n",
        "model.load_state_dict(torch.load('finetuned_BERT_epoch_4.model', map_location=torch.device('cpu')))\n",
        "\n",
        "_, predictions, true_vals = evaluate(dataloader_validation)\n",
        "accuracy_per_class(predictions, true_vals)"
      ],
      "execution_count": 107,
      "outputs": [
        {
          "output_type": "stream",
          "text": [
            "Some weights of the model checkpoint at bert-base-uncased were not used when initializing BertForSequenceClassification: ['cls.predictions.bias', 'cls.predictions.transform.dense.weight', 'cls.predictions.transform.dense.bias', 'cls.predictions.decoder.weight', 'cls.seq_relationship.weight', 'cls.seq_relationship.bias', 'cls.predictions.transform.LayerNorm.weight', 'cls.predictions.transform.LayerNorm.bias']\n",
            "- This IS expected if you are initializing BertForSequenceClassification from the checkpoint of a model trained on another task or with another architecture (e.g. initializing a BertForSequenceClassification model from a BertForPreTraining model).\n",
            "- This IS NOT expected if you are initializing BertForSequenceClassification from the checkpoint of a model that you expect to be exactly identical (initializing a BertForSequenceClassification model from a BertForSequenceClassification model).\n",
            "Some weights of BertForSequenceClassification were not initialized from the model checkpoint at bert-base-uncased and are newly initialized: ['classifier.weight', 'classifier.bias']\n",
            "You should probably TRAIN this model on a down-stream task to be able to use it for predictions and inference.\n"
          ],
          "name": "stderr"
        },
        {
          "output_type": "stream",
          "text": [
            "Class: COMEDY\n",
            "Accuracy: 19/53\n",
            "\n",
            "Class: POLITICS\n",
            "Accuracy: 350/439\n",
            "\n",
            "Class: WEIRD NEWS\n",
            "Accuracy: 1/22\n",
            "\n",
            "Class: BLACK VOICES\n",
            "Accuracy: 13/57\n",
            "\n",
            "Class: ENTERTAINMENT\n",
            "Accuracy: 158/217\n",
            "\n",
            "Class: MEDIA\n",
            "Accuracy: 16/42\n",
            "\n",
            "Class: SPORTS\n",
            "Accuracy: 32/48\n",
            "\n",
            "Class: QUEER VOICES\n",
            "Accuracy: 16/66\n",
            "\n",
            "Class: WOMEN\n",
            "Accuracy: 3/34\n",
            "\n",
            "Class: WORLD NEWS\n",
            "Accuracy: 50/82\n",
            "\n",
            "Class: CRIME\n",
            "Accuracy: 9/26\n",
            "\n"
          ],
          "name": "stdout"
        }
      ]
    }
  ]
}